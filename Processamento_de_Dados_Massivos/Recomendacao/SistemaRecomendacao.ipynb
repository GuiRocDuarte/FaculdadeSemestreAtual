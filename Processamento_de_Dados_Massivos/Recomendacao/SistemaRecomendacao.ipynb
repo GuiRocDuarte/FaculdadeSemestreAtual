{
  "nbformat": 4,
  "nbformat_minor": 0,
  "metadata": {
    "colab": {
      "provenance": []
    },
    "kernelspec": {
      "name": "python3",
      "display_name": "Python 3"
    },
    "language_info": {
      "name": "python"
    }
  },
  "cells": [
    {
      "cell_type": "markdown",
      "metadata": {
        "id": "n1w12WFSi7V7"
      },
      "source": [
        "***\n",
        "## **<center>Sistemas de Recomendação - *Content Based*</center>**\n",
        "\n",
        "\n",
        "**<center>Processamento de Dados Massivos</center>**\n",
        "***\n",
        "\n",
        "<br>\n",
        "Este notebook tem o objetivo de apresentar o roteiro para a construção de um sistema de recomendação que utiliza informações sobre o filme para a recomendação a um usuário. Esse tipo de sistema de recomendação é  chamado de \"Content Based\". Será utilizado o dataset disponibilizado pelo TMDb, encontrado no [Kaggle](https://www.kaggle.com/datasets/juzershakir/tmdb-movies-dataset/)"
      ]
    },
    {
      "cell_type": "code",
      "metadata": {
        "id": "BQ0HVnT224b5"
      },
      "source": [
        "import pandas as pd\n",
        "\n",
        "# carga dos dados\n",
        "movies = pd.read_csv('https://raw.githubusercontent.com/alexvaroz/data_science_alem_do_basico/master/tmdb_movies_data.csv')"
      ],
      "execution_count": null,
      "outputs": []
    },
    {
      "cell_type": "code",
      "metadata": {
        "id": "nUxFQNjH59R-",
        "colab": {
          "base_uri": "https://localhost:8080/"
        },
        "outputId": "f8de34a4-d12b-43c2-fd3c-1b37b52950f4"
      },
      "source": [
        "movies.shape"
      ],
      "execution_count": null,
      "outputs": [
        {
          "output_type": "execute_result",
          "data": {
            "text/plain": [
              "(10866, 21)"
            ]
          },
          "metadata": {},
          "execution_count": 2
        }
      ]
    },
    {
      "cell_type": "code",
      "metadata": {
        "id": "GxIVOl016Dd8",
        "colab": {
          "base_uri": "https://localhost:8080/",
          "height": 655
        },
        "outputId": "dade46a1-3097-46cb-9db9-4e5c9f1fed77"
      },
      "source": [
        "movies.head()\n"
      ],
      "execution_count": null,
      "outputs": [
        {
          "output_type": "execute_result",
          "data": {
            "text/plain": [
              "       id    imdb_id  popularity     budget     revenue  \\\n",
              "0  135397  tt0369610   32.985763  150000000  1513528810   \n",
              "1   76341  tt1392190   28.419936  150000000   378436354   \n",
              "2  262500  tt2908446   13.112507  110000000   295238201   \n",
              "3  140607  tt2488496   11.173104  200000000  2068178225   \n",
              "4  168259  tt2820852    9.335014  190000000  1506249360   \n",
              "\n",
              "                 original_title  \\\n",
              "0                Jurassic World   \n",
              "1            Mad Max: Fury Road   \n",
              "2                     Insurgent   \n",
              "3  Star Wars: The Force Awakens   \n",
              "4                     Furious 7   \n",
              "\n",
              "                                                cast  \\\n",
              "0  Chris Pratt|Bryce Dallas Howard|Irrfan Khan|Vi...   \n",
              "1  Tom Hardy|Charlize Theron|Hugh Keays-Byrne|Nic...   \n",
              "2  Shailene Woodley|Theo James|Kate Winslet|Ansel...   \n",
              "3  Harrison Ford|Mark Hamill|Carrie Fisher|Adam D...   \n",
              "4  Vin Diesel|Paul Walker|Jason Statham|Michelle ...   \n",
              "\n",
              "                                            homepage          director  \\\n",
              "0                      http://www.jurassicworld.com/   Colin Trevorrow   \n",
              "1                        http://www.madmaxmovie.com/     George Miller   \n",
              "2     http://www.thedivergentseries.movie/#insurgent  Robert Schwentke   \n",
              "3  http://www.starwars.com/films/star-wars-episod...       J.J. Abrams   \n",
              "4                           http://www.furious7.com/         James Wan   \n",
              "\n",
              "                         tagline  ...  \\\n",
              "0              The park is open.  ...   \n",
              "1             What a Lovely Day.  ...   \n",
              "2     One Choice Can Destroy You  ...   \n",
              "3  Every generation has a story.  ...   \n",
              "4            Vengeance Hits Home  ...   \n",
              "\n",
              "                                            overview runtime  \\\n",
              "0  Twenty-two years after the events of Jurassic ...     124   \n",
              "1  An apocalyptic story set in the furthest reach...     120   \n",
              "2  Beatrice Prior must confront her inner demons ...     119   \n",
              "3  Thirty years after defeating the Galactic Empi...     136   \n",
              "4  Deckard Shaw seeks revenge against Dominic Tor...     137   \n",
              "\n",
              "                                      genres  \\\n",
              "0  Action|Adventure|Science Fiction|Thriller   \n",
              "1  Action|Adventure|Science Fiction|Thriller   \n",
              "2         Adventure|Science Fiction|Thriller   \n",
              "3   Action|Adventure|Science Fiction|Fantasy   \n",
              "4                      Action|Crime|Thriller   \n",
              "\n",
              "                                production_companies release_date vote_count  \\\n",
              "0  Universal Studios|Amblin Entertainment|Legenda...     6/9/2015       5562   \n",
              "1  Village Roadshow Pictures|Kennedy Miller Produ...    5/13/2015       6185   \n",
              "2  Summit Entertainment|Mandeville Films|Red Wago...    3/18/2015       2480   \n",
              "3          Lucasfilm|Truenorth Productions|Bad Robot   12/15/2015       5292   \n",
              "4  Universal Pictures|Original Film|Media Rights ...     4/1/2015       2947   \n",
              "\n",
              "   vote_average  release_year   budget_adj   revenue_adj  \n",
              "0           6.5          2015  137999939.3  1.392446e+09  \n",
              "1           7.1          2015  137999939.3  3.481613e+08  \n",
              "2           6.3          2015  101199955.5  2.716190e+08  \n",
              "3           7.5          2015  183999919.0  1.902723e+09  \n",
              "4           7.3          2015  174799923.1  1.385749e+09  \n",
              "\n",
              "[5 rows x 21 columns]"
            ],
            "text/html": [
              "\n",
              "  <div id=\"df-bba16799-37b0-476a-872f-b559dfb8d154\" class=\"colab-df-container\">\n",
              "    <div>\n",
              "<style scoped>\n",
              "    .dataframe tbody tr th:only-of-type {\n",
              "        vertical-align: middle;\n",
              "    }\n",
              "\n",
              "    .dataframe tbody tr th {\n",
              "        vertical-align: top;\n",
              "    }\n",
              "\n",
              "    .dataframe thead th {\n",
              "        text-align: right;\n",
              "    }\n",
              "</style>\n",
              "<table border=\"1\" class=\"dataframe\">\n",
              "  <thead>\n",
              "    <tr style=\"text-align: right;\">\n",
              "      <th></th>\n",
              "      <th>id</th>\n",
              "      <th>imdb_id</th>\n",
              "      <th>popularity</th>\n",
              "      <th>budget</th>\n",
              "      <th>revenue</th>\n",
              "      <th>original_title</th>\n",
              "      <th>cast</th>\n",
              "      <th>homepage</th>\n",
              "      <th>director</th>\n",
              "      <th>tagline</th>\n",
              "      <th>...</th>\n",
              "      <th>overview</th>\n",
              "      <th>runtime</th>\n",
              "      <th>genres</th>\n",
              "      <th>production_companies</th>\n",
              "      <th>release_date</th>\n",
              "      <th>vote_count</th>\n",
              "      <th>vote_average</th>\n",
              "      <th>release_year</th>\n",
              "      <th>budget_adj</th>\n",
              "      <th>revenue_adj</th>\n",
              "    </tr>\n",
              "  </thead>\n",
              "  <tbody>\n",
              "    <tr>\n",
              "      <th>0</th>\n",
              "      <td>135397</td>\n",
              "      <td>tt0369610</td>\n",
              "      <td>32.985763</td>\n",
              "      <td>150000000</td>\n",
              "      <td>1513528810</td>\n",
              "      <td>Jurassic World</td>\n",
              "      <td>Chris Pratt|Bryce Dallas Howard|Irrfan Khan|Vi...</td>\n",
              "      <td>http://www.jurassicworld.com/</td>\n",
              "      <td>Colin Trevorrow</td>\n",
              "      <td>The park is open.</td>\n",
              "      <td>...</td>\n",
              "      <td>Twenty-two years after the events of Jurassic ...</td>\n",
              "      <td>124</td>\n",
              "      <td>Action|Adventure|Science Fiction|Thriller</td>\n",
              "      <td>Universal Studios|Amblin Entertainment|Legenda...</td>\n",
              "      <td>6/9/2015</td>\n",
              "      <td>5562</td>\n",
              "      <td>6.5</td>\n",
              "      <td>2015</td>\n",
              "      <td>137999939.3</td>\n",
              "      <td>1.392446e+09</td>\n",
              "    </tr>\n",
              "    <tr>\n",
              "      <th>1</th>\n",
              "      <td>76341</td>\n",
              "      <td>tt1392190</td>\n",
              "      <td>28.419936</td>\n",
              "      <td>150000000</td>\n",
              "      <td>378436354</td>\n",
              "      <td>Mad Max: Fury Road</td>\n",
              "      <td>Tom Hardy|Charlize Theron|Hugh Keays-Byrne|Nic...</td>\n",
              "      <td>http://www.madmaxmovie.com/</td>\n",
              "      <td>George Miller</td>\n",
              "      <td>What a Lovely Day.</td>\n",
              "      <td>...</td>\n",
              "      <td>An apocalyptic story set in the furthest reach...</td>\n",
              "      <td>120</td>\n",
              "      <td>Action|Adventure|Science Fiction|Thriller</td>\n",
              "      <td>Village Roadshow Pictures|Kennedy Miller Produ...</td>\n",
              "      <td>5/13/2015</td>\n",
              "      <td>6185</td>\n",
              "      <td>7.1</td>\n",
              "      <td>2015</td>\n",
              "      <td>137999939.3</td>\n",
              "      <td>3.481613e+08</td>\n",
              "    </tr>\n",
              "    <tr>\n",
              "      <th>2</th>\n",
              "      <td>262500</td>\n",
              "      <td>tt2908446</td>\n",
              "      <td>13.112507</td>\n",
              "      <td>110000000</td>\n",
              "      <td>295238201</td>\n",
              "      <td>Insurgent</td>\n",
              "      <td>Shailene Woodley|Theo James|Kate Winslet|Ansel...</td>\n",
              "      <td>http://www.thedivergentseries.movie/#insurgent</td>\n",
              "      <td>Robert Schwentke</td>\n",
              "      <td>One Choice Can Destroy You</td>\n",
              "      <td>...</td>\n",
              "      <td>Beatrice Prior must confront her inner demons ...</td>\n",
              "      <td>119</td>\n",
              "      <td>Adventure|Science Fiction|Thriller</td>\n",
              "      <td>Summit Entertainment|Mandeville Films|Red Wago...</td>\n",
              "      <td>3/18/2015</td>\n",
              "      <td>2480</td>\n",
              "      <td>6.3</td>\n",
              "      <td>2015</td>\n",
              "      <td>101199955.5</td>\n",
              "      <td>2.716190e+08</td>\n",
              "    </tr>\n",
              "    <tr>\n",
              "      <th>3</th>\n",
              "      <td>140607</td>\n",
              "      <td>tt2488496</td>\n",
              "      <td>11.173104</td>\n",
              "      <td>200000000</td>\n",
              "      <td>2068178225</td>\n",
              "      <td>Star Wars: The Force Awakens</td>\n",
              "      <td>Harrison Ford|Mark Hamill|Carrie Fisher|Adam D...</td>\n",
              "      <td>http://www.starwars.com/films/star-wars-episod...</td>\n",
              "      <td>J.J. Abrams</td>\n",
              "      <td>Every generation has a story.</td>\n",
              "      <td>...</td>\n",
              "      <td>Thirty years after defeating the Galactic Empi...</td>\n",
              "      <td>136</td>\n",
              "      <td>Action|Adventure|Science Fiction|Fantasy</td>\n",
              "      <td>Lucasfilm|Truenorth Productions|Bad Robot</td>\n",
              "      <td>12/15/2015</td>\n",
              "      <td>5292</td>\n",
              "      <td>7.5</td>\n",
              "      <td>2015</td>\n",
              "      <td>183999919.0</td>\n",
              "      <td>1.902723e+09</td>\n",
              "    </tr>\n",
              "    <tr>\n",
              "      <th>4</th>\n",
              "      <td>168259</td>\n",
              "      <td>tt2820852</td>\n",
              "      <td>9.335014</td>\n",
              "      <td>190000000</td>\n",
              "      <td>1506249360</td>\n",
              "      <td>Furious 7</td>\n",
              "      <td>Vin Diesel|Paul Walker|Jason Statham|Michelle ...</td>\n",
              "      <td>http://www.furious7.com/</td>\n",
              "      <td>James Wan</td>\n",
              "      <td>Vengeance Hits Home</td>\n",
              "      <td>...</td>\n",
              "      <td>Deckard Shaw seeks revenge against Dominic Tor...</td>\n",
              "      <td>137</td>\n",
              "      <td>Action|Crime|Thriller</td>\n",
              "      <td>Universal Pictures|Original Film|Media Rights ...</td>\n",
              "      <td>4/1/2015</td>\n",
              "      <td>2947</td>\n",
              "      <td>7.3</td>\n",
              "      <td>2015</td>\n",
              "      <td>174799923.1</td>\n",
              "      <td>1.385749e+09</td>\n",
              "    </tr>\n",
              "  </tbody>\n",
              "</table>\n",
              "<p>5 rows × 21 columns</p>\n",
              "</div>\n",
              "    <div class=\"colab-df-buttons\">\n",
              "\n",
              "  <div class=\"colab-df-container\">\n",
              "    <button class=\"colab-df-convert\" onclick=\"convertToInteractive('df-bba16799-37b0-476a-872f-b559dfb8d154')\"\n",
              "            title=\"Convert this dataframe to an interactive table.\"\n",
              "            style=\"display:none;\">\n",
              "\n",
              "  <svg xmlns=\"http://www.w3.org/2000/svg\" height=\"24px\" viewBox=\"0 -960 960 960\">\n",
              "    <path d=\"M120-120v-720h720v720H120Zm60-500h600v-160H180v160Zm220 220h160v-160H400v160Zm0 220h160v-160H400v160ZM180-400h160v-160H180v160Zm440 0h160v-160H620v160ZM180-180h160v-160H180v160Zm440 0h160v-160H620v160Z\"/>\n",
              "  </svg>\n",
              "    </button>\n",
              "\n",
              "  <style>\n",
              "    .colab-df-container {\n",
              "      display:flex;\n",
              "      gap: 12px;\n",
              "    }\n",
              "\n",
              "    .colab-df-convert {\n",
              "      background-color: #E8F0FE;\n",
              "      border: none;\n",
              "      border-radius: 50%;\n",
              "      cursor: pointer;\n",
              "      display: none;\n",
              "      fill: #1967D2;\n",
              "      height: 32px;\n",
              "      padding: 0 0 0 0;\n",
              "      width: 32px;\n",
              "    }\n",
              "\n",
              "    .colab-df-convert:hover {\n",
              "      background-color: #E2EBFA;\n",
              "      box-shadow: 0px 1px 2px rgba(60, 64, 67, 0.3), 0px 1px 3px 1px rgba(60, 64, 67, 0.15);\n",
              "      fill: #174EA6;\n",
              "    }\n",
              "\n",
              "    .colab-df-buttons div {\n",
              "      margin-bottom: 4px;\n",
              "    }\n",
              "\n",
              "    [theme=dark] .colab-df-convert {\n",
              "      background-color: #3B4455;\n",
              "      fill: #D2E3FC;\n",
              "    }\n",
              "\n",
              "    [theme=dark] .colab-df-convert:hover {\n",
              "      background-color: #434B5C;\n",
              "      box-shadow: 0px 1px 3px 1px rgba(0, 0, 0, 0.15);\n",
              "      filter: drop-shadow(0px 1px 2px rgba(0, 0, 0, 0.3));\n",
              "      fill: #FFFFFF;\n",
              "    }\n",
              "  </style>\n",
              "\n",
              "    <script>\n",
              "      const buttonEl =\n",
              "        document.querySelector('#df-bba16799-37b0-476a-872f-b559dfb8d154 button.colab-df-convert');\n",
              "      buttonEl.style.display =\n",
              "        google.colab.kernel.accessAllowed ? 'block' : 'none';\n",
              "\n",
              "      async function convertToInteractive(key) {\n",
              "        const element = document.querySelector('#df-bba16799-37b0-476a-872f-b559dfb8d154');\n",
              "        const dataTable =\n",
              "          await google.colab.kernel.invokeFunction('convertToInteractive',\n",
              "                                                    [key], {});\n",
              "        if (!dataTable) return;\n",
              "\n",
              "        const docLinkHtml = 'Like what you see? Visit the ' +\n",
              "          '<a target=\"_blank\" href=https://colab.research.google.com/notebooks/data_table.ipynb>data table notebook</a>'\n",
              "          + ' to learn more about interactive tables.';\n",
              "        element.innerHTML = '';\n",
              "        dataTable['output_type'] = 'display_data';\n",
              "        await google.colab.output.renderOutput(dataTable, element);\n",
              "        const docLink = document.createElement('div');\n",
              "        docLink.innerHTML = docLinkHtml;\n",
              "        element.appendChild(docLink);\n",
              "      }\n",
              "    </script>\n",
              "  </div>\n",
              "\n",
              "\n",
              "<div id=\"df-e2146278-b448-4ad1-9d23-d7aaae5592cf\">\n",
              "  <button class=\"colab-df-quickchart\" onclick=\"quickchart('df-e2146278-b448-4ad1-9d23-d7aaae5592cf')\"\n",
              "            title=\"Suggest charts\"\n",
              "            style=\"display:none;\">\n",
              "\n",
              "<svg xmlns=\"http://www.w3.org/2000/svg\" height=\"24px\"viewBox=\"0 0 24 24\"\n",
              "     width=\"24px\">\n",
              "    <g>\n",
              "        <path d=\"M19 3H5c-1.1 0-2 .9-2 2v14c0 1.1.9 2 2 2h14c1.1 0 2-.9 2-2V5c0-1.1-.9-2-2-2zM9 17H7v-7h2v7zm4 0h-2V7h2v10zm4 0h-2v-4h2v4z\"/>\n",
              "    </g>\n",
              "</svg>\n",
              "  </button>\n",
              "\n",
              "<style>\n",
              "  .colab-df-quickchart {\n",
              "      --bg-color: #E8F0FE;\n",
              "      --fill-color: #1967D2;\n",
              "      --hover-bg-color: #E2EBFA;\n",
              "      --hover-fill-color: #174EA6;\n",
              "      --disabled-fill-color: #AAA;\n",
              "      --disabled-bg-color: #DDD;\n",
              "  }\n",
              "\n",
              "  [theme=dark] .colab-df-quickchart {\n",
              "      --bg-color: #3B4455;\n",
              "      --fill-color: #D2E3FC;\n",
              "      --hover-bg-color: #434B5C;\n",
              "      --hover-fill-color: #FFFFFF;\n",
              "      --disabled-bg-color: #3B4455;\n",
              "      --disabled-fill-color: #666;\n",
              "  }\n",
              "\n",
              "  .colab-df-quickchart {\n",
              "    background-color: var(--bg-color);\n",
              "    border: none;\n",
              "    border-radius: 50%;\n",
              "    cursor: pointer;\n",
              "    display: none;\n",
              "    fill: var(--fill-color);\n",
              "    height: 32px;\n",
              "    padding: 0;\n",
              "    width: 32px;\n",
              "  }\n",
              "\n",
              "  .colab-df-quickchart:hover {\n",
              "    background-color: var(--hover-bg-color);\n",
              "    box-shadow: 0 1px 2px rgba(60, 64, 67, 0.3), 0 1px 3px 1px rgba(60, 64, 67, 0.15);\n",
              "    fill: var(--button-hover-fill-color);\n",
              "  }\n",
              "\n",
              "  .colab-df-quickchart-complete:disabled,\n",
              "  .colab-df-quickchart-complete:disabled:hover {\n",
              "    background-color: var(--disabled-bg-color);\n",
              "    fill: var(--disabled-fill-color);\n",
              "    box-shadow: none;\n",
              "  }\n",
              "\n",
              "  .colab-df-spinner {\n",
              "    border: 2px solid var(--fill-color);\n",
              "    border-color: transparent;\n",
              "    border-bottom-color: var(--fill-color);\n",
              "    animation:\n",
              "      spin 1s steps(1) infinite;\n",
              "  }\n",
              "\n",
              "  @keyframes spin {\n",
              "    0% {\n",
              "      border-color: transparent;\n",
              "      border-bottom-color: var(--fill-color);\n",
              "      border-left-color: var(--fill-color);\n",
              "    }\n",
              "    20% {\n",
              "      border-color: transparent;\n",
              "      border-left-color: var(--fill-color);\n",
              "      border-top-color: var(--fill-color);\n",
              "    }\n",
              "    30% {\n",
              "      border-color: transparent;\n",
              "      border-left-color: var(--fill-color);\n",
              "      border-top-color: var(--fill-color);\n",
              "      border-right-color: var(--fill-color);\n",
              "    }\n",
              "    40% {\n",
              "      border-color: transparent;\n",
              "      border-right-color: var(--fill-color);\n",
              "      border-top-color: var(--fill-color);\n",
              "    }\n",
              "    60% {\n",
              "      border-color: transparent;\n",
              "      border-right-color: var(--fill-color);\n",
              "    }\n",
              "    80% {\n",
              "      border-color: transparent;\n",
              "      border-right-color: var(--fill-color);\n",
              "      border-bottom-color: var(--fill-color);\n",
              "    }\n",
              "    90% {\n",
              "      border-color: transparent;\n",
              "      border-bottom-color: var(--fill-color);\n",
              "    }\n",
              "  }\n",
              "</style>\n",
              "\n",
              "  <script>\n",
              "    async function quickchart(key) {\n",
              "      const quickchartButtonEl =\n",
              "        document.querySelector('#' + key + ' button');\n",
              "      quickchartButtonEl.disabled = true;  // To prevent multiple clicks.\n",
              "      quickchartButtonEl.classList.add('colab-df-spinner');\n",
              "      try {\n",
              "        const charts = await google.colab.kernel.invokeFunction(\n",
              "            'suggestCharts', [key], {});\n",
              "      } catch (error) {\n",
              "        console.error('Error during call to suggestCharts:', error);\n",
              "      }\n",
              "      quickchartButtonEl.classList.remove('colab-df-spinner');\n",
              "      quickchartButtonEl.classList.add('colab-df-quickchart-complete');\n",
              "    }\n",
              "    (() => {\n",
              "      let quickchartButtonEl =\n",
              "        document.querySelector('#df-e2146278-b448-4ad1-9d23-d7aaae5592cf button');\n",
              "      quickchartButtonEl.style.display =\n",
              "        google.colab.kernel.accessAllowed ? 'block' : 'none';\n",
              "    })();\n",
              "  </script>\n",
              "</div>\n",
              "\n",
              "    </div>\n",
              "  </div>\n"
            ],
            "application/vnd.google.colaboratory.intrinsic+json": {
              "type": "dataframe",
              "variable_name": "movies"
            }
          },
          "metadata": {},
          "execution_count": 3
        }
      ]
    },
    {
      "cell_type": "code",
      "source": [
        "movies.columns"
      ],
      "metadata": {
        "colab": {
          "base_uri": "https://localhost:8080/"
        },
        "id": "u1xjZKONaPnV",
        "outputId": "5245b708-8468-4aec-882a-2701be60d6e6"
      },
      "execution_count": null,
      "outputs": [
        {
          "output_type": "execute_result",
          "data": {
            "text/plain": [
              "Index(['id', 'imdb_id', 'popularity', 'budget', 'revenue', 'original_title',\n",
              "       'cast', 'homepage', 'director', 'tagline', 'keywords', 'overview',\n",
              "       'runtime', 'genres', 'production_companies', 'release_date',\n",
              "       'vote_count', 'vote_average', 'release_year', 'budget_adj',\n",
              "       'revenue_adj'],\n",
              "      dtype='object')"
            ]
          },
          "metadata": {},
          "execution_count": 5
        }
      ]
    },
    {
      "cell_type": "code",
      "source": [
        "# verificação dos valores nulos\n",
        "\n",
        "movies.info()"
      ],
      "metadata": {
        "id": "f3l0izYWslHE",
        "colab": {
          "base_uri": "https://localhost:8080/"
        },
        "outputId": "8745001a-ab14-466f-e975-9cd8c6020e29"
      },
      "execution_count": null,
      "outputs": [
        {
          "output_type": "stream",
          "name": "stdout",
          "text": [
            "<class 'pandas.core.frame.DataFrame'>\n",
            "RangeIndex: 10866 entries, 0 to 10865\n",
            "Data columns (total 21 columns):\n",
            " #   Column                Non-Null Count  Dtype  \n",
            "---  ------                --------------  -----  \n",
            " 0   id                    10866 non-null  int64  \n",
            " 1   imdb_id               10856 non-null  object \n",
            " 2   popularity            10866 non-null  float64\n",
            " 3   budget                10866 non-null  int64  \n",
            " 4   revenue               10866 non-null  int64  \n",
            " 5   original_title        10866 non-null  object \n",
            " 6   cast                  10790 non-null  object \n",
            " 7   homepage              2936 non-null   object \n",
            " 8   director              10822 non-null  object \n",
            " 9   tagline               8042 non-null   object \n",
            " 10  keywords              9373 non-null   object \n",
            " 11  overview              10862 non-null  object \n",
            " 12  runtime               10866 non-null  int64  \n",
            " 13  genres                10843 non-null  object \n",
            " 14  production_companies  9836 non-null   object \n",
            " 15  release_date          10866 non-null  object \n",
            " 16  vote_count            10866 non-null  int64  \n",
            " 17  vote_average          10866 non-null  float64\n",
            " 18  release_year          10866 non-null  int64  \n",
            " 19  budget_adj            10866 non-null  float64\n",
            " 20  revenue_adj           10866 non-null  float64\n",
            "dtypes: float64(4), int64(6), object(11)\n",
            "memory usage: 1.7+ MB\n"
          ]
        }
      ]
    },
    {
      "cell_type": "code",
      "source": [
        "movies.iloc[104].overview"
      ],
      "metadata": {
        "colab": {
          "base_uri": "https://localhost:8080/",
          "height": 53
        },
        "id": "5gzdQLvft_MA",
        "outputId": "4d4f1545-9dbb-4166-8ce4-ca660ff359c0"
      },
      "execution_count": null,
      "outputs": [
        {
          "output_type": "execute_result",
          "data": {
            "text/plain": [
              "'Movie star Vincent Chase, together with his boys, Eric, Turtle and Johnny, are backâ€¦and back in business with super agent-turned-studio head Ari Gold. Some of their ambitions have changed, but the bond between them remains strong as they navigate the capricious and often cutthroat world of Hollywood.'"
            ],
            "application/vnd.google.colaboratory.intrinsic+json": {
              "type": "string"
            }
          },
          "metadata": {},
          "execution_count": 7
        }
      ]
    },
    {
      "cell_type": "code",
      "source": [
        "# Para viabilizar a análise, os campos com valores nulos serão substituídos por strings vazias.\n",
        "movies = movies.fillna('')"
      ],
      "metadata": {
        "id": "zm49P3v7syce"
      },
      "execution_count": null,
      "outputs": []
    },
    {
      "cell_type": "code",
      "source": [
        "movies.info()"
      ],
      "metadata": {
        "id": "CyoP6kB2aslF",
        "outputId": "dd1dc5a9-9cc7-4717-cf7e-2231c16c0423",
        "colab": {
          "base_uri": "https://localhost:8080/"
        }
      },
      "execution_count": null,
      "outputs": [
        {
          "output_type": "stream",
          "name": "stdout",
          "text": [
            "<class 'pandas.core.frame.DataFrame'>\n",
            "RangeIndex: 10866 entries, 0 to 10865\n",
            "Data columns (total 21 columns):\n",
            " #   Column                Non-Null Count  Dtype  \n",
            "---  ------                --------------  -----  \n",
            " 0   id                    10866 non-null  int64  \n",
            " 1   imdb_id               10866 non-null  object \n",
            " 2   popularity            10866 non-null  float64\n",
            " 3   budget                10866 non-null  int64  \n",
            " 4   revenue               10866 non-null  int64  \n",
            " 5   original_title        10866 non-null  object \n",
            " 6   cast                  10866 non-null  object \n",
            " 7   homepage              10866 non-null  object \n",
            " 8   director              10866 non-null  object \n",
            " 9   tagline               10866 non-null  object \n",
            " 10  keywords              10866 non-null  object \n",
            " 11  overview              10866 non-null  object \n",
            " 12  runtime               10866 non-null  int64  \n",
            " 13  genres                10866 non-null  object \n",
            " 14  production_companies  10866 non-null  object \n",
            " 15  release_date          10866 non-null  object \n",
            " 16  vote_count            10866 non-null  int64  \n",
            " 17  vote_average          10866 non-null  float64\n",
            " 18  release_year          10866 non-null  int64  \n",
            " 19  budget_adj            10866 non-null  float64\n",
            " 20  revenue_adj           10866 non-null  float64\n",
            "dtypes: float64(4), int64(6), object(11)\n",
            "memory usage: 1.7+ MB\n"
          ]
        }
      ]
    },
    {
      "cell_type": "markdown",
      "metadata": {
        "id": "SOtA20oK_Ghg"
      },
      "source": [
        "## Vetores de Texto\n",
        "\n",
        "Para a construção de um Sistema de Recomendação Baseado em Conteúdo, será necessário analisar o conteúdo textual para que seja possível estimar a **similaridade** entre os elementos.\n",
        "\n",
        "Em outras palavras, considere três filmes: A, B e C. Como provar matematicamente que a descrição ou enredo de A é mais semelhante a descrição de B do que ao de C (ou vice-versa)?\n",
        "\n",
        "O primeiro passo para responder a essas perguntas é representar os textos (*documentos*) como quantidades matemáticas. Isso é feito representando esses documentos como vetores. Em outras palavras, cada documento é descrito como uma série de `n` números, onde cada número representa uma dimensão e `n` é o tamanho do vocabulário de todos os documentos juntos.\n",
        "\n",
        "Mas quais são os valores desses vetores? A resposta a essa pergunta depende do vetorizador que estamos usando para converter nossos documentos em vetores. Duas abordagens mais simples utilizadas para essa conversão são: **Bag of Words** e **TF-IDF**."
      ]
    },
    {
      "cell_type": "markdown",
      "metadata": {
        "id": "jNIloVSYAZSD"
      },
      "source": [
        "A abordagem por **Bag of Words (BoW)** é a técnica mais primitiva de representar um documento. Nessa abordagem, cada documento é representado pela frequência de ocorrência de cada palavra. Imagine que temos três documentos, A, B e C, que são os seguintes:\n",
        "\n",
        "A: Azul como a cor do mar\n",
        "\n",
        "B: Como uma onda no mar\n",
        "\n",
        "C: O céu é o mar de Brasília\n",
        "\n",
        "O primeiro passo é converter esses documentos em suas formas vetoriais usando o método *CountVectorizer*, disponibilizado na biblioteca  `scikit-learn`.\n",
        "Para isso, deve-se calcular o tamanho do vocabulário, sendo que vocabulário é o número de palavras distintas presentes em todos os documentos. Portanto, o vocabulário para este conjunto de três documentos é o seguinte: *azul, como, a, cor, do, mar, uma, onda, no, o, céu, é, de, brasília*. Consequentemente, o tamanho do vocabulário é **14**.\n",
        "\n",
        "É prática comum excluir as palavras muito comuns que não agregam na análise do contexto, como artigos, preposições, conjunções e outras... Essas palavras são chamadas de *stopwords*. Sem elas, o vocabulário passa a ser:\n",
        "azul, como, cor, mar, onda, céu, brasília\n",
        "\n",
        "O tamanho do vocabulário agora é sete. Portanto, os documentos serão representados como vetores de sete dimensões e onde cada dimensão aqui representará o número de vezes que uma determinada palavra ocorre em um documento.\n",
        "\n",
        "Portanto, usando a abordagem Bag of Words, os documentos A, B e C agora serão representados da seguinte forma:\n",
        "\n",
        "A: (1, 1, 1, 1, 0, 0, 0)\n",
        "\n",
        "B: (0, 1, 0, 1, 1, 0, 0)\n",
        "\n",
        "C: (0, 0, 0, 1, 0, 1, 1)\n",
        "\n",
        "\n"
      ]
    },
    {
      "cell_type": "code",
      "source": [
        "# Demosntração da criação dos textos em formato vetorial\n",
        "# Utilizando a biblioteca scikitlearn\n",
        "d1 = 'Azul como a cor do ar'\n",
        "d2 = 'Como uma onda no mar'\n",
        "d3 = 'O céu é o mar de Brasília'\n",
        "corpus_exemplo = [d1, d2, d3]\n",
        "\n",
        "vectorizer_example = CountVectorizer()\n",
        "vectorizer_example_matrix=vectorizer_example.fit_transform(corpus_exemplo)"
      ],
      "metadata": {
        "id": "aTi36yk2xZQf"
      },
      "execution_count": null,
      "outputs": []
    },
    {
      "cell_type": "code",
      "source": [
        "vectorizer_example_matrix.toarray()"
      ],
      "metadata": {
        "id": "3q2XcCy4x7F7"
      },
      "execution_count": null,
      "outputs": []
    },
    {
      "cell_type": "code",
      "source": [
        "vectorizer_example.get_feature_names_out()"
      ],
      "metadata": {
        "id": "QixRB-r1ySUH"
      },
      "execution_count": null,
      "outputs": []
    },
    {
      "cell_type": "code",
      "source": [
        "# para o português, teria que baixar uma lista pronta ou definir manualmente\n",
        "stopwords_pt_lst = ['de', 'do', 'a', 'e', 'ou',  'no']\n",
        "vectorizer_example = CountVectorizer(stop_words=stopwords_pt_lst)\n",
        "vectorizer_example_matrix=vectorizer_example.fit_transform(corpus_exemplo)\n",
        "vectorizer_example.get_feature_names_out()"
      ],
      "metadata": {
        "id": "trDX7yb30a-g"
      },
      "execution_count": null,
      "outputs": []
    },
    {
      "cell_type": "code",
      "source": [
        "# questão das letras maiúsculas\n",
        "# se alterarmos um pouco o exemplo colocando um documento todo com letra maiúscula\n",
        "corpus_exemplo = [d1, d2.upper(), d3]"
      ],
      "metadata": {
        "id": "l6_RSPNa03a2"
      },
      "execution_count": null,
      "outputs": []
    },
    {
      "cell_type": "code",
      "source": [
        "vectorizer_example = CountVectorizer(stop_words=stopwords_pt)\n",
        "vectorizer_example_matrix=vectorizer_example.fit_transform(corpus_exemplo)"
      ],
      "metadata": {
        "id": "YVfZMB3x1QUj"
      },
      "execution_count": null,
      "outputs": []
    },
    {
      "cell_type": "code",
      "source": [
        "# os objetos CountVectorizer e TfidfVectorizer tratam todos as palavras como lower case\n",
        "vectorizer_example.get_feature_names_out()"
      ],
      "metadata": {
        "id": "jZbYFRVqBXTY"
      },
      "execution_count": null,
      "outputs": []
    },
    {
      "cell_type": "markdown",
      "source": [
        "Nessa abordagem, as palavras não recebem peso diferente, mas nem sempre é assim...\n",
        "\n",
        "Por exemplo, considere um corpus de documentos sobre cães. Provavelmente, todos os documentos possuirão de forma frequente a palavra *cachorro*. Logo, a presença da palavra `cachorro` não merece tanto destaque quanto outra palavra que aparece apenas em alguns documentos, e acaba exercendo um papel de diferenciação.\n",
        "\n",
        "Para contornar essa situação, foi desenvolvido a abordagem TF-IDF (*Term Frequency-Inverse Document Frequency*) caracterizada por atribuir, ao invés da frequencia, como o BoW, um índice de **relevância** calculado para cada palavra, segundo a seguinte fórmula:\n",
        "![Captura de tela 2021-10-28 113349.jpg](data:image/jpeg;base64,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)\n",
        "\n",
        "\n",
        "Onde:\n",
        "\n",
        "* **wi,j** é o peso da palavra i no documento j\n",
        "* **dfi** é o número de documentos que contêm o termo i\n",
        "* **N** é o número total de documentos\n",
        "\n",
        "Dá para verificar que o peso de uma palavra em um documento é maior se ela ocorrer com mais frequência nesse documento e, ao mesmo tempo, estiver presente em menos documentos. O peso **wi,j** assume valores entre 0 e 1."
      ],
      "metadata": {
        "id": "Oe8Njdm3xlzx"
      }
    },
    {
      "cell_type": "code",
      "source": [
        "# Utilizando o exemplo\n",
        "# Se a opção for pelo TFIDF (mais recomendada...)\n",
        "from sklearn.feature_extraction.text import TfidfVectorizer\n",
        "\n",
        "# Instancia um objeto TF-IDF Vectorizer removendo as stopwords em inglês. Remove all english stopwords\n",
        "tfidf = TfidfVectorizer(stop_words=stopwords_pt)\n",
        "\n",
        "#Cria a matriz TF-IDF matriz executando o método \"fit_transform\"\n",
        "tfidf_matriz = tfidf.fit_transform(corpus_exemplo)\n",
        "tfidf.get_feature_names_out()"
      ],
      "metadata": {
        "id": "f64FV5JM19Y4"
      },
      "execution_count": null,
      "outputs": []
    },
    {
      "cell_type": "code",
      "source": [
        "tfidf_matriz.toarray()"
      ],
      "metadata": {
        "id": "_DRyJszw2jYH"
      },
      "execution_count": null,
      "outputs": []
    },
    {
      "cell_type": "markdown",
      "metadata": {
        "id": "sR1T2VLZZi0l"
      },
      "source": [
        "Com os textos transformados em vetores, é possível verificar a similaridade (ou proximidade) entre eles usando métricas de similaridade como:\n",
        "\n",
        "* Similaridade por Cosseno (*Cosine Similarity*)\n",
        "* Distância Euclidiana\n",
        "* Correlação de Pearson\n",
        "* Distância de Jaccard\n",
        "\n",
        "Cada uma dessas é apropriada para determinados cenários. Por exemplo, se a magnitude da distância é relevante, a `Distância Euclidiana`seria a mais apropriada. Enquanto, se o desejável é a obtenção de uma distância relativa, que evidencie uma correlação, a `Similaridade por Cosseno` ou a `Correlação de Pearson`se tornam mais adequadas.\n",
        "\n",
        "Nos sistemas de recomendação é mais comum a utilização da `Similaridade por Cosseno`, calculada segundo a seguinte forma:"
      ]
    },
    {
      "cell_type": "markdown",
      "metadata": {
        "id": "c5quMXEIZmxu"
      },
      "source": [
        "![Captura de tela 2021-10-28 114759.jpg](data:image/jpeg;base64,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)"
      ]
    },
    {
      "cell_type": "markdown",
      "metadata": {
        "id": "b_fTJBdDZrAQ"
      },
      "source": [
        "![Captura de tela 2021-10-28 114835.jpg](data:image/jpeg;base64,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)"
      ]
    },
    {
      "cell_type": "markdown",
      "metadata": {
        "id": "pRAqM7FMZxHz"
      },
      "source": [
        "A similaridade por cosseno calcula o cosseno do ângulo entre dois vetores em um espaço n-dimensional. Quando o cosseno é 1 (ou seja, o ângulo é 0), os vetores são exatamente semelhantes. Por outro lado, uma pontuação de cosseno de 0 (ou ângulo de 90 graus) denota que os dois vetores são totalmente diferentes um do outro.\n",
        "\n",
        "A representação vetorial de textos e a análise de similaridade entre eles serão objetos de estudo no campo chamado Processamento de Linguagem Natural (NLP, *Natural Language Processing*)"
      ]
    },
    {
      "cell_type": "code",
      "source": [
        "from sklearn.metrics.pairwise import linear_kernel\n",
        "\n",
        "# Obter a matriz com a similaridade por cosseno entre os registros\n",
        "cosine_sim = linear_kernel(tfidf_matriz)\n",
        "cosine_sim"
      ],
      "metadata": {
        "id": "WT198gzlBx-j"
      },
      "execution_count": null,
      "outputs": []
    },
    {
      "cell_type": "markdown",
      "metadata": {
        "id": "oUyqvu1ScR5J"
      },
      "source": [
        "### Partindo para o exemplo do sistema de recomendação de filmes\n",
        "\n",
        "Inicialmente, será considerada como informação do filme, somente a sua descrição, presente no campo `overview`."
      ]
    },
    {
      "cell_type": "code",
      "source": [
        "# Se a opção for pelo BoW\n",
        "from sklearn.feature_extraction.text import CountVectorizer\n"
      ],
      "metadata": {
        "id": "BjQ2WSfh5fyZ"
      },
      "execution_count": null,
      "outputs": []
    },
    {
      "cell_type": "code",
      "metadata": {
        "id": "3tmbudjoc9YU"
      },
      "source": [
        "# Se a opção for pelo TFIDF (mais recomendada...)\n",
        "from sklearn.feature_extraction.text import TfidfVectorizer\n",
        "\n"
      ],
      "execution_count": null,
      "outputs": []
    },
    {
      "cell_type": "code",
      "source": [
        "# verificação do formato da matriz gerada\n"
      ],
      "metadata": {
        "id": "H4-KbR8FIQwP"
      },
      "execution_count": null,
      "outputs": []
    },
    {
      "cell_type": "code",
      "metadata": {
        "id": "SF7WEJKLeNkQ"
      },
      "source": [
        "from sklearn.metrics.pairwise import linear_kernel\n",
        "\n",
        "# Obter a matriz com a similaridade por cosseno entre os registros\n"
      ],
      "execution_count": null,
      "outputs": []
    },
    {
      "cell_type": "markdown",
      "metadata": {
        "id": "mpcDWGVOLeNQ"
      },
      "source": [
        "A matriz de similaridade por cosseno apresenta a similaridade entre os filmes. Logo, a diagonal principal terá o valor constante de `1`, pois se relacionará com ele mesmo.\n",
        "\n",
        "O próximo passo será construir uma função que ao receber um título de filme, recomende os 10 mais similares de acordo com a similaridade calculada para a descrição do filme.\n",
        "\n",
        "Como a consulta será pelo título, deverá ser criado um índice reverso, tendo o título como chave."
      ]
    },
    {
      "cell_type": "code",
      "source": [
        "movies.index"
      ],
      "metadata": {
        "id": "mieep3zKHWDC"
      },
      "execution_count": null,
      "outputs": []
    },
    {
      "cell_type": "code",
      "metadata": {
        "id": "vKuSULNyxCCb"
      },
      "source": [
        "# Lembrando de eliminar eventuais nomes de título dupicados\n",
        "distinct_titles = pd.Series(movies['original_title'], index=movies.index).drop_duplicates(keep='last')"
      ],
      "execution_count": null,
      "outputs": []
    },
    {
      "cell_type": "code",
      "source": [],
      "metadata": {
        "id": "4s8jHAd7Im5j"
      },
      "execution_count": null,
      "outputs": []
    },
    {
      "cell_type": "code",
      "source": [
        "indice_reverso = pd.Series(distinct_titles.index, index = distinct_titles.values)"
      ],
      "metadata": {
        "id": "_xi_8mg067OP"
      },
      "execution_count": null,
      "outputs": []
    },
    {
      "cell_type": "code",
      "source": [
        "indice_reverso['Frozen']"
      ],
      "metadata": {
        "id": "7GS4nI4nMoGi"
      },
      "execution_count": null,
      "outputs": []
    },
    {
      "cell_type": "markdown",
      "metadata": {
        "id": "FlWc8ZmjMlrt"
      },
      "source": [
        "Segue o caminho para a construção da função do sistema de recomendação:\n",
        "\n",
        "* O título do filme será o argumento.\n",
        "* Como título, o índice do filme é obtido pelo índice reverso criado.\n",
        "* Com o índice, a matriz de similaridade é consultada para se obter os filmes com maiores pontuações.\n",
        "* Na lista de filmes mais similares, o primeiro será o próprio consultado, logo, deverá ser desconsiderado.\n",
        "* Retorne os títulos correspondentes aos índices dos elementos obtidos."
      ]
    },
    {
      "cell_type": "code",
      "metadata": {
        "id": "6zwBsc0QxWVg"
      },
      "source": [
        "def recomendar_por_conteudo(title, cosine_sim=cosine_sim, df=movies, indice=indice_reverso):\n",
        "    # Obtenção do índice pelo título\n",
        "    idx = indice[title]\n",
        "    sim_scores = list(enumerate(cosine_sim[idx]))\n",
        "    # recuperação dos valores filtrados do índice pela matriz de similaridade\n",
        "    # É passada uma lista\n",
        "    sim_scores = sorted(sim_scores, key=lambda x:x[1], reverse=True)\n",
        "    # A lista é ordenada\n",
        "    # São separados os 10 maiores valores, excluindo o primeiro\n",
        "    sim_scores = sim_scores[1:11]\n",
        "    # São recuperados os índices relativos aos 10 filmes\n",
        "    movie_indices = [i[0] for i in sim_scores]\n",
        "    # COm os índices é possível obter as informações sobre os filmes\n",
        "    return df[['original_title', 'genres', 'overview', 'runtime',\n",
        "                   'vote_average', 'vote_count']].loc[movie_indices]"
      ],
      "execution_count": null,
      "outputs": []
    },
    {
      "cell_type": "markdown",
      "metadata": {
        "id": "QJCTaN4pO8cH"
      },
      "source": [
        "Para testar, que tal o título \"O Poderoso Chefão\", em inglês \"The Godfather\""
      ]
    },
    {
      "cell_type": "code",
      "source": [],
      "metadata": {
        "id": "H6kH-B1gJkiP"
      },
      "execution_count": null,
      "outputs": []
    },
    {
      "cell_type": "code",
      "metadata": {
        "id": "0IksXMk66DXF"
      },
      "source": [
        "# recomendar_por_conteudo('The Lion King')\n"
      ],
      "execution_count": null,
      "outputs": []
    },
    {
      "cell_type": "markdown",
      "metadata": {
        "id": "RvtmoCTNQ2g-"
      },
      "source": [
        "O resultado pode ser considerado interessante, mas pode-se avançar em uma função de recomendação que utilize mais metadados como gêneros, elenco, equipe e palavras-chave (ou subgêneros). É esperado que os resultados sejam melhores pois conseguirá captar o gosto do usuário por determinado diretor, ator, subgênero e assim por diante."
      ]
    },
    {
      "cell_type": "markdown",
      "metadata": {
        "id": "JA-P_nYlRRlD"
      },
      "source": [
        "## Agregando mais metadados ao sistema de recomendação\n",
        "\n",
        "Serão utilizados os seguintes metadados:\n",
        "\n",
        "* Gêneros\n",
        "* Diretor\n",
        "* Atores\n",
        "* Palavras chave\n",
        "* Descrição breve (*tagline*)\n",
        "\n",
        "O plano é construir um grande conjunto de informações e vetorizar tudo. Daí utilizando a similaridade por cosseno serão encontrados os itens mais similares.\n",
        "\n",
        "Cada metadado deverá ser tratado para isso.\n"
      ]
    },
    {
      "cell_type": "markdown",
      "metadata": {
        "id": "mmWWoMl7Ual_"
      },
      "source": [
        "### Gêneros (*genres*)\n",
        "\n",
        "Já foi visto que essa informação se encontra em uma string com os termos separados por um '|'. Será seguido o mesmo procedimento para obter-se a lista de strings.\n",
        "\n",
        "Será criado o atributo `genres_lst`:\n",
        "\n"
      ]
    },
    {
      "cell_type": "code",
      "metadata": {
        "id": "2C99biw5WIPz"
      },
      "source": [],
      "execution_count": null,
      "outputs": []
    },
    {
      "cell_type": "code",
      "source": [],
      "metadata": {
        "id": "RKj9mTMG7kos"
      },
      "execution_count": null,
      "outputs": []
    },
    {
      "cell_type": "markdown",
      "metadata": {
        "id": "rKSQFuwjWP6F"
      },
      "source": [
        "### Diretor (*director*)\n",
        "\n",
        "Vale a pena verificar se se trata de somente 1 diretor por filme, para isso, pode-se verificar a presença do caracter '|' , visto que é o artifício utilizado para separar diferentes nomes nos outros campos."
      ]
    },
    {
      "cell_type": "code",
      "metadata": {
        "id": "kUMzu0aVXOX7"
      },
      "source": [
        "movies[movies['director'].str.find('|')!=-1]"
      ],
      "execution_count": null,
      "outputs": []
    },
    {
      "cell_type": "markdown",
      "metadata": {
        "id": "16834C2GXwsw"
      },
      "source": [
        "Quebrar o nome do diretor em palavras pode não ser uma boa ideia, visto que se dois diretores aparecerem com o mesmo primeiro nome pode dar um peso que seria indesejado. Uma aboradagem seria transformar as letras todas em minúsculas e retirar os espaços, resultando em um nome que dificilmente seria confundido com outro, prejudicando a recomendação."
      ]
    },
    {
      "cell_type": "code",
      "metadata": {
        "id": "w_7t2VEOYzCy"
      },
      "source": [],
      "execution_count": null,
      "outputs": []
    },
    {
      "cell_type": "code",
      "source": [],
      "metadata": {
        "id": "qzIz5L4U8x8q"
      },
      "execution_count": null,
      "outputs": []
    },
    {
      "cell_type": "code",
      "source": [],
      "metadata": {
        "id": "JjHnU8n78s25"
      },
      "execution_count": null,
      "outputs": []
    },
    {
      "cell_type": "markdown",
      "metadata": {
        "id": "xOy411WtaOQn"
      },
      "source": [
        "### Elenco (*cast*)\n"
      ]
    },
    {
      "cell_type": "markdown",
      "metadata": {
        "id": "BarzwcT3aeL8"
      },
      "source": [
        "O tratamento para o elenco será uma mescla do tratamento para o gênero com o utilizado no diretor.\n",
        "\n",
        "Para não correr o risco de prejudicar a recomendação, vamos definir um número de 3 atores para compor a informação por filme."
      ]
    },
    {
      "cell_type": "code",
      "source": [],
      "metadata": {
        "id": "qaU9es5UM_o3"
      },
      "execution_count": null,
      "outputs": []
    },
    {
      "cell_type": "markdown",
      "source": [
        "### Palavras chave (*keywords*)\n",
        "\n",
        "O tratamento pode ser o mesmo do efetuado quanto ao elenco, inclusive quanto ao número, visto que ele varia nos filmes."
      ],
      "metadata": {
        "id": "ioZIqnSMNDbX"
      }
    },
    {
      "cell_type": "code",
      "source": [],
      "metadata": {
        "id": "K39VEwvJ9IOm"
      },
      "execution_count": null,
      "outputs": []
    },
    {
      "cell_type": "markdown",
      "metadata": {
        "id": "OIp_coD8gv2y"
      },
      "source": [
        "### Descrição breve (*taglines*)\n",
        "\n",
        "Como se trata de um texto bem curto, terá o mesmo tratamento do efetuado na descrição no caso anterior. Será gerada uma lista de palavras e retiradas as stopwords."
      ]
    },
    {
      "cell_type": "code",
      "metadata": {
        "id": "7cgncN7PiypC"
      },
      "source": [
        "import nltk\n",
        "from nltk.corpus import stopwords\n",
        "nltk.download(\"stopwords\")\n",
        "\n",
        "def remover_pontuacao(texto):\n",
        "  import string\n",
        "  return texto.translate(texto.maketrans('', '', string.punctuation))\n",
        "\n",
        "\n",
        "def tratar_tagline(texto, stopwords = stopwords.words('english')):\n",
        "  try:\n",
        "    texto = remover_pontuacao(texto)\n",
        "    return [i.lower() for i in texto.split() if i.lower() not in stopwords]\n",
        "  except:\n",
        "    return []"
      ],
      "execution_count": null,
      "outputs": []
    },
    {
      "cell_type": "code",
      "metadata": {
        "id": "AWAg66JihYOX"
      },
      "source": [
        "movies['tagline_str'] = movies.apply(lambda row:tratar_tagline(row['tagline']), axis=1 )"
      ],
      "execution_count": null,
      "outputs": []
    },
    {
      "cell_type": "markdown",
      "metadata": {
        "id": "MYIL3LCxmb2M"
      },
      "source": [
        "### Consolidação dos metadados tratados\n",
        "\n",
        "Finalmente, após o tratamento de cada um dos novos metadados, eles serão agrupados para a criação de um novo vetor que será utilizado para o cômputo da similaridade."
      ]
    },
    {
      "cell_type": "code",
      "source": [],
      "metadata": {
        "id": "S75pB7Yg96ij"
      },
      "execution_count": null,
      "outputs": []
    },
    {
      "cell_type": "code",
      "metadata": {
        "id": "tGia424CnXYB"
      },
      "source": [],
      "execution_count": null,
      "outputs": []
    },
    {
      "cell_type": "markdown",
      "metadata": {
        "id": "dBfUfjQdo4As"
      },
      "source": [
        "De posse do novo corpus, segue-se para a vetorização utilizando o TFIDF, conforme abordagem utilizada quando o foco foi a descrição do filme."
      ]
    },
    {
      "cell_type": "code",
      "metadata": {
        "id": "c4IejePppJeH"
      },
      "source": [
        "# Cria a matriz TF-IDF matriz executando o método \"fit_transform\"\n"
      ],
      "execution_count": null,
      "outputs": []
    },
    {
      "cell_type": "code",
      "metadata": {
        "id": "HdDKmWRQpaBB"
      },
      "source": [
        "# verificar o \"shape\" da matriz criada"
      ],
      "execution_count": null,
      "outputs": []
    },
    {
      "cell_type": "code",
      "metadata": {
        "id": "e5HS440upsql"
      },
      "source": [
        "# Obter a matriz com a similaridade por cosseno entre os registros\n"
      ],
      "execution_count": null,
      "outputs": []
    },
    {
      "cell_type": "code",
      "metadata": {
        "id": "cL34_vgVqSfL"
      },
      "source": [
        "#recomendar_por_conteudo('Forrest Gump')\n"
      ],
      "execution_count": null,
      "outputs": []
    },
    {
      "cell_type": "code",
      "metadata": {
        "id": "r0zh_tNhqGzn"
      },
      "source": [],
      "execution_count": null,
      "outputs": []
    },
    {
      "cell_type": "code",
      "metadata": {
        "id": "Mu8M8ChBsCYU"
      },
      "source": [],
      "execution_count": null,
      "outputs": []
    },
    {
      "cell_type": "markdown",
      "metadata": {
        "id": "t7n4PVNdrhKD"
      },
      "source": [
        "Dar um peso maior para o diretor:"
      ]
    },
    {
      "cell_type": "code",
      "source": [],
      "metadata": {
        "id": "gu5rtAvg_aRY"
      },
      "execution_count": null,
      "outputs": []
    },
    {
      "cell_type": "markdown",
      "source": [
        "Qual um outro sistema de recomendação baseado em conteúdo você poderia criar??? Qual o valor que isso acrescentaria???"
      ],
      "metadata": {
        "id": "-m050oz2m__N"
      }
    }
  ]
}