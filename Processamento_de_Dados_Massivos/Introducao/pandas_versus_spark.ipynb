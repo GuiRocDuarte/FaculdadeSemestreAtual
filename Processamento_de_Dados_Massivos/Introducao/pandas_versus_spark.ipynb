{
  "cells": [
    {
      "cell_type": "markdown",
      "metadata": {
        "id": "LTTVlELXa7RV"
      },
      "source": [
        "***\n",
        "## **<center>Spark x Pandas</center>**\n",
        "\n",
        "\n",
        "**<center>Processamento de Dados Massivos</center>**\n",
        "***\n",
        "\n",
        "<br>\n",
        "Este notebook tem o objetivo de apresentar um caso onde, devido ao tamanho do conjunto de dados, utilizar o Spark se torna mandatório com relação ao Pandas.\n",
        "\n",
        "Trata-se de uma base pública de reclamações de usuários de empresas de telecomunicações junto à Anatel. Se tentarmos criar um dataframe Pandas, a memória pode não aguentar... O que aconteceria com o Spark??"
      ]
    },
    {
      "cell_type": "code",
      "execution_count": 1,
      "metadata": {},
      "outputs": [],
      "source": [
        "import os\n",
        "os.environ[\"JAVA_HOME\"] = \"C:\\\\jdk-22.0.2\"\n",
        "os.environ[\"SPARK_HOME\"] = \"C:\\\\spark-3.5.2-bin-hadoop3\\\\spark-3.5.2-bin-hadoop3\"\n",
        "os.environ[\"PYSPARK_DRIVER_PYTHON\"] = \"jupyter\"\n",
        "os.environ[\"PYSPARK_PYTHON\"] = \"python\""
      ]
    },
    {
      "cell_type": "markdown",
      "metadata": {
        "id": "fdqt18M5bgJ6"
      },
      "source": [
        "### Primeira Parte) Tentando com o Pandas"
      ]
    },
    {
      "cell_type": "code",
      "execution_count": 2,
      "metadata": {
        "id": "kpWiAb9J4SSr"
      },
      "outputs": [],
      "source": [
        "link_reclamacoes = 'https://www.anatel.gov.br/dadosabertos/paineis_de_dados/consumidor/consumidor_reclamacoes.zip'"
      ]
    },
    {
      "cell_type": "code",
      "execution_count": 3,
      "metadata": {
        "colab": {
          "base_uri": "https://localhost:8080/",
          "height": 329
        },
        "id": "jxuU94ni8vFu",
        "outputId": "0fbc9b2a-b4a7-4fcf-cbb6-4db99e2aaa2f"
      },
      "outputs": [
        {
          "name": "stderr",
          "output_type": "stream",
          "text": [
            "C:\\Users\\guiro\\AppData\\Local\\Temp\\ipykernel_2568\\1200418084.py:3: DtypeWarning: Columns (7) have mixed types. Specify dtype option on import or set low_memory=False.\n",
            "  df = pd.read_csv('C:\\\\01-FaculdadeSemestreAtual\\\\Processamento_de_Dados_Massivos\\\\reclamacoes_contexto.csv', sep = ';')\n"
          ]
        }
      ],
      "source": [
        "import pandas as pd\n",
        "\n",
        "df = pd.read_csv('C:\\\\01-FaculdadeSemestreAtual\\\\Processamento_de_Dados_Massivos\\\\reclamacoes_contexto.csv', sep = ';')"
      ]
    },
    {
      "cell_type": "code",
      "execution_count": 4,
      "metadata": {
        "id": "zdeT7SQq9kDQ"
      },
      "outputs": [
        {
          "data": {
            "text/html": [
              "<div>\n",
              "<style scoped>\n",
              "    .dataframe tbody tr th:only-of-type {\n",
              "        vertical-align: middle;\n",
              "    }\n",
              "\n",
              "    .dataframe tbody tr th {\n",
              "        vertical-align: top;\n",
              "    }\n",
              "\n",
              "    .dataframe thead th {\n",
              "        text-align: right;\n",
              "    }\n",
              "</style>\n",
              "<table border=\"1\" class=\"dataframe\">\n",
              "  <thead>\n",
              "    <tr style=\"text-align: right;\">\n",
              "      <th></th>\n",
              "      <th>DataExtracao</th>\n",
              "      <th>SOLICITAÇÕES</th>\n",
              "      <th>Ano</th>\n",
              "      <th>Mês</th>\n",
              "      <th>AnoMês</th>\n",
              "      <th>UF</th>\n",
              "      <th>Cidade</th>\n",
              "      <th>CO_MUNICIPIO</th>\n",
              "      <th>CanalEntrada</th>\n",
              "      <th>Condição</th>\n",
              "      <th>TipoAtendimento</th>\n",
              "      <th>Serviço</th>\n",
              "      <th>Marca</th>\n",
              "      <th>Assunto</th>\n",
              "      <th>Problema</th>\n",
              "      <th>Linha</th>\n",
              "    </tr>\n",
              "  </thead>\n",
              "  <tbody>\n",
              "    <tr>\n",
              "      <th>0</th>\n",
              "      <td>2018-04-23</td>\n",
              "      <td>1</td>\n",
              "      <td>2015</td>\n",
              "      <td>1</td>\n",
              "      <td>2015-01</td>\n",
              "      <td>DF</td>\n",
              "      <td>Brasília</td>\n",
              "      <td>5300108</td>\n",
              "      <td>SIC</td>\n",
              "      <td>Reencaminhada</td>\n",
              "      <td>Pedido de Informação</td>\n",
              "      <td>Outros</td>\n",
              "      <td>Outros</td>\n",
              "      <td>NÃO APLICÁVEL</td>\n",
              "      <td>SIC</td>\n",
              "      <td>1</td>\n",
              "    </tr>\n",
              "    <tr>\n",
              "      <th>1</th>\n",
              "      <td>2018-04-23</td>\n",
              "      <td>1</td>\n",
              "      <td>2015</td>\n",
              "      <td>1</td>\n",
              "      <td>2015-01</td>\n",
              "      <td>AC</td>\n",
              "      <td>Rio Branco</td>\n",
              "      <td>1200401</td>\n",
              "      <td>Fale Conosco</td>\n",
              "      <td>Nova</td>\n",
              "      <td>Reclamação</td>\n",
              "      <td>STFC</td>\n",
              "      <td>OI</td>\n",
              "      <td>Bloqueio ou Suspensão e Desbloqueio</td>\n",
              "      <td>Bloqueio ou suspensão indevido</td>\n",
              "      <td>2</td>\n",
              "    </tr>\n",
              "    <tr>\n",
              "      <th>2</th>\n",
              "      <td>2018-04-23</td>\n",
              "      <td>1</td>\n",
              "      <td>2015</td>\n",
              "      <td>1</td>\n",
              "      <td>2015-01</td>\n",
              "      <td>AL</td>\n",
              "      <td>Maceió</td>\n",
              "      <td>2704302</td>\n",
              "      <td>Fale Conosco</td>\n",
              "      <td>Nova</td>\n",
              "      <td>Reclamação</td>\n",
              "      <td>SMP_Pós</td>\n",
              "      <td>VIVO</td>\n",
              "      <td>Qualidade e Funcionamento do Serviço ou Equipa...</td>\n",
              "      <td>Lentidão ou velocidade reduzida de conexão</td>\n",
              "      <td>3</td>\n",
              "    </tr>\n",
              "    <tr>\n",
              "      <th>3</th>\n",
              "      <td>2018-04-23</td>\n",
              "      <td>1</td>\n",
              "      <td>2015</td>\n",
              "      <td>1</td>\n",
              "      <td>2015-01</td>\n",
              "      <td>AM</td>\n",
              "      <td>Manaus</td>\n",
              "      <td>1302603</td>\n",
              "      <td>Fale Conosco</td>\n",
              "      <td>Reencaminhada</td>\n",
              "      <td>Reclamação</td>\n",
              "      <td>SMP_Pré</td>\n",
              "      <td>VIVO</td>\n",
              "      <td>Crédito Pré-pago</td>\n",
              "      <td>Crédito pré-pago cobrado de maneira indevida</td>\n",
              "      <td>4</td>\n",
              "    </tr>\n",
              "    <tr>\n",
              "      <th>4</th>\n",
              "      <td>2018-04-23</td>\n",
              "      <td>1</td>\n",
              "      <td>2015</td>\n",
              "      <td>1</td>\n",
              "      <td>2015-01</td>\n",
              "      <td>AM</td>\n",
              "      <td>Manaus</td>\n",
              "      <td>1302603</td>\n",
              "      <td>Fale Conosco</td>\n",
              "      <td>Nova</td>\n",
              "      <td>Reclamação</td>\n",
              "      <td>STFC</td>\n",
              "      <td>OI</td>\n",
              "      <td>Qualidade e Funcionamento do Serviço ou Equipa...</td>\n",
              "      <td>Interrupção do serviço</td>\n",
              "      <td>5</td>\n",
              "    </tr>\n",
              "  </tbody>\n",
              "</table>\n",
              "</div>"
            ],
            "text/plain": [
              "  DataExtracao  SOLICITAÇÕES   Ano  Mês   AnoMês  UF      Cidade CO_MUNICIPIO  \\\n",
              "0   2018-04-23             1  2015    1  2015-01  DF    Brasília      5300108   \n",
              "1   2018-04-23             1  2015    1  2015-01  AC  Rio Branco      1200401   \n",
              "2   2018-04-23             1  2015    1  2015-01  AL      Maceió      2704302   \n",
              "3   2018-04-23             1  2015    1  2015-01  AM      Manaus      1302603   \n",
              "4   2018-04-23             1  2015    1  2015-01  AM      Manaus      1302603   \n",
              "\n",
              "   CanalEntrada       Condição       TipoAtendimento  Serviço   Marca  \\\n",
              "0           SIC  Reencaminhada  Pedido de Informação   Outros  Outros   \n",
              "1  Fale Conosco           Nova            Reclamação     STFC      OI   \n",
              "2  Fale Conosco           Nova            Reclamação  SMP_Pós    VIVO   \n",
              "3  Fale Conosco  Reencaminhada            Reclamação  SMP_Pré    VIVO   \n",
              "4  Fale Conosco           Nova            Reclamação     STFC      OI   \n",
              "\n",
              "                                             Assunto  \\\n",
              "0                                      NÃO APLICÁVEL   \n",
              "1                Bloqueio ou Suspensão e Desbloqueio   \n",
              "2  Qualidade e Funcionamento do Serviço ou Equipa...   \n",
              "3                                   Crédito Pré-pago   \n",
              "4  Qualidade e Funcionamento do Serviço ou Equipa...   \n",
              "\n",
              "                                       Problema  Linha  \n",
              "0                                           SIC      1  \n",
              "1                Bloqueio ou suspensão indevido      2  \n",
              "2    Lentidão ou velocidade reduzida de conexão      3  \n",
              "3  Crédito pré-pago cobrado de maneira indevida      4  \n",
              "4                        Interrupção do serviço      5  "
            ]
          },
          "execution_count": 4,
          "metadata": {},
          "output_type": "execute_result"
        }
      ],
      "source": [
        "df.head()"
      ]
    },
    {
      "cell_type": "markdown",
      "metadata": {
        "id": "mIyBfgd7aA6b"
      },
      "source": [
        "### Segunda Parte) Agora com o Spark..."
      ]
    },
    {
      "cell_type": "code",
      "execution_count": 5,
      "metadata": {
        "id": "pB4DgnDLadXD"
      },
      "outputs": [],
      "source": [
        "import pyspark\n",
        "from pyspark.sql import SparkSession"
      ]
    },
    {
      "cell_type": "code",
      "execution_count": 6,
      "metadata": {
        "id": "bHYAyTZ1agJX"
      },
      "outputs": [],
      "source": [
        "spark = SparkSession.builder.appName(\"Introducao Spark\").getOrCreate()"
      ]
    },
    {
      "cell_type": "code",
      "execution_count": 8,
      "metadata": {
        "id": "WXbtE935aiet"
      },
      "outputs": [],
      "source": [
        "df_spark = spark.read.option(\"header\",\"true\")\\\n",
        "          .option(\"encoding\", \"utf-8\")\\\n",
        "          .option(\"sep\",\";\")\\\n",
        "          .option('inferSchema', 'true')\\\n",
        "          .csv('C:\\\\01-FaculdadeSemestreAtual\\\\Processamento_de_Dados_Massivos\\\\reclamacoes_contexto.csv')\n"
      ]
    },
    {
      "cell_type": "code",
      "execution_count": 9,
      "metadata": {
        "id": "DO0Speu5dbhM"
      },
      "outputs": [
        {
          "name": "stdout",
          "output_type": "stream",
          "text": [
            "root\n",
            " |-- DataExtracao: date (nullable = true)\n",
            " |-- SOLICITAÇÕES: integer (nullable = true)\n",
            " |-- Ano: integer (nullable = true)\n",
            " |-- Mês: integer (nullable = true)\n",
            " |-- AnoMês: timestamp (nullable = true)\n",
            " |-- UF: string (nullable = true)\n",
            " |-- Cidade: string (nullable = true)\n",
            " |-- CO_MUNICIPIO: string (nullable = true)\n",
            " |-- CanalEntrada: string (nullable = true)\n",
            " |-- Condição: string (nullable = true)\n",
            " |-- TipoAtendimento: string (nullable = true)\n",
            " |-- Serviço: string (nullable = true)\n",
            " |-- Marca: string (nullable = true)\n",
            " |-- Assunto: string (nullable = true)\n",
            " |-- Problema: string (nullable = true)\n",
            " |-- Linha: integer (nullable = true)\n",
            "\n"
          ]
        }
      ],
      "source": [
        "df_spark.printSchema()"
      ]
    },
    {
      "cell_type": "code",
      "execution_count": 12,
      "metadata": {
        "id": "smejYEJ5d-DG"
      },
      "outputs": [
        {
          "data": {
            "text/plain": [
              "22513536"
            ]
          },
          "execution_count": 12,
          "metadata": {},
          "output_type": "execute_result"
        }
      ],
      "source": [
        "# Quantos registros no total?\n",
        "df_spark.count()"
      ]
    },
    {
      "cell_type": "code",
      "execution_count": 10,
      "metadata": {
        "id": "wbsRDVSjwxJV"
      },
      "outputs": [
        {
          "name": "stdout",
          "output_type": "stream",
          "text": [
            "+------------+------------+----+---+-------------------+---+----------+------------+------------+-------------+--------------------+-------+------+--------------------+--------------------+-----+\n",
            "|DataExtracao|SOLICITAÇÕES| Ano|Mês|             AnoMês| UF|    Cidade|CO_MUNICIPIO|CanalEntrada|     Condição|     TipoAtendimento|Serviço| Marca|             Assunto|            Problema|Linha|\n",
            "+------------+------------+----+---+-------------------+---+----------+------------+------------+-------------+--------------------+-------+------+--------------------+--------------------+-----+\n",
            "|  2018-04-23|           1|2015|  1|2015-01-01 00:00:00| DF|  Brasília|     5300108|         SIC|Reencaminhada|Pedido de Informação| Outros|Outros|       NÃO APLICÁVEL|                 SIC|    1|\n",
            "|  2018-04-23|           1|2015|  1|2015-01-01 00:00:00| AC|Rio Branco|     1200401|Fale Conosco|         Nova|          Reclamação|   STFC|    OI|Bloqueio ou Suspe...|Bloqueio ou suspe...|    2|\n",
            "|  2018-04-23|           1|2015|  1|2015-01-01 00:00:00| AL|    Maceió|     2704302|Fale Conosco|         Nova|          Reclamação|SMP_Pós|  VIVO|Qualidade e Funci...|Lentidão ou veloc...|    3|\n",
            "|  2018-04-23|           1|2015|  1|2015-01-01 00:00:00| AM|    Manaus|     1302603|Fale Conosco|Reencaminhada|          Reclamação|SMP_Pré|  VIVO|    Crédito Pré-pago|Crédito pré-pago ...|    4|\n",
            "|  2018-04-23|           1|2015|  1|2015-01-01 00:00:00| AM|    Manaus|     1302603|Fale Conosco|         Nova|          Reclamação|   STFC|    OI|Qualidade e Funci...|Interrupção do se...|    5|\n",
            "+------------+------------+----+---+-------------------+---+----------+------------+------------+-------------+--------------------+-------+------+--------------------+--------------------+-----+\n",
            "\n"
          ]
        }
      ],
      "source": [
        "# Uso do comando \"limit()\"\n",
        "df_spark.limit(5).show()"
      ]
    },
    {
      "cell_type": "code",
      "execution_count": 17,
      "metadata": {
        "id": "3TevYsl9aJPQ"
      },
      "outputs": [
        {
          "name": "stdout",
          "output_type": "stream",
          "text": [
            "+---+-----------------+\n",
            "| UF|sum(SOLICITAÇÕES)|\n",
            "+---+-----------------+\n",
            "| RN|                1|\n",
            "| PI|                1|\n",
            "| MT|                2|\n",
            "| RR|                2|\n",
            "| TO|                2|\n",
            "| MA|                4|\n",
            "| PA|                4|\n",
            "| ES|                5|\n",
            "| AP|                5|\n",
            "| AC|                6|\n",
            "| MS|                7|\n",
            "| SE|                7|\n",
            "| RO|               10|\n",
            "| PB|               12|\n",
            "| SC|               16|\n",
            "| PE|               16|\n",
            "| DF|               17|\n",
            "| AL|               20|\n",
            "| RS|               23|\n",
            "| PR|               24|\n",
            "+---+-----------------+\n",
            "only showing top 20 rows\n",
            "\n"
          ]
        }
      ],
      "source": [
        "# Quantas reclamações por UF?\n",
        "df_spark.limit(1000).groupBy(\"UF\").agg({\"SOLICITAÇÕES\": \"sum\"}).orderBy(\"sum(SOLICITAÇÕES)\").show()\n"
      ]
    },
    {
      "cell_type": "code",
      "execution_count": 14,
      "metadata": {
        "id": "VdwXBohUiruu"
      },
      "outputs": [
        {
          "name": "stdout",
          "output_type": "stream",
          "text": [
            "+------------+------------+----+---+-------------------+---+--------------------+------------+------------+-------------+---------------+-------+-----+-----------------------------------------------------+-------------------------------------------------------------+-----+\n",
            "|DataExtracao|SOLICITAÇÕES|Ano |Mês|AnoMês             |UF |Cidade              |CO_MUNICIPIO|CanalEntrada|Condição     |TipoAtendimento|Serviço|Marca|Assunto                                              |Problema                                                     |Linha|\n",
            "+------------+------------+----+---+-------------------+---+--------------------+------------+------------+-------------+---------------+-------+-----+-----------------------------------------------------+-------------------------------------------------------------+-----+\n",
            "|2018-04-23  |1           |2015|1  |2015-01-01 00:00:00|AL |Maceió              |2704302     |Fale Conosco|Nova         |Reclamação     |SMP_Pós|VIVO |Qualidade e Funcionamento do Serviço ou Equipamento  |Lentidão ou velocidade reduzida de conexão                   |3    |\n",
            "|2018-04-23  |1           |2015|1  |2015-01-01 00:00:00|AM |Manaus              |1302603     |Fale Conosco|Reencaminhada|Reclamação     |SMP_Pré|VIVO |Crédito Pré-pago                                     |Crédito pré-pago cobrado de maneira indevida                 |4    |\n",
            "|2018-04-23  |1           |2015|1  |2015-01-01 00:00:00|AM |Manaus              |1302603     |Fale Conosco|Nova         |Reclamação     |SMP_Pós|VIVO |Qualidade e Funcionamento do Serviço ou Equipamento  |Falha ou ruídos na chamada                                   |6    |\n",
            "|2018-04-23  |1           |2015|1  |2015-01-01 00:00:00|BA |Riacho de Santana   |2926400     |Fale Conosco|Nova         |Reclamação     |SMP_Pré|VIVO |Qualidade e Funcionamento do Serviço ou Equipamento  |Sem Conexão                                                  |16   |\n",
            "|2018-04-23  |1           |2015|1  |2015-01-01 00:00:00|CE |Caucaia             |2303709     |Fale Conosco|Nova         |Reclamação     |SMP_Pós|VIVO |Portabilidade                                        |Portabilidade não realizada no prazo                         |36   |\n",
            "|2018-04-23  |1           |2015|1  |2015-01-01 00:00:00|CE |Caucaia             |2303709     |Fale Conosco|Nova         |Reclamação     |STFC   |VIVO |Bônus e Promoções                                    |Não consegue aderir à promoção                               |37   |\n",
            "|2018-04-23  |1           |2015|1  |2015-01-01 00:00:00|CE |Fortaleza           |2304400     |Fale Conosco|Reaberta     |Reclamação     |SCM    |VIVO |Cobrança                                             |Cobrança de valores ou taxas não informadas anteriormente    |40   |\n",
            "|2018-04-23  |1           |2015|1  |2015-01-01 00:00:00|CE |Fortaleza           |2304400     |Fale Conosco|Reaberta     |Reclamação     |SeAC   |VIVO |Atendimento                                          |Indisponibilidade do canal de atendimento                    |41   |\n",
            "|2018-04-23  |1           |2015|1  |2015-01-01 00:00:00|CE |Fortaleza           |2304400     |Fale Conosco|Nova         |Reclamação     |SCM    |VIVO |Qualidade e Funcionamento do Serviço ou Equipamento  |Persistência do problema após reparo                         |44   |\n",
            "|2018-04-23  |2           |2015|1  |2015-01-01 00:00:00|DF |Brasília            |5300108     |Fale Conosco|Reencaminhada|Reclamação     |SeAC   |VIVO |Qualidade e Funcionamento do Serviço ou Equipamento  |Troca de equipamento não efetuada                            |53   |\n",
            "|2018-04-23  |1           |2015|1  |2015-01-01 00:00:00|DF |Brasília            |5300108     |Fale Conosco|Nova         |Reclamação     |SCM    |VIVO |Instalação ou Ativação ou Habilitação                |Instalação ou habilitação indevida ou não solicitada         |54   |\n",
            "|2018-04-23  |1           |2015|1  |2015-01-01 00:00:00|DF |Brasília            |5300108     |Fale Conosco|Nova         |Reclamação     |SeAC   |VIVO |Qualidade e Funcionamento do Serviço ou Equipamento  |Não cumprimento de agendamento de reparo                     |55   |\n",
            "|2018-04-23  |1           |2015|1  |2015-01-01 00:00:00|GO |Aparecida de Goiânia|5201405     |Fale Conosco|Nova         |Reclamação     |STFC   |VIVO |Instalação ou Ativação ou Habilitação                |Instalação inadequada do serviço                             |73   |\n",
            "|2018-04-23  |2           |2015|1  |2015-01-01 00:00:00|GO |Goiânia             |5208707     |Fale Conosco|Reaberta     |Reclamação     |SeAC   |VIVO |Cobrança                                             |Cobrança em desacordo com o contratado                       |76   |\n",
            "|2018-04-23  |1           |2015|1  |2015-01-01 00:00:00|GO |Goiânia             |5208707     |Fale Conosco|Nova         |Reclamação     |SMP_Pós|VIVO |Cancelamento                                         |Cancelamento indevido ou não solicitado                      |80   |\n",
            "|2018-04-23  |1           |2015|1  |2015-01-01 00:00:00|GO |Goiânia             |5208707     |Fale Conosco|Nova         |Reclamação     |SMP_Pós|VIVO |Cobrança                                             |Consumidor não consegue contestar a cobrança                 |81   |\n",
            "|2018-04-23  |1           |2015|1  |2015-01-01 00:00:00|GO |Goiânia             |5208707     |Fale Conosco|Nova         |Reclamação     |STFC   |VIVO |Cobrança                                             |Cobrança indevida de multa por fidelização (multa rescisória)|82   |\n",
            "|2018-04-23  |1           |2015|1  |2015-01-01 00:00:00|MA |Imperatriz          |2105302     |Fale Conosco|Nova         |Reclamação     |SMP_Pré|VIVO |Documento de Cobrança, Contrato, Relatório, Gravações|Documento de cobrança de difícil entendimento                |93   |\n",
            "|2018-04-23  |1           |2015|1  |2015-01-01 00:00:00|MA |São Luís            |2111300     |Fale Conosco|Nova         |Reclamação     |SMP_Pré|VIVO |Ressarcimento                                        |Ressarcimento de valores não efetuado                        |96   |\n",
            "|2018-04-23  |1           |2015|1  |2015-01-01 00:00:00|MG |Belo Horizonte      |3106200     |Fale Conosco|Nova         |Reclamação     |SMP_Pós|VIVO |Cancelamento                                         |Cancelamento efetuado fora do prazo                          |106  |\n",
            "+------------+------------+----+---+-------------------+---+--------------------+------------+------------+-------------+---------------+-------+-----+-----------------------------------------------------+-------------------------------------------------------------+-----+\n",
            "only showing top 20 rows\n",
            "\n"
          ]
        }
      ],
      "source": [
        "# Quantas reclamações da Vivo?\n",
        "df_spark.filter((df_spark.Marca == 'VIVO')).show(truncate=False)"
      ]
    },
    {
      "cell_type": "code",
      "execution_count": 21,
      "metadata": {},
      "outputs": [
        {
          "data": {
            "text/html": [
              "<div>\n",
              "<style scoped>\n",
              "    .dataframe tbody tr th:only-of-type {\n",
              "        vertical-align: middle;\n",
              "    }\n",
              "\n",
              "    .dataframe tbody tr th {\n",
              "        vertical-align: top;\n",
              "    }\n",
              "\n",
              "    .dataframe thead th {\n",
              "        text-align: right;\n",
              "    }\n",
              "</style>\n",
              "<table border=\"1\" class=\"dataframe\">\n",
              "  <thead>\n",
              "    <tr style=\"text-align: right;\">\n",
              "      <th></th>\n",
              "      <th>Ano</th>\n",
              "      <th>sum(SOLICITAÇÕES)</th>\n",
              "    </tr>\n",
              "  </thead>\n",
              "  <tbody>\n",
              "    <tr>\n",
              "      <th>0</th>\n",
              "      <td>2015</td>\n",
              "      <td>4132965</td>\n",
              "    </tr>\n",
              "    <tr>\n",
              "      <th>1</th>\n",
              "      <td>2017</td>\n",
              "      <td>3447450</td>\n",
              "    </tr>\n",
              "    <tr>\n",
              "      <th>2</th>\n",
              "      <td>2016</td>\n",
              "      <td>3962021</td>\n",
              "    </tr>\n",
              "    <tr>\n",
              "      <th>3</th>\n",
              "      <td>2018</td>\n",
              "      <td>2982349</td>\n",
              "    </tr>\n",
              "    <tr>\n",
              "      <th>4</th>\n",
              "      <td>2019</td>\n",
              "      <td>3018934</td>\n",
              "    </tr>\n",
              "    <tr>\n",
              "      <th>5</th>\n",
              "      <td>2020</td>\n",
              "      <td>3007538</td>\n",
              "    </tr>\n",
              "    <tr>\n",
              "      <th>6</th>\n",
              "      <td>2021</td>\n",
              "      <td>2305937</td>\n",
              "    </tr>\n",
              "    <tr>\n",
              "      <th>7</th>\n",
              "      <td>2022</td>\n",
              "      <td>1785635</td>\n",
              "    </tr>\n",
              "    <tr>\n",
              "      <th>8</th>\n",
              "      <td>2023</td>\n",
              "      <td>1360601</td>\n",
              "    </tr>\n",
              "    <tr>\n",
              "      <th>9</th>\n",
              "      <td>2024</td>\n",
              "      <td>775860</td>\n",
              "    </tr>\n",
              "  </tbody>\n",
              "</table>\n",
              "</div>"
            ],
            "text/plain": [
              "    Ano  sum(SOLICITAÇÕES)\n",
              "0  2015            4132965\n",
              "1  2017            3447450\n",
              "2  2016            3962021\n",
              "3  2018            2982349\n",
              "4  2019            3018934\n",
              "5  2020            3007538\n",
              "6  2021            2305937\n",
              "7  2022            1785635\n",
              "8  2023            1360601\n",
              "9  2024             775860"
            ]
          },
          "execution_count": 21,
          "metadata": {},
          "output_type": "execute_result"
        }
      ],
      "source": [
        "solicitacoes_anuais = df_spark.groupby('Ano').agg({'SOLICITAÇÕES': 'sum'}).toPandas()\n",
        "solicitacoes_anuais"
      ]
    },
    {
      "cell_type": "code",
      "execution_count": null,
      "metadata": {},
      "outputs": [],
      "source": []
    }
  ],
  "metadata": {
    "accelerator": "GPU",
    "colab": {
      "gpuType": "T4",
      "provenance": []
    },
    "kernelspec": {
      "display_name": "Python 3",
      "name": "python3"
    },
    "language_info": {
      "codemirror_mode": {
        "name": "ipython",
        "version": 3
      },
      "file_extension": ".py",
      "mimetype": "text/x-python",
      "name": "python",
      "nbconvert_exporter": "python",
      "pygments_lexer": "ipython3",
      "version": "3.12.5"
    }
  },
  "nbformat": 4,
  "nbformat_minor": 0
}
