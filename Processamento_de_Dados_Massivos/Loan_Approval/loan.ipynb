{
  "cells": [
    {
      "cell_type": "code",
      "execution_count": 17,
      "metadata": {
        "id": "wgFS7JE2F47A"
      },
      "outputs": [],
      "source": [
        "import os\n",
        "os.environ[\"JAVA_HOME\"] = \"C:\\\\jdk-22.0.2\"\n",
        "os.environ[\"SPARK_HOME\"] = \"C:\\\\spark-3.5.2-bin-hadoop3\\\\spark-3.5.2-bin-hadoop3\"\n",
        "os.environ[\"PYSPARK_DRIVER_PYTHON\"] = \"jupyter\"\n",
        "os.environ[\"PYSPARK_PYTHON\"] = \"python\""
      ]
    },
    {
      "cell_type": "code",
      "execution_count": 18,
      "metadata": {
        "id": "P4QEbFs1F47D"
      },
      "outputs": [],
      "source": [
        "from pyspark.sql import SparkSession\n",
        "from pyspark.sql.functions import isnan, when, count, col, lit, regexp_extract\n",
        "from pyspark.sql.types import IntegerType, DoubleType\n",
        "from pyspark.ml.classification import LogisticRegression\n",
        "from pyspark.ml.evaluation import BinaryClassificationEvaluator\n",
        "from pyspark.ml.tuning import ParamGridBuilder, TrainValidationSplit\n",
        "from pyspark.ml.evaluation import MulticlassClassificationEvaluator\n",
        "from pyspark.ml.feature import StringIndexer, VectorAssembler, OneHotEncoder\n",
        "from pyspark.ml import Pipeline\n",
        "from pyspark.mllib.evaluation import BinaryClassificationMetrics as metric\n",
        "from pyspark.ml.classification import RandomForestClassifier\n",
        "from pyspark.ml.classification import GBTClassifier\n",
        "from sklearn.metrics import roc_curve, auc\n",
        "import pandas as pd\n",
        "import numpy as np"
      ]
    },
    {
      "cell_type": "code",
      "execution_count": 19,
      "metadata": {
        "id": "SOpA8gjeF47E"
      },
      "outputs": [],
      "source": [
        "spark = SparkSession.builder.appName('Pyspark_Loan').getOrCreate()"
      ]
    },
    {
      "cell_type": "code",
      "execution_count": 20,
      "metadata": {
        "id": "bEeW_qOEF47F"
      },
      "outputs": [],
      "source": [
        "df = spark.read.csv('C:\\\\01-FaculdadeSemestreAtual\\\\Processamento_de_Dados_Massivos\\\\Loan_Approval\\\\train.csv',header = 'True',inferSchema='True')\n",
        "final_test = spark.read.csv('C:\\\\01-FaculdadeSemestreAtual\\\\Processamento_de_Dados_Massivos\\\\Loan_Approval\\\\test.csv',header = 'True',inferSchema='True')"
      ]
    },
    {
      "cell_type": "code",
      "execution_count": 21,
      "metadata": {
        "colab": {
          "base_uri": "https://localhost:8080/"
        },
        "id": "BogI0F49F47F",
        "outputId": "8809fe66-1218-4daf-b445-be15f4fc0df2"
      },
      "outputs": [
        {
          "name": "stdout",
          "output_type": "stream",
          "text": [
            "+---+----------+-------------+---------------------+-----------------+-----------+----------+---------+-------------+-------------------+-------------------------+--------------------------+-----------+\n",
            "| id|person_age|person_income|person_home_ownership|person_emp_length|loan_intent|loan_grade|loan_amnt|loan_int_rate|loan_percent_income|cb_person_default_on_file|cb_person_cred_hist_length|loan_status|\n",
            "+---+----------+-------------+---------------------+-----------------+-----------+----------+---------+-------------+-------------------+-------------------------+--------------------------+-----------+\n",
            "|  0|        37|        35000|                 RENT|              0.0|  EDUCATION|         B|     6000|        11.49|               0.17|                        N|                        14|          0|\n",
            "|  1|        22|        56000|                  OWN|              6.0|    MEDICAL|         C|     4000|        13.35|               0.07|                        N|                         2|          0|\n",
            "|  2|        29|        28800|                  OWN|              8.0|   PERSONAL|         A|     6000|          8.9|               0.21|                        N|                        10|          0|\n",
            "|  3|        30|        70000|                 RENT|             14.0|    VENTURE|         B|    12000|        11.11|               0.17|                        N|                         5|          0|\n",
            "|  4|        22|        60000|                 RENT|              2.0|    MEDICAL|         A|     6000|         6.92|                0.1|                        N|                         3|          0|\n",
            "+---+----------+-------------+---------------------+-----------------+-----------+----------+---------+-------------+-------------------+-------------------------+--------------------------+-----------+\n",
            "only showing top 5 rows\n",
            "\n"
          ]
        }
      ],
      "source": [
        "df.show(5)"
      ]
    },
    {
      "cell_type": "code",
      "execution_count": 22,
      "metadata": {
        "colab": {
          "base_uri": "https://localhost:8080/"
        },
        "id": "A2aZMHMeF47G",
        "outputId": "e211e956-2fe6-4a85-f21f-33ffd8fcd73f"
      },
      "outputs": [
        {
          "data": {
            "text/plain": [
              "58645"
            ]
          },
          "execution_count": 22,
          "metadata": {},
          "output_type": "execute_result"
        }
      ],
      "source": [
        "df.count()"
      ]
    },
    {
      "cell_type": "code",
      "execution_count": 23,
      "metadata": {
        "colab": {
          "base_uri": "https://localhost:8080/"
        },
        "id": "T8kF_HgdF47G",
        "outputId": "5a69b8d1-e245-40e5-e414-c4ecf005eec7"
      },
      "outputs": [
        {
          "name": "stdout",
          "output_type": "stream",
          "text": [
            "root\n",
            " |-- id: integer (nullable = true)\n",
            " |-- person_age: integer (nullable = true)\n",
            " |-- person_income: integer (nullable = true)\n",
            " |-- person_home_ownership: string (nullable = true)\n",
            " |-- person_emp_length: double (nullable = true)\n",
            " |-- loan_intent: string (nullable = true)\n",
            " |-- loan_grade: string (nullable = true)\n",
            " |-- loan_amnt: integer (nullable = true)\n",
            " |-- loan_int_rate: double (nullable = true)\n",
            " |-- loan_percent_income: double (nullable = true)\n",
            " |-- cb_person_default_on_file: string (nullable = true)\n",
            " |-- cb_person_cred_hist_length: integer (nullable = true)\n",
            " |-- loan_status: integer (nullable = true)\n",
            "\n"
          ]
        }
      ],
      "source": [
        "df.printSchema()"
      ]
    },
    {
      "cell_type": "code",
      "execution_count": 24,
      "metadata": {
        "colab": {
          "base_uri": "https://localhost:8080/"
        },
        "id": "vrXStSqVF47H",
        "outputId": "fde98fbc-6455-48e9-9108-b8b08a9c72f5"
      },
      "outputs": [
        {
          "name": "stdout",
          "output_type": "stream",
          "text": [
            "+---+----------+-------------+---------------------+-----------------+-----------+----------+---------+-------------+-------------------+-------------------------+--------------------------+-----------+\n",
            "| id|person_age|person_income|person_home_ownership|person_emp_length|loan_intent|loan_grade|loan_amnt|loan_int_rate|loan_percent_income|cb_person_default_on_file|cb_person_cred_hist_length|loan_status|\n",
            "+---+----------+-------------+---------------------+-----------------+-----------+----------+---------+-------------+-------------------+-------------------------+--------------------------+-----------+\n",
            "|  0|         0|            0|                    0|                0|          0|         0|        0|            0|                  0|                        0|                         0|          0|\n",
            "+---+----------+-------------+---------------------+-----------------+-----------+----------+---------+-------------+-------------------+-------------------------+--------------------------+-----------+\n",
            "\n"
          ]
        }
      ],
      "source": [
        "df.select([count(when(col(c).isNull(), c)).alias(c) for c in df.columns]).show()"
      ]
    },
    {
      "cell_type": "code",
      "execution_count": 25,
      "metadata": {
        "colab": {
          "base_uri": "https://localhost:8080/",
          "height": 383
        },
        "id": "R8-GnNu4F47H",
        "outputId": "5d290c62-a032-4e45-9cef-5e569cf49ba9"
      },
      "outputs": [
        {
          "data": {
            "text/html": [
              "<div>\n",
              "<style scoped>\n",
              "    .dataframe tbody tr th:only-of-type {\n",
              "        vertical-align: middle;\n",
              "    }\n",
              "\n",
              "    .dataframe tbody tr th {\n",
              "        vertical-align: top;\n",
              "    }\n",
              "\n",
              "    .dataframe thead th {\n",
              "        text-align: right;\n",
              "    }\n",
              "</style>\n",
              "<table border=\"1\" class=\"dataframe\">\n",
              "  <thead>\n",
              "    <tr style=\"text-align: right;\">\n",
              "      <th></th>\n",
              "      <th>id</th>\n",
              "      <th>person_age</th>\n",
              "      <th>person_income</th>\n",
              "      <th>person_home_ownership</th>\n",
              "      <th>person_emp_length</th>\n",
              "      <th>loan_intent</th>\n",
              "      <th>loan_grade</th>\n",
              "      <th>loan_amnt</th>\n",
              "      <th>loan_int_rate</th>\n",
              "      <th>loan_percent_income</th>\n",
              "      <th>cb_person_default_on_file</th>\n",
              "      <th>cb_person_cred_hist_length</th>\n",
              "      <th>loan_status</th>\n",
              "    </tr>\n",
              "  </thead>\n",
              "  <tbody>\n",
              "    <tr>\n",
              "      <th>93</th>\n",
              "      <td>93</td>\n",
              "      <td>27</td>\n",
              "      <td>70000</td>\n",
              "      <td>MORTGAGE</td>\n",
              "      <td>0.0</td>\n",
              "      <td>EDUCATION</td>\n",
              "      <td>C</td>\n",
              "      <td>6000</td>\n",
              "      <td>12.53</td>\n",
              "      <td>0.09</td>\n",
              "      <td>Y</td>\n",
              "      <td>8</td>\n",
              "      <td>0</td>\n",
              "    </tr>\n",
              "    <tr>\n",
              "      <th>79</th>\n",
              "      <td>79</td>\n",
              "      <td>24</td>\n",
              "      <td>90000</td>\n",
              "      <td>MORTGAGE</td>\n",
              "      <td>8.0</td>\n",
              "      <td>PERSONAL</td>\n",
              "      <td>A</td>\n",
              "      <td>10000</td>\n",
              "      <td>5.99</td>\n",
              "      <td>0.11</td>\n",
              "      <td>N</td>\n",
              "      <td>2</td>\n",
              "      <td>0</td>\n",
              "    </tr>\n",
              "    <tr>\n",
              "      <th>74</th>\n",
              "      <td>74</td>\n",
              "      <td>23</td>\n",
              "      <td>100000</td>\n",
              "      <td>MORTGAGE</td>\n",
              "      <td>7.0</td>\n",
              "      <td>EDUCATION</td>\n",
              "      <td>A</td>\n",
              "      <td>6000</td>\n",
              "      <td>7.74</td>\n",
              "      <td>0.06</td>\n",
              "      <td>N</td>\n",
              "      <td>3</td>\n",
              "      <td>0</td>\n",
              "    </tr>\n",
              "    <tr>\n",
              "      <th>53</th>\n",
              "      <td>53</td>\n",
              "      <td>23</td>\n",
              "      <td>48000</td>\n",
              "      <td>RENT</td>\n",
              "      <td>7.0</td>\n",
              "      <td>MEDICAL</td>\n",
              "      <td>A</td>\n",
              "      <td>8000</td>\n",
              "      <td>8.90</td>\n",
              "      <td>0.17</td>\n",
              "      <td>N</td>\n",
              "      <td>4</td>\n",
              "      <td>1</td>\n",
              "    </tr>\n",
              "    <tr>\n",
              "      <th>12</th>\n",
              "      <td>12</td>\n",
              "      <td>25</td>\n",
              "      <td>33000</td>\n",
              "      <td>MORTGAGE</td>\n",
              "      <td>1.0</td>\n",
              "      <td>EDUCATION</td>\n",
              "      <td>B</td>\n",
              "      <td>4000</td>\n",
              "      <td>10.75</td>\n",
              "      <td>0.12</td>\n",
              "      <td>N</td>\n",
              "      <td>3</td>\n",
              "      <td>0</td>\n",
              "    </tr>\n",
              "    <tr>\n",
              "      <th>20</th>\n",
              "      <td>20</td>\n",
              "      <td>28</td>\n",
              "      <td>45000</td>\n",
              "      <td>OWN</td>\n",
              "      <td>0.0</td>\n",
              "      <td>PERSONAL</td>\n",
              "      <td>A</td>\n",
              "      <td>3200</td>\n",
              "      <td>7.88</td>\n",
              "      <td>0.07</td>\n",
              "      <td>N</td>\n",
              "      <td>5</td>\n",
              "      <td>0</td>\n",
              "    </tr>\n",
              "    <tr>\n",
              "      <th>85</th>\n",
              "      <td>85</td>\n",
              "      <td>30</td>\n",
              "      <td>74000</td>\n",
              "      <td>MORTGAGE</td>\n",
              "      <td>14.0</td>\n",
              "      <td>DEBTCONSOLIDATION</td>\n",
              "      <td>D</td>\n",
              "      <td>7000</td>\n",
              "      <td>15.62</td>\n",
              "      <td>0.09</td>\n",
              "      <td>N</td>\n",
              "      <td>7</td>\n",
              "      <td>1</td>\n",
              "    </tr>\n",
              "    <tr>\n",
              "      <th>39</th>\n",
              "      <td>39</td>\n",
              "      <td>22</td>\n",
              "      <td>32000</td>\n",
              "      <td>RENT</td>\n",
              "      <td>6.0</td>\n",
              "      <td>EDUCATION</td>\n",
              "      <td>D</td>\n",
              "      <td>8000</td>\n",
              "      <td>15.58</td>\n",
              "      <td>0.25</td>\n",
              "      <td>N</td>\n",
              "      <td>3</td>\n",
              "      <td>1</td>\n",
              "    </tr>\n",
              "    <tr>\n",
              "      <th>83</th>\n",
              "      <td>83</td>\n",
              "      <td>37</td>\n",
              "      <td>75000</td>\n",
              "      <td>RENT</td>\n",
              "      <td>0.0</td>\n",
              "      <td>PERSONAL</td>\n",
              "      <td>A</td>\n",
              "      <td>10000</td>\n",
              "      <td>6.99</td>\n",
              "      <td>0.13</td>\n",
              "      <td>N</td>\n",
              "      <td>15</td>\n",
              "      <td>0</td>\n",
              "    </tr>\n",
              "    <tr>\n",
              "      <th>60</th>\n",
              "      <td>60</td>\n",
              "      <td>26</td>\n",
              "      <td>54000</td>\n",
              "      <td>RENT</td>\n",
              "      <td>1.0</td>\n",
              "      <td>PERSONAL</td>\n",
              "      <td>A</td>\n",
              "      <td>9600</td>\n",
              "      <td>9.32</td>\n",
              "      <td>0.18</td>\n",
              "      <td>N</td>\n",
              "      <td>4</td>\n",
              "      <td>1</td>\n",
              "    </tr>\n",
              "  </tbody>\n",
              "</table>\n",
              "</div>"
            ],
            "text/plain": [
              "    id  person_age  person_income person_home_ownership  person_emp_length  \\\n",
              "93  93          27          70000              MORTGAGE                0.0   \n",
              "79  79          24          90000              MORTGAGE                8.0   \n",
              "74  74          23         100000              MORTGAGE                7.0   \n",
              "53  53          23          48000                  RENT                7.0   \n",
              "12  12          25          33000              MORTGAGE                1.0   \n",
              "20  20          28          45000                   OWN                0.0   \n",
              "85  85          30          74000              MORTGAGE               14.0   \n",
              "39  39          22          32000                  RENT                6.0   \n",
              "83  83          37          75000                  RENT                0.0   \n",
              "60  60          26          54000                  RENT                1.0   \n",
              "\n",
              "          loan_intent loan_grade  loan_amnt  loan_int_rate  \\\n",
              "93          EDUCATION          C       6000          12.53   \n",
              "79           PERSONAL          A      10000           5.99   \n",
              "74          EDUCATION          A       6000           7.74   \n",
              "53            MEDICAL          A       8000           8.90   \n",
              "12          EDUCATION          B       4000          10.75   \n",
              "20           PERSONAL          A       3200           7.88   \n",
              "85  DEBTCONSOLIDATION          D       7000          15.62   \n",
              "39          EDUCATION          D       8000          15.58   \n",
              "83           PERSONAL          A      10000           6.99   \n",
              "60           PERSONAL          A       9600           9.32   \n",
              "\n",
              "    loan_percent_income cb_person_default_on_file  cb_person_cred_hist_length  \\\n",
              "93                 0.09                         Y                           8   \n",
              "79                 0.11                         N                           2   \n",
              "74                 0.06                         N                           3   \n",
              "53                 0.17                         N                           4   \n",
              "12                 0.12                         N                           3   \n",
              "20                 0.07                         N                           5   \n",
              "85                 0.09                         N                           7   \n",
              "39                 0.25                         N                           3   \n",
              "83                 0.13                         N                          15   \n",
              "60                 0.18                         N                           4   \n",
              "\n",
              "    loan_status  \n",
              "93            0  \n",
              "79            0  \n",
              "74            0  \n",
              "53            1  \n",
              "12            0  \n",
              "20            0  \n",
              "85            1  \n",
              "39            1  \n",
              "83            0  \n",
              "60            1  "
            ]
          },
          "execution_count": 25,
          "metadata": {},
          "output_type": "execute_result"
        }
      ],
      "source": [
        "df.limit(100).toPandas().sample(10)"
      ]
    },
    {
      "cell_type": "code",
      "execution_count": 26,
      "metadata": {
        "colab": {
          "base_uri": "https://localhost:8080/"
        },
        "id": "jLnU-irmF47H",
        "outputId": "9aa239d9-cf05-466e-ddc9-3ae5cb6145f6"
      },
      "outputs": [
        {
          "name": "stdout",
          "output_type": "stream",
          "text": [
            "+-----------------+-----+\n",
            "|      loan_intent|count|\n",
            "+-----------------+-----+\n",
            "|DEBTCONSOLIDATION| 9133|\n",
            "|          VENTURE|10011|\n",
            "|         PERSONAL|10016|\n",
            "|        EDUCATION|12271|\n",
            "|  HOMEIMPROVEMENT| 6280|\n",
            "|          MEDICAL|10934|\n",
            "+-----------------+-----+\n",
            "\n"
          ]
        }
      ],
      "source": [
        "df.groupby('loan_intent').count().show()"
      ]
    },
    {
      "cell_type": "code",
      "execution_count": 27,
      "metadata": {
        "colab": {
          "base_uri": "https://localhost:8080/"
        },
        "id": "pAUDl3qVF47I",
        "outputId": "3aa3f25b-59f7-44ba-a99e-60dcd3c7801a"
      },
      "outputs": [
        {
          "name": "stdout",
          "output_type": "stream",
          "text": [
            "+----------+-----+\n",
            "|loan_grade|count|\n",
            "+----------+-----+\n",
            "|         F|  149|\n",
            "|         E| 1009|\n",
            "|         B|20400|\n",
            "|         D| 5034|\n",
            "|         C|11036|\n",
            "|         A|20984|\n",
            "|         G|   33|\n",
            "+----------+-----+\n",
            "\n"
          ]
        }
      ],
      "source": [
        "df.groupby('loan_grade').count().show()"
      ]
    },
    {
      "cell_type": "code",
      "execution_count": 28,
      "metadata": {
        "colab": {
          "base_uri": "https://localhost:8080/"
        },
        "id": "T3zD6cM0F47I",
        "outputId": "7b1b3c2e-13fe-48cb-ff16-d8bf0ae32e85"
      },
      "outputs": [
        {
          "name": "stdout",
          "output_type": "stream",
          "text": [
            "+---+----------+-------------+---------------------+-----------------+-----------------+----------+---------+-------------+-------------------+-------------------------+--------------------------+-----------+----------------+---------------------------+-----------------+-------------------------------+----------------------------+------------------+\n",
            "| id|person_age|person_income|person_home_ownership|person_emp_length|      loan_intent|loan_grade|loan_amnt|loan_int_rate|loan_percent_income|cb_person_default_on_file|cb_person_cred_hist_length|loan_status|loan_grade_index|person_home_ownership_index|loan_intent_index|cb_person_default_on_file_index|person_home_ownership_onehot|loan_intent_onehot|\n",
            "+---+----------+-------------+---------------------+-----------------+-----------------+----------+---------+-------------+-------------------+-------------------------+--------------------------+-----------+----------------+---------------------------+-----------------+-------------------------------+----------------------------+------------------+\n",
            "|  0|        37|        35000|                 RENT|              0.0|        EDUCATION|         B|     6000|        11.49|               0.17|                        N|                        14|          0|             1.0|                        0.0|              0.0|                            0.0|               (3,[0],[1.0])|     (5,[0],[1.0])|\n",
            "|  1|        22|        56000|                  OWN|              6.0|          MEDICAL|         C|     4000|        13.35|               0.07|                        N|                         2|          0|             2.0|                        2.0|              1.0|                            0.0|               (3,[2],[1.0])|     (5,[1],[1.0])|\n",
            "|  2|        29|        28800|                  OWN|              8.0|         PERSONAL|         A|     6000|          8.9|               0.21|                        N|                        10|          0|             0.0|                        2.0|              2.0|                            0.0|               (3,[2],[1.0])|     (5,[2],[1.0])|\n",
            "|  3|        30|        70000|                 RENT|             14.0|          VENTURE|         B|    12000|        11.11|               0.17|                        N|                         5|          0|             1.0|                        0.0|              3.0|                            0.0|               (3,[0],[1.0])|     (5,[3],[1.0])|\n",
            "|  4|        22|        60000|                 RENT|              2.0|          MEDICAL|         A|     6000|         6.92|                0.1|                        N|                         3|          0|             0.0|                        0.0|              1.0|                            0.0|               (3,[0],[1.0])|     (5,[1],[1.0])|\n",
            "|  5|        27|        45000|                 RENT|              2.0|          VENTURE|         A|     9000|         8.94|                0.2|                        N|                         5|          0|             0.0|                        0.0|              3.0|                            0.0|               (3,[0],[1.0])|     (5,[3],[1.0])|\n",
            "|  6|        25|        45000|             MORTGAGE|              9.0|        EDUCATION|         A|    12000|         6.54|               0.27|                        N|                         3|          0|             0.0|                        1.0|              0.0|                            0.0|               (3,[1],[1.0])|     (5,[0],[1.0])|\n",
            "|  7|        21|        20000|                 RENT|              0.0|         PERSONAL|         C|     2500|        13.49|               0.13|                        Y|                         3|          0|             2.0|                        0.0|              2.0|                            1.0|               (3,[0],[1.0])|     (5,[2],[1.0])|\n",
            "|  8|        37|        69600|                 RENT|             11.0|        EDUCATION|         D|     5000|        14.84|               0.07|                        Y|                        11|          0|             3.0|                        0.0|              0.0|                            1.0|               (3,[0],[1.0])|     (5,[0],[1.0])|\n",
            "|  9|        35|       110000|             MORTGAGE|              0.0|DEBTCONSOLIDATION|         C|    15000|        12.98|               0.14|                        Y|                         6|          0|             2.0|                        1.0|              4.0|                            1.0|               (3,[1],[1.0])|     (5,[4],[1.0])|\n",
            "| 10|        30|        78000|             MORTGAGE|              5.0|          VENTURE|         B|    12800|        10.59|               0.17|                        N|                         5|          0|             1.0|                        1.0|              3.0|                            0.0|               (3,[1],[1.0])|     (5,[3],[1.0])|\n",
            "| 11|        22|        33000|                 RENT|              6.0|         PERSONAL|         B|    10000|        11.12|                0.3|                        N|                         2|          1|             1.0|                        0.0|              2.0|                            0.0|               (3,[0],[1.0])|     (5,[2],[1.0])|\n",
            "| 12|        25|        33000|             MORTGAGE|              1.0|        EDUCATION|         B|     4000|        10.75|               0.12|                        N|                         3|          0|             1.0|                        1.0|              0.0|                            0.0|               (3,[1],[1.0])|     (5,[0],[1.0])|\n",
            "| 13|        31|        70000|             MORTGAGE|              2.0|DEBTCONSOLIDATION|         B|    16000|        11.14|               0.23|                        N|                         9|          0|             1.0|                        1.0|              4.0|                            0.0|               (3,[1],[1.0])|     (5,[4],[1.0])|\n",
            "| 14|        27|       100000|                 RENT|              1.0|  HOMEIMPROVEMENT|         C|     5000|        13.57|               0.05|                        Y|                         7|          0|             2.0|                        0.0|              5.0|                            1.0|               (3,[0],[1.0])|         (5,[],[])|\n",
            "| 15|        29|        33000|                  OWN|              8.0|          MEDICAL|         A|     7300|          8.9|               0.23|                        N|                         8|          0|             0.0|                        2.0|              1.0|                            0.0|               (3,[2],[1.0])|     (5,[1],[1.0])|\n",
            "| 16|        26|        80000|                 RENT|              2.0|  HOMEIMPROVEMENT|         D|    17000|        14.11|               0.21|                        Y|                         3|          0|             3.0|                        0.0|              5.0|                            1.0|               (3,[0],[1.0])|         (5,[],[])|\n",
            "| 17|        29|        60000|                  OWN|             13.0|          MEDICAL|         A|    15000|         6.62|               0.25|                        N|                         9|          0|             0.0|                        2.0|              1.0|                            0.0|               (3,[2],[1.0])|     (5,[1],[1.0])|\n",
            "| 18|        22|        84000|             MORTGAGE|              6.0|DEBTCONSOLIDATION|         B|     5950|        11.12|               0.07|                        N|                         4|          0|             1.0|                        1.0|              4.0|                            0.0|               (3,[1],[1.0])|     (5,[4],[1.0])|\n",
            "| 19|        27|        65000|             MORTGAGE|              3.0|DEBTCONSOLIDATION|         C|     4800|        12.73|               0.07|                        Y|                         8|          0|             2.0|                        1.0|              4.0|                            1.0|               (3,[1],[1.0])|     (5,[4],[1.0])|\n",
            "+---+----------+-------------+---------------------+-----------------+-----------------+----------+---------+-------------+-------------------+-------------------------+--------------------------+-----------+----------------+---------------------------+-----------------+-------------------------------+----------------------------+------------------+\n",
            "only showing top 20 rows\n",
            "\n"
          ]
        }
      ],
      "source": [
        "# Definir as colunas categóricas se deseja codificar\n",
        "categorical_columns = [\"loan_grade\", \"person_home_ownership\", \"loan_intent\", 'cb_person_default_on_file']\n",
        "\n",
        "# Criar os indexadores\n",
        "indexers = [StringIndexer(inputCol=column, outputCol=column + \"_index\") for column in categorical_columns]\n",
        "\n",
        "# Criar os OneHotEncoders\n",
        "encoders = [OneHotEncoder(inputCol=column + \"_index\", outputCol=column + \"_onehot\") for column in [\"person_home_ownership\", \"loan_intent\"]]\n",
        "\n",
        "# Criar um pipeline que aplica primeiro os indexadores e depois os encoders\n",
        "pipeline = Pipeline(stages=indexers + encoders)\n",
        "\n",
        "# Ajustar e transformar o DataFrame com o pipeline\n",
        "df_encoded = pipeline.fit(df).transform(df)\n",
        "\n",
        "# Mostrar o resultado\n",
        "df_encoded.show()\n"
      ]
    },
    {
      "cell_type": "code",
      "execution_count": 29,
      "metadata": {
        "colab": {
          "base_uri": "https://localhost:8080/",
          "height": 459
        },
        "id": "g9vkyfyDF47I",
        "outputId": "c4946dd8-ed32-4367-9885-0bd899656be9"
      },
      "outputs": [
        {
          "data": {
            "text/html": [
              "<div>\n",
              "<style scoped>\n",
              "    .dataframe tbody tr th:only-of-type {\n",
              "        vertical-align: middle;\n",
              "    }\n",
              "\n",
              "    .dataframe tbody tr th {\n",
              "        vertical-align: top;\n",
              "    }\n",
              "\n",
              "    .dataframe thead th {\n",
              "        text-align: right;\n",
              "    }\n",
              "</style>\n",
              "<table border=\"1\" class=\"dataframe\">\n",
              "  <thead>\n",
              "    <tr style=\"text-align: right;\">\n",
              "      <th></th>\n",
              "      <th>person_age</th>\n",
              "      <th>person_income</th>\n",
              "      <th>person_emp_length</th>\n",
              "      <th>loan_amnt</th>\n",
              "      <th>loan_int_rate</th>\n",
              "      <th>loan_percent_income</th>\n",
              "      <th>cb_person_cred_hist_length</th>\n",
              "      <th>loan_status</th>\n",
              "      <th>loan_grade_index</th>\n",
              "      <th>cb_person_default_on_file_index</th>\n",
              "      <th>person_home_ownership_onehot</th>\n",
              "      <th>loan_intent_onehot</th>\n",
              "      <th>features</th>\n",
              "    </tr>\n",
              "  </thead>\n",
              "  <tbody>\n",
              "    <tr>\n",
              "      <th>0</th>\n",
              "      <td>37</td>\n",
              "      <td>35000</td>\n",
              "      <td>0.0</td>\n",
              "      <td>6000</td>\n",
              "      <td>11.49</td>\n",
              "      <td>0.17</td>\n",
              "      <td>14</td>\n",
              "      <td>0</td>\n",
              "      <td>1.0</td>\n",
              "      <td>0.0</td>\n",
              "      <td>(1.0, 0.0, 0.0)</td>\n",
              "      <td>(1.0, 0.0, 0.0, 0.0, 0.0)</td>\n",
              "      <td>(37.0, 35000.0, 0.0, 6000.0, 11.49, 0.17, 14.0...</td>\n",
              "    </tr>\n",
              "    <tr>\n",
              "      <th>1</th>\n",
              "      <td>22</td>\n",
              "      <td>56000</td>\n",
              "      <td>6.0</td>\n",
              "      <td>4000</td>\n",
              "      <td>13.35</td>\n",
              "      <td>0.07</td>\n",
              "      <td>2</td>\n",
              "      <td>0</td>\n",
              "      <td>2.0</td>\n",
              "      <td>0.0</td>\n",
              "      <td>(0.0, 0.0, 1.0)</td>\n",
              "      <td>(0.0, 1.0, 0.0, 0.0, 0.0)</td>\n",
              "      <td>(22.0, 56000.0, 6.0, 4000.0, 13.35, 0.07, 2.0,...</td>\n",
              "    </tr>\n",
              "    <tr>\n",
              "      <th>2</th>\n",
              "      <td>29</td>\n",
              "      <td>28800</td>\n",
              "      <td>8.0</td>\n",
              "      <td>6000</td>\n",
              "      <td>8.90</td>\n",
              "      <td>0.21</td>\n",
              "      <td>10</td>\n",
              "      <td>0</td>\n",
              "      <td>0.0</td>\n",
              "      <td>0.0</td>\n",
              "      <td>(0.0, 0.0, 1.0)</td>\n",
              "      <td>(0.0, 0.0, 1.0, 0.0, 0.0)</td>\n",
              "      <td>(29.0, 28800.0, 8.0, 6000.0, 8.9, 0.21, 10.0, ...</td>\n",
              "    </tr>\n",
              "  </tbody>\n",
              "</table>\n",
              "</div>"
            ],
            "text/plain": [
              "   person_age  person_income  person_emp_length  loan_amnt  loan_int_rate  \\\n",
              "0          37          35000                0.0       6000          11.49   \n",
              "1          22          56000                6.0       4000          13.35   \n",
              "2          29          28800                8.0       6000           8.90   \n",
              "\n",
              "   loan_percent_income  cb_person_cred_hist_length  loan_status  \\\n",
              "0                 0.17                          14            0   \n",
              "1                 0.07                           2            0   \n",
              "2                 0.21                          10            0   \n",
              "\n",
              "   loan_grade_index  cb_person_default_on_file_index  \\\n",
              "0               1.0                              0.0   \n",
              "1               2.0                              0.0   \n",
              "2               0.0                              0.0   \n",
              "\n",
              "  person_home_ownership_onehot         loan_intent_onehot  \\\n",
              "0              (1.0, 0.0, 0.0)  (1.0, 0.0, 0.0, 0.0, 0.0)   \n",
              "1              (0.0, 0.0, 1.0)  (0.0, 1.0, 0.0, 0.0, 0.0)   \n",
              "2              (0.0, 0.0, 1.0)  (0.0, 0.0, 1.0, 0.0, 0.0)   \n",
              "\n",
              "                                            features  \n",
              "0  (37.0, 35000.0, 0.0, 6000.0, 11.49, 0.17, 14.0...  \n",
              "1  (22.0, 56000.0, 6.0, 4000.0, 13.35, 0.07, 2.0,...  \n",
              "2  (29.0, 28800.0, 8.0, 6000.0, 8.9, 0.21, 10.0, ...  "
            ]
          },
          "execution_count": 29,
          "metadata": {},
          "output_type": "execute_result"
        }
      ],
      "source": [
        "# Agora, são elimindas as colunas que não são úteis\n",
        "df_encoded = df_encoded.drop(\"id\",\"person_home_ownership\",\"loan_intent\",\"loan_grade\",\"cb_person_default_on_file\", 'person_home_ownership_index', 'loan_intent_index')\n",
        "\n",
        "feature_columns = df_encoded.columns\n",
        "\n",
        "# retirando a variácvel a ser predita\n",
        "feature_columns.remove('loan_status')\n",
        "\n",
        "# Antes de modelar, todas as colunas são colocadas em único vetor\n",
        "feature = VectorAssembler(inputCols = feature_columns,outputCol=\"features\")\n",
        "feature_vector=feature.transform(df_encoded)\n",
        "feature_vector.limit(3).toPandas()"
      ]
    },
    {
      "cell_type": "code",
      "execution_count": 30,
      "metadata": {
        "id": "xG1AUza2F47I"
      },
      "outputs": [],
      "source": [
        "# Seleciona as colunas usadas no treinamento\n",
        "loan_df = feature_vector.select(['features','loan_status'])\n",
        "# Split the dataset to train_df and test_df\n",
        "train_df,test_df = loan_df.randomSplit([0.7,0.3])"
      ]
    },
    {
      "cell_type": "code",
      "execution_count": 31,
      "metadata": {
        "colab": {
          "base_uri": "https://localhost:8080/"
        },
        "id": "OzgxfnTbF47J",
        "outputId": "cda6c18c-08c7-4b65-886e-4371b3e833e7"
      },
      "outputs": [
        {
          "name": "stdout",
          "output_type": "stream",
          "text": [
            "Accuracy:  0.9000398701372672\n",
            "Precision:  0.8904997678694603\n",
            "Recall:  0.9000398701372672\n",
            "F1-Score:  0.8899539568242163\n"
          ]
        }
      ],
      "source": [
        "lr = LogisticRegression(labelCol=\"loan_status\")\n",
        "\n",
        "model_lr = lr.fit(train_df)\n",
        "model_predictions= model_lr.transform(test_df)\n",
        "\n",
        "print('Accuracy: ', MulticlassClassificationEvaluator(labelCol='loan_status',metricName='accuracy').evaluate(model_predictions))\n",
        "print('Precision: ', MulticlassClassificationEvaluator(labelCol='loan_status',metricName='weightedPrecision').evaluate(model_predictions))\n",
        "print('Recall: ', MulticlassClassificationEvaluator(labelCol='loan_status', metricName='weightedRecall').evaluate(model_predictions))\n",
        "print('F1-Score: ', MulticlassClassificationEvaluator(labelCol='loan_status', metricName='f1').evaluate(model_predictions))"
      ]
    },
    {
      "cell_type": "code",
      "execution_count": 32,
      "metadata": {
        "id": "Mp_oaDv7F47J",
        "outputId": "9e20da80-e964-4fad-ece4-81e538481aec"
      },
      "outputs": [
        {
          "name": "stdout",
          "output_type": "stream",
          "text": [
            "Accuracy:  0.8963376431053142\n",
            "Precision:  0.8862685315859369\n",
            "Recall:  0.896337643105314\n",
            "F1-Score:  0.8819604155807382\n"
          ]
        }
      ],
      "source": [
        "# Ajustando os hiperparâmetros\n",
        "lr = LogisticRegression(labelCol=\"loan_status\")\n",
        "\n",
        "# Definindo as faixas dos hiperparâmtros para o Grid Search\n",
        "paramGrid = ParamGridBuilder().addGrid(lr.regParam, (0.01, 0.1))\\\n",
        "                              .addGrid(lr.maxIter, (5, 10))\\\n",
        "                              .addGrid(lr.tol, (1e-4, 1e-5))\\\n",
        "                              .addGrid(lr.elasticNetParam, (0.25,0.75))\\\n",
        "                              .build()\n",
        "\n",
        "from pyspark.ml.tuning import CrossValidator\n",
        "\n",
        "# Etapa de cross-validation usando 5 folds\n",
        "cv = CrossValidator( estimator=lr\n",
        "                           ,estimatorParamMaps=paramGrid\n",
        "                           ,evaluator=MulticlassClassificationEvaluator(labelCol='loan_status')\n",
        "                           ,numFolds=5)\n",
        "model_lr_h = cv.fit(train_df)\n",
        "model_predictions= model_lr_h.transform(test_df)\n",
        "\n",
        "print('Accuracy: ', MulticlassClassificationEvaluator(labelCol='loan_status',metricName='accuracy').evaluate(model_predictions))\n",
        "print('Precision: ', MulticlassClassificationEvaluator(labelCol='loan_status',metricName='weightedPrecision').evaluate(model_predictions))\n",
        "print('Recall: ', MulticlassClassificationEvaluator(labelCol='loan_status', metricName='weightedRecall').evaluate(model_predictions))\n",
        "print('F1-Score: ', MulticlassClassificationEvaluator(labelCol='loan_status', metricName='f1').evaluate(model_predictions))"
      ]
    },
    {
      "cell_type": "code",
      "execution_count": 33,
      "metadata": {
        "colab": {
          "base_uri": "https://localhost:8080/"
        },
        "id": "dYjzgIRTF47J",
        "outputId": "92c8fb14-84cb-4c66-c401-acaddae8e7ce"
      },
      "outputs": [
        {
          "name": "stdout",
          "output_type": "stream",
          "text": [
            "Accuracy:  0.9385999886085322\n",
            "Precision:  0.9388798009023898\n",
            "Recall:  0.9385999886085322\n",
            "F1-Score:  0.9327447652592937\n"
          ]
        }
      ],
      "source": [
        "rf = RandomForestClassifier(labelCol='loan_status')\n",
        "\n",
        "model_rf = rf.fit(train_df)\n",
        "model_predictions= model_rf.transform(test_df)\n",
        "\n",
        "\n",
        "print('Accuracy: ', MulticlassClassificationEvaluator(labelCol='loan_status',metricName='accuracy').evaluate(model_predictions))\n",
        "print('Precision: ', MulticlassClassificationEvaluator(labelCol='loan_status',metricName='weightedPrecision').evaluate(model_predictions))\n",
        "print('Recall: ', MulticlassClassificationEvaluator(labelCol='loan_status', metricName='weightedRecall').evaluate(model_predictions))\n",
        "print('F1-Score: ', MulticlassClassificationEvaluator(labelCol='loan_status', metricName='f1').evaluate(model_predictions))"
      ]
    },
    {
      "cell_type": "code",
      "execution_count": 34,
      "metadata": {
        "id": "kDvVqTeGF47J",
        "outputId": "efe9fbbd-7a08-484a-f595-9eaa52aa42a9"
      },
      "outputs": [
        {
          "name": "stdout",
          "output_type": "stream",
          "text": [
            "Accuracy:  0.948624480264282\n",
            "Precision:  0.9487205389714849\n",
            "Recall:  0.948624480264282\n",
            "F1-Score:  0.9448386484999469\n"
          ]
        }
      ],
      "source": [
        "# Ajustando os hiperparâmetros (demora mais...)\n",
        "rf = RandomForestClassifier(labelCol='loan_status')\n",
        "paramGrid = ParamGridBuilder()\\\n",
        "                                .addGrid(rf.maxDepth, [5, 10, 20]) \\\n",
        "                                .addGrid(rf.maxBins, [20, 32, 50]) \\\n",
        "                                .addGrid(rf.numTrees, [20, 40, 60 ]) \\\n",
        "                                .addGrid(rf.impurity, [\"gini\", \"entropy\"]) \\\n",
        "                                .addGrid(rf.minInstancesPerNode, [1, 5, 10]) \\\n",
        "                                .build()\n",
        "\n",
        "\n",
        "tvs = TrainValidationSplit(\n",
        "    estimator=rf,\n",
        "    estimatorParamMaps=paramGrid,\n",
        "    evaluator=MulticlassClassificationEvaluator(labelCol='loan_status'),\n",
        "    trainRatio=0.8\n",
        ")\n",
        "\n",
        "model_rf_h = tvs.fit(train_df)\n",
        "model_predictions= model_rf_h.transform(test_df)\n",
        "\n",
        "\n",
        "print('Accuracy: ', MulticlassClassificationEvaluator(labelCol='loan_status',metricName='accuracy').evaluate(model_predictions))\n",
        "print('Precision: ', MulticlassClassificationEvaluator(labelCol='loan_status',metricName='weightedPrecision').evaluate(model_predictions))\n",
        "print('Recall: ', MulticlassClassificationEvaluator(labelCol='loan_status', metricName='weightedRecall').evaluate(model_predictions))\n",
        "print('F1-Score: ', MulticlassClassificationEvaluator(labelCol='loan_status', metricName='f1').evaluate(model_predictions))"
      ]
    },
    {
      "cell_type": "code",
      "execution_count": 35,
      "metadata": {
        "colab": {
          "base_uri": "https://localhost:8080/"
        },
        "id": "VKnW3gasF47K",
        "outputId": "d500ed89-8091-47dc-f659-cae28c16a7fe"
      },
      "outputs": [
        {
          "name": "stdout",
          "output_type": "stream",
          "text": [
            "Accuracy:  0.9474853334852196\n",
            "Precision:  0.9475619759249985\n",
            "Recall:  0.9474853334852196\n",
            "F1-Score:  0.943512875720298\n"
          ]
        }
      ],
      "source": [
        "from pyspark.ml.classification import GBTClassifier\n",
        "\n",
        "# Gradient Boosting Classifier\n",
        "gbt = GBTClassifier(labelCol='loan_status')\n",
        "\n",
        "# Treinando o modelo\n",
        "model_gbt = gbt.fit(train_df)\n",
        "\n",
        "# Fazendo previsões\n",
        "model_predictions_gbt = model_gbt.transform(test_df)\n",
        "\n",
        "# Avaliação\n",
        "print('Accuracy: ', MulticlassClassificationEvaluator(labelCol='loan_status', metricName='accuracy').evaluate(model_predictions_gbt))\n",
        "print('Precision: ', MulticlassClassificationEvaluator(labelCol='loan_status', metricName='weightedPrecision').evaluate(model_predictions_gbt))\n",
        "print('Recall: ', MulticlassClassificationEvaluator(labelCol='loan_status', metricName='weightedRecall').evaluate(model_predictions_gbt))\n",
        "print('F1-Score: ', MulticlassClassificationEvaluator(labelCol='loan_status', metricName='f1').evaluate(model_predictions_gbt))"
      ]
    },
    {
      "cell_type": "code",
      "execution_count": 36,
      "metadata": {
        "id": "wZbzyaJcF47K",
        "outputId": "04916f98-4090-46bd-89c6-2228d87b0c34"
      },
      "outputs": [
        {
          "name": "stdout",
          "output_type": "stream",
          "text": [
            "Accuracy:  0.9484536082474226\n",
            "Precision:  0.9481934306677513\n",
            "Recall:  0.9484536082474228\n",
            "F1-Score:  0.944835666060526\n"
          ]
        }
      ],
      "source": [
        "from pyspark.ml.classification import GBTClassifier\n",
        "from pyspark.ml.tuning import ParamGridBuilder, TrainValidationSplit\n",
        "from pyspark.ml.evaluation import MulticlassClassificationEvaluator\n",
        "\n",
        "# Gradient Boosting Classifier\n",
        "gbt = GBTClassifier(labelCol='loan_status')\n",
        "\n",
        "# Definindo a grade de hiperparâmetros\n",
        "paramGrid_gbt = ParamGridBuilder()\\\n",
        "                                .addGrid(gbt.maxDepth, [5, 10, 20]) \\\n",
        "                                .addGrid(gbt.maxIter, [10, 20, 30]) \\\n",
        "                                .addGrid(gbt.stepSize, [0.01, 0.1, 0.3]) \\\n",
        "                                .build()\n",
        "\n",
        "# Configuração de TrainValidationSplit\n",
        "tvs_gbt = TrainValidationSplit(\n",
        "    estimator=gbt,\n",
        "    estimatorParamMaps=paramGrid_gbt,\n",
        "    evaluator=MulticlassClassificationEvaluator(labelCol='loan_status'),\n",
        "    trainRatio=0.8\n",
        ")\n",
        "\n",
        "# Ajustando o modelo\n",
        "model_gbt_h = tvs_gbt.fit(train_df)\n",
        "\n",
        "# Fazendo previsões\n",
        "model_predictions_gbt_h = model_gbt_h.transform(test_df)\n",
        "\n",
        "# Avaliação\n",
        "print('Accuracy: ', MulticlassClassificationEvaluator(labelCol='loan_status', metricName='accuracy').evaluate(model_predictions_gbt_h))\n",
        "print('Precision: ', MulticlassClassificationEvaluator(labelCol='loan_status', metricName='weightedPrecision').evaluate(model_predictions_gbt_h))\n",
        "print('Recall: ', MulticlassClassificationEvaluator(labelCol='loan_status', metricName='weightedRecall').evaluate(model_predictions_gbt_h))\n",
        "print('F1-Score: ', MulticlassClassificationEvaluator(labelCol='loan_status', metricName='f1').evaluate(model_predictions_gbt_h))"
      ]
    },
    {
      "cell_type": "markdown",
      "metadata": {
        "id": "o2RdPC7LF47K"
      },
      "source": [
        "# Model Fit"
      ]
    },
    {
      "cell_type": "code",
      "execution_count": 47,
      "metadata": {
        "colab": {
          "base_uri": "https://localhost:8080/"
        },
        "id": "eGMZFCr4F47L",
        "outputId": "dea8f8cb-35a1-4ea8-a9cb-7f6f054fef13"
      },
      "outputs": [
        {
          "name": "stdout",
          "output_type": "stream",
          "text": [
            "+-----+----------+-------------+---------------------+-----------------+-----------------+----------+---------+-------------+-------------------+-------------------------+--------------------------+----------------+---------------------------+-----------------+-------------------------------+----------------------------+------------------+\n",
            "|   id|person_age|person_income|person_home_ownership|person_emp_length|      loan_intent|loan_grade|loan_amnt|loan_int_rate|loan_percent_income|cb_person_default_on_file|cb_person_cred_hist_length|loan_grade_index|person_home_ownership_index|loan_intent_index|cb_person_default_on_file_index|person_home_ownership_onehot|loan_intent_onehot|\n",
            "+-----+----------+-------------+---------------------+-----------------+-----------------+----------+---------+-------------+-------------------+-------------------------+--------------------------+----------------+---------------------------+-----------------+-------------------------------+----------------------------+------------------+\n",
            "|58645|        23|        69000|                 RENT|              3.0|  HOMEIMPROVEMENT|         F|    25000|        15.76|               0.36|                        N|                         2|             5.0|                        0.0|              5.0|                            0.0|               (3,[0],[1.0])|         (5,[],[])|\n",
            "|58646|        26|        96000|             MORTGAGE|              6.0|         PERSONAL|         C|    10000|        12.68|                0.1|                        Y|                         4|             2.0|                        1.0|              2.0|                            1.0|               (3,[1],[1.0])|     (5,[2],[1.0])|\n",
            "|58647|        26|        30000|                 RENT|              5.0|          VENTURE|         E|     4000|        17.19|               0.13|                        Y|                         2|             4.0|                        0.0|              3.0|                            1.0|               (3,[0],[1.0])|     (5,[3],[1.0])|\n",
            "|58648|        33|        50000|                 RENT|              4.0|DEBTCONSOLIDATION|         A|     7000|          8.9|               0.14|                        N|                         7|             0.0|                        0.0|              4.0|                            0.0|               (3,[0],[1.0])|     (5,[4],[1.0])|\n",
            "|58649|        26|       102000|             MORTGAGE|              8.0|  HOMEIMPROVEMENT|         D|    15000|        16.32|               0.15|                        Y|                         4|             3.0|                        1.0|              5.0|                            1.0|               (3,[1],[1.0])|         (5,[],[])|\n",
            "|58650|        23|        66000|                 RENT|              5.0|        EDUCATION|         D|    22000|        14.09|               0.33|                        N|                         2|             3.0|                        0.0|              0.0|                            0.0|               (3,[0],[1.0])|     (5,[0],[1.0])|\n",
            "|58651|        26|        75000|                  OWN|             10.0|         PERSONAL|         B|     8000|        10.62|               0.11|                        N|                         4|             1.0|                        2.0|              2.0|                            0.0|               (3,[2],[1.0])|     (5,[2],[1.0])|\n",
            "|58652|        23|        55000|             MORTGAGE|              6.0|         PERSONAL|         A|     6250|         6.76|               0.12|                        N|                         2|             0.0|                        1.0|              2.0|                            0.0|               (3,[1],[1.0])|     (5,[2],[1.0])|\n",
            "|58653|        32|        29124|                 RENT|              0.0|         PERSONAL|         C|     7200|        13.11|               0.26|                        Y|                         6|             2.0|                        0.0|              2.0|                            1.0|               (3,[0],[1.0])|     (5,[2],[1.0])|\n",
            "|58654|        22|        90000|                 RENT|              4.0|DEBTCONSOLIDATION|         C|    10000|        13.49|               0.11|                        Y|                         3|             2.0|                        0.0|              4.0|                            1.0|               (3,[0],[1.0])|     (5,[4],[1.0])|\n",
            "|58655|        33|       115000|             MORTGAGE|              3.0|DEBTCONSOLIDATION|         C|    14400|        14.35|               0.12|                        N|                         6|             2.0|                        1.0|              4.0|                            0.0|               (3,[1],[1.0])|     (5,[4],[1.0])|\n",
            "|58656|        29|        40000|             MORTGAGE|              1.0|         PERSONAL|         C|     4000|        14.79|                0.1|                        N|                         7|             2.0|                        1.0|              2.0|                            0.0|               (3,[1],[1.0])|     (5,[2],[1.0])|\n",
            "|58657|        29|        54996|                 RENT|              2.0|          VENTURE|         C|    12000|        12.23|               0.22|                        Y|                         6|             2.0|                        0.0|              3.0|                            1.0|               (3,[0],[1.0])|     (5,[3],[1.0])|\n",
            "|58658|        25|        60000|             MORTGAGE|              3.0|  HOMEIMPROVEMENT|         A|     8000|         7.49|               0.13|                        N|                         3|             0.0|                        1.0|              5.0|                            0.0|               (3,[1],[1.0])|         (5,[],[])|\n",
            "|58659|        27|        60000|                 RENT|              4.0|          MEDICAL|         B|    11500|        11.48|               0.19|                        N|                         9|             1.0|                        0.0|              1.0|                            0.0|               (3,[0],[1.0])|     (5,[1],[1.0])|\n",
            "|58660|        27|        54996|                 RENT|              3.0|        EDUCATION|         B|    15250|        11.36|               0.28|                        N|                         8|             1.0|                        0.0|              0.0|                            0.0|               (3,[0],[1.0])|     (5,[0],[1.0])|\n",
            "|58661|        32|        84996|                 RENT|             12.0|        EDUCATION|         A|    12000|         6.91|               0.14|                        N|                         6|             0.0|                        0.0|              0.0|                            0.0|               (3,[0],[1.0])|     (5,[0],[1.0])|\n",
            "|58662|        21|        56004|                  OWN|              2.0|          VENTURE|         B|     6000|        11.86|               0.11|                        N|                         4|             1.0|                        2.0|              3.0|                            0.0|               (3,[2],[1.0])|     (5,[3],[1.0])|\n",
            "|58663|        38|        47000|                 RENT|              0.0|DEBTCONSOLIDATION|         A|     9000|         8.94|               0.19|                        N|                        11|             0.0|                        0.0|              4.0|                            0.0|               (3,[0],[1.0])|     (5,[4],[1.0])|\n",
            "|58664|        30|        42000|                  OWN|             14.0|        EDUCATION|         B|    10000|        10.59|               0.24|                        N|                         6|             1.0|                        2.0|              0.0|                            0.0|               (3,[2],[1.0])|     (5,[0],[1.0])|\n",
            "+-----+----------+-------------+---------------------+-----------------+-----------------+----------+---------+-------------+-------------------+-------------------------+--------------------------+----------------+---------------------------+-----------------+-------------------------------+----------------------------+------------------+\n",
            "only showing top 20 rows\n",
            "\n"
          ]
        }
      ],
      "source": [
        "#df_submission=final_test.drop('id')\n",
        "df_submission_encoded = pipeline.fit(final_test).transform(final_test)\n",
        "\n",
        "# Mostrar o resultado\n",
        "df_submission_encoded.show()"
      ]
    },
    {
      "cell_type": "code",
      "execution_count": 48,
      "metadata": {
        "id": "6LHukbRPF47L"
      },
      "outputs": [],
      "source": [
        "df_submission_encoded = df_submission_encoded.drop(\n",
        " 'person_home_ownership',\n",
        " 'loan_intent',\n",
        " 'loan_grade',\n",
        " 'cb_person_default_on_file',\n",
        " 'person_home_ownership_index',\n",
        " 'loan_intent_index')"
      ]
    },
    {
      "cell_type": "code",
      "execution_count": 49,
      "metadata": {
        "colab": {
          "base_uri": "https://localhost:8080/",
          "height": 476
        },
        "id": "9T1ocK7kF47L",
        "outputId": "cddedaf0-bae0-4878-f421-335bf30afdef"
      },
      "outputs": [
        {
          "data": {
            "text/html": [
              "<div>\n",
              "<style scoped>\n",
              "    .dataframe tbody tr th:only-of-type {\n",
              "        vertical-align: middle;\n",
              "    }\n",
              "\n",
              "    .dataframe tbody tr th {\n",
              "        vertical-align: top;\n",
              "    }\n",
              "\n",
              "    .dataframe thead th {\n",
              "        text-align: right;\n",
              "    }\n",
              "</style>\n",
              "<table border=\"1\" class=\"dataframe\">\n",
              "  <thead>\n",
              "    <tr style=\"text-align: right;\">\n",
              "      <th></th>\n",
              "      <th>id</th>\n",
              "      <th>person_age</th>\n",
              "      <th>person_income</th>\n",
              "      <th>person_emp_length</th>\n",
              "      <th>loan_amnt</th>\n",
              "      <th>loan_int_rate</th>\n",
              "      <th>loan_percent_income</th>\n",
              "      <th>cb_person_cred_hist_length</th>\n",
              "      <th>loan_grade_index</th>\n",
              "      <th>cb_person_default_on_file_index</th>\n",
              "      <th>person_home_ownership_onehot</th>\n",
              "      <th>loan_intent_onehot</th>\n",
              "      <th>features</th>\n",
              "    </tr>\n",
              "  </thead>\n",
              "  <tbody>\n",
              "    <tr>\n",
              "      <th>0</th>\n",
              "      <td>58645</td>\n",
              "      <td>23</td>\n",
              "      <td>69000</td>\n",
              "      <td>3.0</td>\n",
              "      <td>25000</td>\n",
              "      <td>15.76</td>\n",
              "      <td>0.36</td>\n",
              "      <td>2</td>\n",
              "      <td>5.0</td>\n",
              "      <td>0.0</td>\n",
              "      <td>(1.0, 0.0, 0.0)</td>\n",
              "      <td>(0.0, 0.0, 0.0, 0.0, 0.0)</td>\n",
              "      <td>(23.0, 69000.0, 3.0, 25000.0, 15.76, 0.36, 2.0...</td>\n",
              "    </tr>\n",
              "    <tr>\n",
              "      <th>1</th>\n",
              "      <td>58646</td>\n",
              "      <td>26</td>\n",
              "      <td>96000</td>\n",
              "      <td>6.0</td>\n",
              "      <td>10000</td>\n",
              "      <td>12.68</td>\n",
              "      <td>0.10</td>\n",
              "      <td>4</td>\n",
              "      <td>2.0</td>\n",
              "      <td>1.0</td>\n",
              "      <td>(0.0, 1.0, 0.0)</td>\n",
              "      <td>(0.0, 0.0, 1.0, 0.0, 0.0)</td>\n",
              "      <td>[26.0, 96000.0, 6.0, 10000.0, 12.68, 0.1, 4.0,...</td>\n",
              "    </tr>\n",
              "    <tr>\n",
              "      <th>2</th>\n",
              "      <td>58647</td>\n",
              "      <td>26</td>\n",
              "      <td>30000</td>\n",
              "      <td>5.0</td>\n",
              "      <td>4000</td>\n",
              "      <td>17.19</td>\n",
              "      <td>0.13</td>\n",
              "      <td>2</td>\n",
              "      <td>4.0</td>\n",
              "      <td>1.0</td>\n",
              "      <td>(1.0, 0.0, 0.0)</td>\n",
              "      <td>(0.0, 0.0, 0.0, 1.0, 0.0)</td>\n",
              "      <td>[26.0, 30000.0, 5.0, 4000.0, 17.19, 0.13, 2.0,...</td>\n",
              "    </tr>\n",
              "  </tbody>\n",
              "</table>\n",
              "</div>"
            ],
            "text/plain": [
              "      id  person_age  person_income  person_emp_length  loan_amnt  \\\n",
              "0  58645          23          69000                3.0      25000   \n",
              "1  58646          26          96000                6.0      10000   \n",
              "2  58647          26          30000                5.0       4000   \n",
              "\n",
              "   loan_int_rate  loan_percent_income  cb_person_cred_hist_length  \\\n",
              "0          15.76                 0.36                           2   \n",
              "1          12.68                 0.10                           4   \n",
              "2          17.19                 0.13                           2   \n",
              "\n",
              "   loan_grade_index  cb_person_default_on_file_index  \\\n",
              "0               5.0                              0.0   \n",
              "1               2.0                              1.0   \n",
              "2               4.0                              1.0   \n",
              "\n",
              "  person_home_ownership_onehot         loan_intent_onehot  \\\n",
              "0              (1.0, 0.0, 0.0)  (0.0, 0.0, 0.0, 0.0, 0.0)   \n",
              "1              (0.0, 1.0, 0.0)  (0.0, 0.0, 1.0, 0.0, 0.0)   \n",
              "2              (1.0, 0.0, 0.0)  (0.0, 0.0, 0.0, 1.0, 0.0)   \n",
              "\n",
              "                                            features  \n",
              "0  (23.0, 69000.0, 3.0, 25000.0, 15.76, 0.36, 2.0...  \n",
              "1  [26.0, 96000.0, 6.0, 10000.0, 12.68, 0.1, 4.0,...  \n",
              "2  [26.0, 30000.0, 5.0, 4000.0, 17.19, 0.13, 2.0,...  "
            ]
          },
          "execution_count": 49,
          "metadata": {},
          "output_type": "execute_result"
        }
      ],
      "source": [
        "# Antes de modelar, todas as colunas são colocadas em único vetor\n",
        "feature_columns = df_submission_encoded.columns\n",
        "\n",
        "feature = VectorAssembler(inputCols = feature_columns[1:],outputCol=\"features\")\n",
        "feature_vector=feature.transform(df_submission_encoded)\n",
        "feature_vector.limit(3).toPandas()"
      ]
    },
    {
      "cell_type": "markdown",
      "metadata": {
        "id": "POSkmkeaF47L"
      },
      "source": [
        "# Kagle submission"
      ]
    },
    {
      "cell_type": "code",
      "execution_count": 50,
      "metadata": {
        "id": "xaB11TU2F47L"
      },
      "outputs": [],
      "source": [
        "model_predictions= model_gbt_h.transform(feature_vector.select('features'))"
      ]
    },
    {
      "cell_type": "code",
      "execution_count": 51,
      "metadata": {
        "colab": {
          "base_uri": "https://localhost:8080/"
        },
        "id": "mDqmAkFjNdB_",
        "outputId": "41c4f39d-6653-435d-ae7a-5a96a6eab3c4"
      },
      "outputs": [
        {
          "name": "stdout",
          "output_type": "stream",
          "text": [
            "+----------+-----+\n",
            "|prediction|count|\n",
            "+----------+-----+\n",
            "|       0.0|35135|\n",
            "|       1.0| 3963|\n",
            "+----------+-----+\n",
            "\n"
          ]
        }
      ],
      "source": [
        "model_predictions.groupBy('prediction').count().show()"
      ]
    },
    {
      "cell_type": "code",
      "execution_count": 52,
      "metadata": {
        "id": "Vsqrnh9UF47L"
      },
      "outputs": [],
      "source": [
        "submission = feature_vector.select('id', 'features').join(model_predictions, 'features').select('id', 'probability')"
      ]
    },
    {
      "cell_type": "code",
      "execution_count": 53,
      "metadata": {
        "colab": {
          "base_uri": "https://localhost:8080/"
        },
        "id": "q0rcam5wF47M",
        "outputId": "8c7f3e51-9b3f-4c24-e022-e5bee099d0de"
      },
      "outputs": [
        {
          "name": "stdout",
          "output_type": "stream",
          "text": [
            "+-----+--------------------+\n",
            "|   id|         probability|\n",
            "+-----+--------------------+\n",
            "|58645|[0.02281190336471...|\n",
            "|58646|[0.97059503704207...|\n",
            "|58647|[0.61636551070259...|\n",
            "|58648|[0.97582273464598...|\n",
            "|58649|[0.89801901014930...|\n",
            "|58650|[0.07325868076327...|\n",
            "|58651|[0.98078374063663...|\n",
            "|58652|[0.97840206760779...|\n",
            "|58653|[0.73267263174067...|\n",
            "|58654|[0.96115781786807...|\n",
            "|58655|[0.94542249400807...|\n",
            "|58656|[0.88956568272238...|\n",
            "|58657|[0.84117706691961...|\n",
            "|58658|[0.98090034942212...|\n",
            "|58659|[0.96488133296817...|\n",
            "|58660|[0.80249833081583...|\n",
            "|58661|[0.97609383176999...|\n",
            "|58662|[0.97318294383093...|\n",
            "|58663|[0.96137694555046...|\n",
            "|58664|[0.97465368779427...|\n",
            "+-----+--------------------+\n",
            "only showing top 20 rows\n",
            "\n"
          ]
        }
      ],
      "source": [
        "submission.show()"
      ]
    },
    {
      "cell_type": "code",
      "execution_count": 54,
      "metadata": {
        "id": "7t-dkm5vF47M"
      },
      "outputs": [],
      "source": [
        "# Preparação do arquivo de submissão conforme orientado\n",
        "\n",
        "from pyspark.ml.functions import vector_to_array\n",
        "\n",
        "kaggle_submission = submission.withColumn(\"loan_status\", vector_to_array(\"probability\")[1]).drop('probability')\n"
      ]
    },
    {
      "cell_type": "code",
      "execution_count": 55,
      "metadata": {
        "colab": {
          "base_uri": "https://localhost:8080/"
        },
        "id": "0OCJd9xXF47M",
        "outputId": "136f8b21-5fba-4d06-e917-6610319da997"
      },
      "outputs": [
        {
          "name": "stdout",
          "output_type": "stream",
          "text": [
            "+-----+--------------------+\n",
            "|   id|         loan_status|\n",
            "+-----+--------------------+\n",
            "|58645|  0.9771880966352884|\n",
            "|58646| 0.02940496295792061|\n",
            "|58647|  0.3836344892974045|\n",
            "|58648| 0.02417726535401654|\n",
            "|58649| 0.10198098985069937|\n",
            "|58650|  0.9267413192367256|\n",
            "|58651|0.019216259363362687|\n",
            "|58652|0.021597932392208974|\n",
            "|58653| 0.26732736825932935|\n",
            "|58654| 0.03884218213192869|\n",
            "|58655| 0.05457750599192801|\n",
            "|58656| 0.11043431727761088|\n",
            "|58657| 0.15882293308038864|\n",
            "|58658|  0.0190996505778791|\n",
            "|58659| 0.03511866703182176|\n",
            "|58660| 0.19750166918416445|\n",
            "|58661|0.023906168230003355|\n",
            "|58662| 0.02681705616906116|\n",
            "|58663|  0.0386230544495304|\n",
            "|58664|0.025346312205720145|\n",
            "+-----+--------------------+\n",
            "only showing top 20 rows\n",
            "\n"
          ]
        }
      ],
      "source": [
        "kaggle_submission.show()"
      ]
    },
    {
      "cell_type": "code",
      "execution_count": 56,
      "metadata": {
        "id": "waHiwL2tF47M"
      },
      "outputs": [],
      "source": [
        "kaggle_submission.toPandas().to_csv('submission_gbt_h.csv', index=False)"
      ]
    },
    {
      "cell_type": "markdown",
      "metadata": {
        "id": "bb2fS-FqF47M"
      },
      "source": [
        "## Tentei diversos modelos mas não consegui uma precisão maior que 60%"
      ]
    },
    {
      "cell_type": "markdown",
      "metadata": {
        "id": "yujC67aiF47M"
      },
      "source": [
        "![image.png](attachment:image.png)"
      ]
    }
  ],
  "metadata": {
    "colab": {
      "provenance": []
    },
    "kernelspec": {
      "display_name": ".venv",
      "language": "python",
      "name": "python3"
    },
    "language_info": {
      "codemirror_mode": {
        "name": "ipython",
        "version": 3
      },
      "file_extension": ".py",
      "mimetype": "text/x-python",
      "name": "python",
      "nbconvert_exporter": "python",
      "pygments_lexer": "ipython3",
      "version": "3.12.5"
    }
  },
  "nbformat": 4,
  "nbformat_minor": 0
}
