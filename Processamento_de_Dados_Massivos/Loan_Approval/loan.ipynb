{
 "cells": [
  {
   "cell_type": "code",
   "execution_count": 2,
   "metadata": {},
   "outputs": [],
   "source": [
    "import os\n",
    "os.environ[\"JAVA_HOME\"] = \"C:\\\\jdk-22.0.2\"\n",
    "os.environ[\"SPARK_HOME\"] = \"C:\\\\spark-3.5.2-bin-hadoop3\\\\spark-3.5.2-bin-hadoop3\"\n",
    "os.environ[\"PYSPARK_DRIVER_PYTHON\"] = \"jupyter\"\n",
    "os.environ[\"PYSPARK_PYTHON\"] = \"python\""
   ]
  },
  {
   "cell_type": "code",
   "execution_count": 3,
   "metadata": {},
   "outputs": [],
   "source": [
    "from pyspark.sql import SparkSession\n",
    "from pyspark.sql.functions import isnan, when, count, col, lit, regexp_extract\n",
    "from pyspark.sql.types import IntegerType, DoubleType\n",
    "from pyspark.ml.classification import LogisticRegression\n",
    "from pyspark.ml.evaluation import BinaryClassificationEvaluator\n",
    "from pyspark.ml.tuning import ParamGridBuilder, TrainValidationSplit\n",
    "from pyspark.ml.evaluation import MulticlassClassificationEvaluator\n",
    "from pyspark.ml.feature import StringIndexer, VectorAssembler, OneHotEncoder\n",
    "from pyspark.ml import Pipeline\n",
    "from pyspark.mllib.evaluation import BinaryClassificationMetrics as metric\n",
    "from pyspark.ml.classification import RandomForestClassifier\n",
    "from pyspark.ml.classification import GBTClassifier\n",
    "from sklearn.metrics import roc_curve, auc\n",
    "import pandas as pd\n",
    "import numpy as np"
   ]
  },
  {
   "cell_type": "code",
   "execution_count": 4,
   "metadata": {},
   "outputs": [],
   "source": [
    "spark = SparkSession.builder.appName('Pyspark_Titanic').getOrCreate()"
   ]
  },
  {
   "cell_type": "code",
   "execution_count": 5,
   "metadata": {},
   "outputs": [],
   "source": [
    "train = spark.read.csv('C:\\\\01-FaculdadeSemestreAtual\\\\Processamento_de_Dados_Massivos\\\\Loan_Approval\\\\train.csv',header = 'True',inferSchema='True')\n",
    "test = spark.read.csv('C:\\\\01-FaculdadeSemestreAtual\\\\Processamento_de_Dados_Massivos\\\\Loan_Approval\\\\test.csv',header = 'True',inferSchema='True')"
   ]
  },
  {
   "cell_type": "code",
   "execution_count": 13,
   "metadata": {},
   "outputs": [
    {
     "name": "stdout",
     "output_type": "stream",
     "text": [
      "+---+----------+-------------+---------------------+-----------------+-----------+----------+---------+-------------+-------------------+-------------------------+--------------------------+-----------+\n",
      "| id|person_age|person_income|person_home_ownership|person_emp_length|loan_intent|loan_grade|loan_amnt|loan_int_rate|loan_percent_income|cb_person_default_on_file|cb_person_cred_hist_length|loan_status|\n",
      "+---+----------+-------------+---------------------+-----------------+-----------+----------+---------+-------------+-------------------+-------------------------+--------------------------+-----------+\n",
      "|  0|        37|        35000|                 RENT|              0.0|  EDUCATION|         B|     6000|        11.49|               0.17|                        N|                        14|          0|\n",
      "|  1|        22|        56000|                  OWN|              6.0|    MEDICAL|         C|     4000|        13.35|               0.07|                        N|                         2|          0|\n",
      "|  2|        29|        28800|                  OWN|              8.0|   PERSONAL|         A|     6000|          8.9|               0.21|                        N|                        10|          0|\n",
      "|  3|        30|        70000|                 RENT|             14.0|    VENTURE|         B|    12000|        11.11|               0.17|                        N|                         5|          0|\n",
      "|  4|        22|        60000|                 RENT|              2.0|    MEDICAL|         A|     6000|         6.92|                0.1|                        N|                         3|          0|\n",
      "+---+----------+-------------+---------------------+-----------------+-----------+----------+---------+-------------+-------------------+-------------------------+--------------------------+-----------+\n",
      "only showing top 5 rows\n",
      "\n"
     ]
    }
   ],
   "source": [
    "train.show(5)"
   ]
  },
  {
   "cell_type": "code",
   "execution_count": 14,
   "metadata": {},
   "outputs": [
    {
     "data": {
      "text/plain": [
       "58645"
      ]
     },
     "execution_count": 14,
     "metadata": {},
     "output_type": "execute_result"
    }
   ],
   "source": [
    "train.count()"
   ]
  },
  {
   "cell_type": "code",
   "execution_count": 7,
   "metadata": {},
   "outputs": [
    {
     "name": "stdout",
     "output_type": "stream",
     "text": [
      "root\n",
      " |-- id: integer (nullable = true)\n",
      " |-- person_age: integer (nullable = true)\n",
      " |-- person_income: integer (nullable = true)\n",
      " |-- person_home_ownership: string (nullable = true)\n",
      " |-- person_emp_length: double (nullable = true)\n",
      " |-- loan_intent: string (nullable = true)\n",
      " |-- loan_grade: string (nullable = true)\n",
      " |-- loan_amnt: integer (nullable = true)\n",
      " |-- loan_int_rate: double (nullable = true)\n",
      " |-- loan_percent_income: double (nullable = true)\n",
      " |-- cb_person_default_on_file: string (nullable = true)\n",
      " |-- cb_person_cred_hist_length: integer (nullable = true)\n",
      " |-- loan_status: integer (nullable = true)\n",
      "\n"
     ]
    }
   ],
   "source": [
    "train.printSchema()"
   ]
  },
  {
   "cell_type": "code",
   "execution_count": 8,
   "metadata": {},
   "outputs": [
    {
     "name": "stdout",
     "output_type": "stream",
     "text": [
      "+---+----------+-------------+---------------------+-----------------+-----------+----------+---------+-------------+-------------------+-------------------------+--------------------------+-----------+\n",
      "| id|person_age|person_income|person_home_ownership|person_emp_length|loan_intent|loan_grade|loan_amnt|loan_int_rate|loan_percent_income|cb_person_default_on_file|cb_person_cred_hist_length|loan_status|\n",
      "+---+----------+-------------+---------------------+-----------------+-----------+----------+---------+-------------+-------------------+-------------------------+--------------------------+-----------+\n",
      "|  0|         0|            0|                    0|                0|          0|         0|        0|            0|                  0|                        0|                         0|          0|\n",
      "+---+----------+-------------+---------------------+-----------------+-----------+----------+---------+-------------+-------------------+-------------------------+--------------------------+-----------+\n",
      "\n"
     ]
    }
   ],
   "source": [
    "train.select([count(when(col(c).isNull(), c)).alias(c) for c in train.columns]).show()"
   ]
  },
  {
   "cell_type": "code",
   "execution_count": 9,
   "metadata": {},
   "outputs": [
    {
     "data": {
      "text/html": [
       "<div>\n",
       "<style scoped>\n",
       "    .dataframe tbody tr th:only-of-type {\n",
       "        vertical-align: middle;\n",
       "    }\n",
       "\n",
       "    .dataframe tbody tr th {\n",
       "        vertical-align: top;\n",
       "    }\n",
       "\n",
       "    .dataframe thead th {\n",
       "        text-align: right;\n",
       "    }\n",
       "</style>\n",
       "<table border=\"1\" class=\"dataframe\">\n",
       "  <thead>\n",
       "    <tr style=\"text-align: right;\">\n",
       "      <th></th>\n",
       "      <th>id</th>\n",
       "      <th>person_age</th>\n",
       "      <th>person_income</th>\n",
       "      <th>person_home_ownership</th>\n",
       "      <th>person_emp_length</th>\n",
       "      <th>loan_intent</th>\n",
       "      <th>loan_grade</th>\n",
       "      <th>loan_amnt</th>\n",
       "      <th>loan_int_rate</th>\n",
       "      <th>loan_percent_income</th>\n",
       "      <th>cb_person_default_on_file</th>\n",
       "      <th>cb_person_cred_hist_length</th>\n",
       "      <th>loan_status</th>\n",
       "    </tr>\n",
       "  </thead>\n",
       "  <tbody>\n",
       "    <tr>\n",
       "      <th>81</th>\n",
       "      <td>81</td>\n",
       "      <td>30</td>\n",
       "      <td>45600</td>\n",
       "      <td>RENT</td>\n",
       "      <td>6.0</td>\n",
       "      <td>DEBTCONSOLIDATION</td>\n",
       "      <td>A</td>\n",
       "      <td>23500</td>\n",
       "      <td>7.66</td>\n",
       "      <td>0.50</td>\n",
       "      <td>N</td>\n",
       "      <td>8</td>\n",
       "      <td>1</td>\n",
       "    </tr>\n",
       "    <tr>\n",
       "      <th>80</th>\n",
       "      <td>80</td>\n",
       "      <td>26</td>\n",
       "      <td>60000</td>\n",
       "      <td>RENT</td>\n",
       "      <td>2.0</td>\n",
       "      <td>DEBTCONSOLIDATION</td>\n",
       "      <td>B</td>\n",
       "      <td>7000</td>\n",
       "      <td>10.62</td>\n",
       "      <td>0.12</td>\n",
       "      <td>N</td>\n",
       "      <td>3</td>\n",
       "      <td>0</td>\n",
       "    </tr>\n",
       "    <tr>\n",
       "      <th>76</th>\n",
       "      <td>76</td>\n",
       "      <td>22</td>\n",
       "      <td>70000</td>\n",
       "      <td>MORTGAGE</td>\n",
       "      <td>4.0</td>\n",
       "      <td>DEBTCONSOLIDATION</td>\n",
       "      <td>A</td>\n",
       "      <td>10000</td>\n",
       "      <td>7.29</td>\n",
       "      <td>0.14</td>\n",
       "      <td>N</td>\n",
       "      <td>2</td>\n",
       "      <td>0</td>\n",
       "    </tr>\n",
       "    <tr>\n",
       "      <th>22</th>\n",
       "      <td>22</td>\n",
       "      <td>26</td>\n",
       "      <td>95000</td>\n",
       "      <td>MORTGAGE</td>\n",
       "      <td>10.0</td>\n",
       "      <td>EDUCATION</td>\n",
       "      <td>A</td>\n",
       "      <td>10000</td>\n",
       "      <td>7.68</td>\n",
       "      <td>0.11</td>\n",
       "      <td>N</td>\n",
       "      <td>3</td>\n",
       "      <td>0</td>\n",
       "    </tr>\n",
       "    <tr>\n",
       "      <th>82</th>\n",
       "      <td>82</td>\n",
       "      <td>24</td>\n",
       "      <td>75000</td>\n",
       "      <td>RENT</td>\n",
       "      <td>3.0</td>\n",
       "      <td>PERSONAL</td>\n",
       "      <td>B</td>\n",
       "      <td>15000</td>\n",
       "      <td>11.49</td>\n",
       "      <td>0.20</td>\n",
       "      <td>N</td>\n",
       "      <td>2</td>\n",
       "      <td>0</td>\n",
       "    </tr>\n",
       "    <tr>\n",
       "      <th>74</th>\n",
       "      <td>74</td>\n",
       "      <td>23</td>\n",
       "      <td>100000</td>\n",
       "      <td>MORTGAGE</td>\n",
       "      <td>7.0</td>\n",
       "      <td>EDUCATION</td>\n",
       "      <td>A</td>\n",
       "      <td>6000</td>\n",
       "      <td>7.74</td>\n",
       "      <td>0.06</td>\n",
       "      <td>N</td>\n",
       "      <td>3</td>\n",
       "      <td>0</td>\n",
       "    </tr>\n",
       "    <tr>\n",
       "      <th>15</th>\n",
       "      <td>15</td>\n",
       "      <td>29</td>\n",
       "      <td>33000</td>\n",
       "      <td>OWN</td>\n",
       "      <td>8.0</td>\n",
       "      <td>MEDICAL</td>\n",
       "      <td>A</td>\n",
       "      <td>7300</td>\n",
       "      <td>8.90</td>\n",
       "      <td>0.23</td>\n",
       "      <td>N</td>\n",
       "      <td>8</td>\n",
       "      <td>0</td>\n",
       "    </tr>\n",
       "    <tr>\n",
       "      <th>47</th>\n",
       "      <td>47</td>\n",
       "      <td>25</td>\n",
       "      <td>39996</td>\n",
       "      <td>RENT</td>\n",
       "      <td>2.0</td>\n",
       "      <td>DEBTCONSOLIDATION</td>\n",
       "      <td>B</td>\n",
       "      <td>8000</td>\n",
       "      <td>12.53</td>\n",
       "      <td>0.20</td>\n",
       "      <td>N</td>\n",
       "      <td>4</td>\n",
       "      <td>0</td>\n",
       "    </tr>\n",
       "    <tr>\n",
       "      <th>36</th>\n",
       "      <td>36</td>\n",
       "      <td>24</td>\n",
       "      <td>90000</td>\n",
       "      <td>MORTGAGE</td>\n",
       "      <td>2.0</td>\n",
       "      <td>DEBTCONSOLIDATION</td>\n",
       "      <td>A</td>\n",
       "      <td>14400</td>\n",
       "      <td>7.90</td>\n",
       "      <td>0.16</td>\n",
       "      <td>N</td>\n",
       "      <td>2</td>\n",
       "      <td>0</td>\n",
       "    </tr>\n",
       "    <tr>\n",
       "      <th>14</th>\n",
       "      <td>14</td>\n",
       "      <td>27</td>\n",
       "      <td>100000</td>\n",
       "      <td>RENT</td>\n",
       "      <td>1.0</td>\n",
       "      <td>HOMEIMPROVEMENT</td>\n",
       "      <td>C</td>\n",
       "      <td>5000</td>\n",
       "      <td>13.57</td>\n",
       "      <td>0.05</td>\n",
       "      <td>Y</td>\n",
       "      <td>7</td>\n",
       "      <td>0</td>\n",
       "    </tr>\n",
       "  </tbody>\n",
       "</table>\n",
       "</div>"
      ],
      "text/plain": [
       "    id  person_age  person_income person_home_ownership  person_emp_length  \\\n",
       "81  81          30          45600                  RENT                6.0   \n",
       "80  80          26          60000                  RENT                2.0   \n",
       "76  76          22          70000              MORTGAGE                4.0   \n",
       "22  22          26          95000              MORTGAGE               10.0   \n",
       "82  82          24          75000                  RENT                3.0   \n",
       "74  74          23         100000              MORTGAGE                7.0   \n",
       "15  15          29          33000                   OWN                8.0   \n",
       "47  47          25          39996                  RENT                2.0   \n",
       "36  36          24          90000              MORTGAGE                2.0   \n",
       "14  14          27         100000                  RENT                1.0   \n",
       "\n",
       "          loan_intent loan_grade  loan_amnt  loan_int_rate  \\\n",
       "81  DEBTCONSOLIDATION          A      23500           7.66   \n",
       "80  DEBTCONSOLIDATION          B       7000          10.62   \n",
       "76  DEBTCONSOLIDATION          A      10000           7.29   \n",
       "22          EDUCATION          A      10000           7.68   \n",
       "82           PERSONAL          B      15000          11.49   \n",
       "74          EDUCATION          A       6000           7.74   \n",
       "15            MEDICAL          A       7300           8.90   \n",
       "47  DEBTCONSOLIDATION          B       8000          12.53   \n",
       "36  DEBTCONSOLIDATION          A      14400           7.90   \n",
       "14    HOMEIMPROVEMENT          C       5000          13.57   \n",
       "\n",
       "    loan_percent_income cb_person_default_on_file  cb_person_cred_hist_length  \\\n",
       "81                 0.50                         N                           8   \n",
       "80                 0.12                         N                           3   \n",
       "76                 0.14                         N                           2   \n",
       "22                 0.11                         N                           3   \n",
       "82                 0.20                         N                           2   \n",
       "74                 0.06                         N                           3   \n",
       "15                 0.23                         N                           8   \n",
       "47                 0.20                         N                           4   \n",
       "36                 0.16                         N                           2   \n",
       "14                 0.05                         Y                           7   \n",
       "\n",
       "    loan_status  \n",
       "81            1  \n",
       "80            0  \n",
       "76            0  \n",
       "22            0  \n",
       "82            0  \n",
       "74            0  \n",
       "15            0  \n",
       "47            0  \n",
       "36            0  \n",
       "14            0  "
      ]
     },
     "execution_count": 9,
     "metadata": {},
     "output_type": "execute_result"
    }
   ],
   "source": [
    "train.limit(100).toPandas().sample(10)"
   ]
  },
  {
   "cell_type": "code",
   "execution_count": 10,
   "metadata": {},
   "outputs": [
    {
     "name": "stdout",
     "output_type": "stream",
     "text": [
      "+-----------------+-----+\n",
      "|      loan_intent|count|\n",
      "+-----------------+-----+\n",
      "|DEBTCONSOLIDATION| 9133|\n",
      "|          VENTURE|10011|\n",
      "|         PERSONAL|10016|\n",
      "|        EDUCATION|12271|\n",
      "|  HOMEIMPROVEMENT| 6280|\n",
      "|          MEDICAL|10934|\n",
      "+-----------------+-----+\n",
      "\n"
     ]
    }
   ],
   "source": [
    "train.groupby('loan_intent').count().show()"
   ]
  },
  {
   "cell_type": "code",
   "execution_count": 11,
   "metadata": {},
   "outputs": [
    {
     "name": "stdout",
     "output_type": "stream",
     "text": [
      "+----------+-----+\n",
      "|loan_grade|count|\n",
      "+----------+-----+\n",
      "|         F|  149|\n",
      "|         E| 1009|\n",
      "|         B|20400|\n",
      "|         D| 5034|\n",
      "|         C|11036|\n",
      "|         A|20984|\n",
      "|         G|   33|\n",
      "+----------+-----+\n",
      "\n"
     ]
    }
   ],
   "source": [
    "train.groupby('loan_grade').count().show()"
   ]
  }
 ],
 "metadata": {
  "kernelspec": {
   "display_name": ".venv",
   "language": "python",
   "name": "python3"
  },
  "language_info": {
   "codemirror_mode": {
    "name": "ipython",
    "version": 3
   },
   "file_extension": ".py",
   "mimetype": "text/x-python",
   "name": "python",
   "nbconvert_exporter": "python",
   "pygments_lexer": "ipython3",
   "version": "3.12.5"
  }
 },
 "nbformat": 4,
 "nbformat_minor": 2
}
