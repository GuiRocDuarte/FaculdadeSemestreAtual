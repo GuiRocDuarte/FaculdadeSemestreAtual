{
 "cells": [
  {
   "cell_type": "code",
   "execution_count": 1,
   "metadata": {},
   "outputs": [],
   "source": [
    "import os\n",
    "os.environ[\"JAVA_HOME\"] = \"C:\\\\jdk-22.0.2\"\n",
    "os.environ[\"SPARK_HOME\"] = \"C:\\\\spark-3.5.2-bin-hadoop3\\\\spark-3.5.2-bin-hadoop3\"\n",
    "os.environ[\"PYSPARK_DRIVER_PYTHON\"] = \"jupyter\"\n",
    "os.environ[\"PYSPARK_PYTHON\"] = \"python\""
   ]
  },
  {
   "cell_type": "code",
   "execution_count": 2,
   "metadata": {},
   "outputs": [],
   "source": [
    "from pyspark.sql import SparkSession\n",
    "from pyspark.sql.functions import isnan, when, count, col, lit, regexp_extract\n",
    "from pyspark.sql.types import IntegerType, DoubleType\n",
    "from pyspark.ml.classification import LogisticRegression\n",
    "from pyspark.ml.evaluation import BinaryClassificationEvaluator\n",
    "from pyspark.ml.tuning import ParamGridBuilder, TrainValidationSplit\n",
    "from pyspark.ml.evaluation import MulticlassClassificationEvaluator\n",
    "from pyspark.ml.feature import StringIndexer, VectorAssembler, OneHotEncoder\n",
    "from pyspark.ml import Pipeline\n",
    "from pyspark.mllib.evaluation import BinaryClassificationMetrics as metric\n",
    "from pyspark.ml.classification import RandomForestClassifier\n",
    "from pyspark.ml.classification import GBTClassifier\n",
    "from sklearn.metrics import roc_curve, auc\n",
    "import pandas as pd\n",
    "import numpy as np"
   ]
  },
  {
   "cell_type": "code",
   "execution_count": 3,
   "metadata": {},
   "outputs": [],
   "source": [
    "spark = SparkSession.builder.appName('Pyspark_Loan').getOrCreate()"
   ]
  },
  {
   "cell_type": "code",
   "execution_count": 4,
   "metadata": {},
   "outputs": [],
   "source": [
    "df = spark.read.csv('C:\\\\01-FaculdadeSemestreAtual\\\\Processamento_de_Dados_Massivos\\\\Loan_Approval\\\\train.csv',header = 'True',inferSchema='True')\n",
    "final_test = spark.read.csv('C:\\\\01-FaculdadeSemestreAtual\\\\Processamento_de_Dados_Massivos\\\\Loan_Approval\\\\test.csv',header = 'True',inferSchema='True')"
   ]
  },
  {
   "cell_type": "code",
   "execution_count": 5,
   "metadata": {},
   "outputs": [
    {
     "name": "stdout",
     "output_type": "stream",
     "text": [
      "+---+----------+-------------+---------------------+-----------------+-----------+----------+---------+-------------+-------------------+-------------------------+--------------------------+-----------+\n",
      "| id|person_age|person_income|person_home_ownership|person_emp_length|loan_intent|loan_grade|loan_amnt|loan_int_rate|loan_percent_income|cb_person_default_on_file|cb_person_cred_hist_length|loan_status|\n",
      "+---+----------+-------------+---------------------+-----------------+-----------+----------+---------+-------------+-------------------+-------------------------+--------------------------+-----------+\n",
      "|  0|        37|        35000|                 RENT|              0.0|  EDUCATION|         B|     6000|        11.49|               0.17|                        N|                        14|          0|\n",
      "|  1|        22|        56000|                  OWN|              6.0|    MEDICAL|         C|     4000|        13.35|               0.07|                        N|                         2|          0|\n",
      "|  2|        29|        28800|                  OWN|              8.0|   PERSONAL|         A|     6000|          8.9|               0.21|                        N|                        10|          0|\n",
      "|  3|        30|        70000|                 RENT|             14.0|    VENTURE|         B|    12000|        11.11|               0.17|                        N|                         5|          0|\n",
      "|  4|        22|        60000|                 RENT|              2.0|    MEDICAL|         A|     6000|         6.92|                0.1|                        N|                         3|          0|\n",
      "+---+----------+-------------+---------------------+-----------------+-----------+----------+---------+-------------+-------------------+-------------------------+--------------------------+-----------+\n",
      "only showing top 5 rows\n",
      "\n"
     ]
    }
   ],
   "source": [
    "df.show(5)"
   ]
  },
  {
   "cell_type": "code",
   "execution_count": 6,
   "metadata": {},
   "outputs": [
    {
     "data": {
      "text/plain": [
       "58645"
      ]
     },
     "execution_count": 6,
     "metadata": {},
     "output_type": "execute_result"
    }
   ],
   "source": [
    "df.count()"
   ]
  },
  {
   "cell_type": "code",
   "execution_count": 7,
   "metadata": {},
   "outputs": [
    {
     "name": "stdout",
     "output_type": "stream",
     "text": [
      "root\n",
      " |-- id: integer (nullable = true)\n",
      " |-- person_age: integer (nullable = true)\n",
      " |-- person_income: integer (nullable = true)\n",
      " |-- person_home_ownership: string (nullable = true)\n",
      " |-- person_emp_length: double (nullable = true)\n",
      " |-- loan_intent: string (nullable = true)\n",
      " |-- loan_grade: string (nullable = true)\n",
      " |-- loan_amnt: integer (nullable = true)\n",
      " |-- loan_int_rate: double (nullable = true)\n",
      " |-- loan_percent_income: double (nullable = true)\n",
      " |-- cb_person_default_on_file: string (nullable = true)\n",
      " |-- cb_person_cred_hist_length: integer (nullable = true)\n",
      " |-- loan_status: integer (nullable = true)\n",
      "\n"
     ]
    }
   ],
   "source": [
    "df.printSchema()"
   ]
  },
  {
   "cell_type": "code",
   "execution_count": 8,
   "metadata": {},
   "outputs": [
    {
     "name": "stdout",
     "output_type": "stream",
     "text": [
      "+---+----------+-------------+---------------------+-----------------+-----------+----------+---------+-------------+-------------------+-------------------------+--------------------------+-----------+\n",
      "| id|person_age|person_income|person_home_ownership|person_emp_length|loan_intent|loan_grade|loan_amnt|loan_int_rate|loan_percent_income|cb_person_default_on_file|cb_person_cred_hist_length|loan_status|\n",
      "+---+----------+-------------+---------------------+-----------------+-----------+----------+---------+-------------+-------------------+-------------------------+--------------------------+-----------+\n",
      "|  0|         0|            0|                    0|                0|          0|         0|        0|            0|                  0|                        0|                         0|          0|\n",
      "+---+----------+-------------+---------------------+-----------------+-----------+----------+---------+-------------+-------------------+-------------------------+--------------------------+-----------+\n",
      "\n"
     ]
    }
   ],
   "source": [
    "df.select([count(when(col(c).isNull(), c)).alias(c) for c in df.columns]).show()"
   ]
  },
  {
   "cell_type": "code",
   "execution_count": 9,
   "metadata": {},
   "outputs": [
    {
     "data": {
      "text/html": [
       "<div>\n",
       "<style scoped>\n",
       "    .dataframe tbody tr th:only-of-type {\n",
       "        vertical-align: middle;\n",
       "    }\n",
       "\n",
       "    .dataframe tbody tr th {\n",
       "        vertical-align: top;\n",
       "    }\n",
       "\n",
       "    .dataframe thead th {\n",
       "        text-align: right;\n",
       "    }\n",
       "</style>\n",
       "<table border=\"1\" class=\"dataframe\">\n",
       "  <thead>\n",
       "    <tr style=\"text-align: right;\">\n",
       "      <th></th>\n",
       "      <th>id</th>\n",
       "      <th>person_age</th>\n",
       "      <th>person_income</th>\n",
       "      <th>person_home_ownership</th>\n",
       "      <th>person_emp_length</th>\n",
       "      <th>loan_intent</th>\n",
       "      <th>loan_grade</th>\n",
       "      <th>loan_amnt</th>\n",
       "      <th>loan_int_rate</th>\n",
       "      <th>loan_percent_income</th>\n",
       "      <th>cb_person_default_on_file</th>\n",
       "      <th>cb_person_cred_hist_length</th>\n",
       "      <th>loan_status</th>\n",
       "    </tr>\n",
       "  </thead>\n",
       "  <tbody>\n",
       "    <tr>\n",
       "      <th>17</th>\n",
       "      <td>17</td>\n",
       "      <td>29</td>\n",
       "      <td>60000</td>\n",
       "      <td>OWN</td>\n",
       "      <td>13.0</td>\n",
       "      <td>MEDICAL</td>\n",
       "      <td>A</td>\n",
       "      <td>15000</td>\n",
       "      <td>6.62</td>\n",
       "      <td>0.25</td>\n",
       "      <td>N</td>\n",
       "      <td>9</td>\n",
       "      <td>0</td>\n",
       "    </tr>\n",
       "    <tr>\n",
       "      <th>82</th>\n",
       "      <td>82</td>\n",
       "      <td>24</td>\n",
       "      <td>75000</td>\n",
       "      <td>RENT</td>\n",
       "      <td>3.0</td>\n",
       "      <td>PERSONAL</td>\n",
       "      <td>B</td>\n",
       "      <td>15000</td>\n",
       "      <td>11.49</td>\n",
       "      <td>0.20</td>\n",
       "      <td>N</td>\n",
       "      <td>2</td>\n",
       "      <td>0</td>\n",
       "    </tr>\n",
       "    <tr>\n",
       "      <th>40</th>\n",
       "      <td>40</td>\n",
       "      <td>30</td>\n",
       "      <td>120000</td>\n",
       "      <td>MORTGAGE</td>\n",
       "      <td>4.0</td>\n",
       "      <td>EDUCATION</td>\n",
       "      <td>A</td>\n",
       "      <td>4000</td>\n",
       "      <td>7.14</td>\n",
       "      <td>0.03</td>\n",
       "      <td>N</td>\n",
       "      <td>10</td>\n",
       "      <td>0</td>\n",
       "    </tr>\n",
       "    <tr>\n",
       "      <th>15</th>\n",
       "      <td>15</td>\n",
       "      <td>29</td>\n",
       "      <td>33000</td>\n",
       "      <td>OWN</td>\n",
       "      <td>8.0</td>\n",
       "      <td>MEDICAL</td>\n",
       "      <td>A</td>\n",
       "      <td>7300</td>\n",
       "      <td>8.90</td>\n",
       "      <td>0.23</td>\n",
       "      <td>N</td>\n",
       "      <td>8</td>\n",
       "      <td>0</td>\n",
       "    </tr>\n",
       "    <tr>\n",
       "      <th>9</th>\n",
       "      <td>9</td>\n",
       "      <td>35</td>\n",
       "      <td>110000</td>\n",
       "      <td>MORTGAGE</td>\n",
       "      <td>0.0</td>\n",
       "      <td>DEBTCONSOLIDATION</td>\n",
       "      <td>C</td>\n",
       "      <td>15000</td>\n",
       "      <td>12.98</td>\n",
       "      <td>0.14</td>\n",
       "      <td>Y</td>\n",
       "      <td>6</td>\n",
       "      <td>0</td>\n",
       "    </tr>\n",
       "    <tr>\n",
       "      <th>88</th>\n",
       "      <td>88</td>\n",
       "      <td>23</td>\n",
       "      <td>110000</td>\n",
       "      <td>MORTGAGE</td>\n",
       "      <td>7.0</td>\n",
       "      <td>DEBTCONSOLIDATION</td>\n",
       "      <td>B</td>\n",
       "      <td>6000</td>\n",
       "      <td>11.71</td>\n",
       "      <td>0.05</td>\n",
       "      <td>N</td>\n",
       "      <td>3</td>\n",
       "      <td>0</td>\n",
       "    </tr>\n",
       "    <tr>\n",
       "      <th>87</th>\n",
       "      <td>87</td>\n",
       "      <td>31</td>\n",
       "      <td>30000</td>\n",
       "      <td>RENT</td>\n",
       "      <td>0.0</td>\n",
       "      <td>VENTURE</td>\n",
       "      <td>A</td>\n",
       "      <td>12000</td>\n",
       "      <td>8.94</td>\n",
       "      <td>0.40</td>\n",
       "      <td>N</td>\n",
       "      <td>6</td>\n",
       "      <td>1</td>\n",
       "    </tr>\n",
       "    <tr>\n",
       "      <th>99</th>\n",
       "      <td>99</td>\n",
       "      <td>27</td>\n",
       "      <td>70000</td>\n",
       "      <td>RENT</td>\n",
       "      <td>0.0</td>\n",
       "      <td>EDUCATION</td>\n",
       "      <td>B</td>\n",
       "      <td>15000</td>\n",
       "      <td>10.99</td>\n",
       "      <td>0.21</td>\n",
       "      <td>N</td>\n",
       "      <td>7</td>\n",
       "      <td>0</td>\n",
       "    </tr>\n",
       "    <tr>\n",
       "      <th>61</th>\n",
       "      <td>61</td>\n",
       "      <td>28</td>\n",
       "      <td>60000</td>\n",
       "      <td>RENT</td>\n",
       "      <td>2.0</td>\n",
       "      <td>VENTURE</td>\n",
       "      <td>A</td>\n",
       "      <td>5500</td>\n",
       "      <td>5.42</td>\n",
       "      <td>0.09</td>\n",
       "      <td>N</td>\n",
       "      <td>5</td>\n",
       "      <td>0</td>\n",
       "    </tr>\n",
       "    <tr>\n",
       "      <th>86</th>\n",
       "      <td>86</td>\n",
       "      <td>48</td>\n",
       "      <td>112000</td>\n",
       "      <td>MORTGAGE</td>\n",
       "      <td>21.0</td>\n",
       "      <td>MEDICAL</td>\n",
       "      <td>A</td>\n",
       "      <td>5000</td>\n",
       "      <td>7.90</td>\n",
       "      <td>0.04</td>\n",
       "      <td>N</td>\n",
       "      <td>17</td>\n",
       "      <td>0</td>\n",
       "    </tr>\n",
       "  </tbody>\n",
       "</table>\n",
       "</div>"
      ],
      "text/plain": [
       "    id  person_age  person_income person_home_ownership  person_emp_length  \\\n",
       "17  17          29          60000                   OWN               13.0   \n",
       "82  82          24          75000                  RENT                3.0   \n",
       "40  40          30         120000              MORTGAGE                4.0   \n",
       "15  15          29          33000                   OWN                8.0   \n",
       "9    9          35         110000              MORTGAGE                0.0   \n",
       "88  88          23         110000              MORTGAGE                7.0   \n",
       "87  87          31          30000                  RENT                0.0   \n",
       "99  99          27          70000                  RENT                0.0   \n",
       "61  61          28          60000                  RENT                2.0   \n",
       "86  86          48         112000              MORTGAGE               21.0   \n",
       "\n",
       "          loan_intent loan_grade  loan_amnt  loan_int_rate  \\\n",
       "17            MEDICAL          A      15000           6.62   \n",
       "82           PERSONAL          B      15000          11.49   \n",
       "40          EDUCATION          A       4000           7.14   \n",
       "15            MEDICAL          A       7300           8.90   \n",
       "9   DEBTCONSOLIDATION          C      15000          12.98   \n",
       "88  DEBTCONSOLIDATION          B       6000          11.71   \n",
       "87            VENTURE          A      12000           8.94   \n",
       "99          EDUCATION          B      15000          10.99   \n",
       "61            VENTURE          A       5500           5.42   \n",
       "86            MEDICAL          A       5000           7.90   \n",
       "\n",
       "    loan_percent_income cb_person_default_on_file  cb_person_cred_hist_length  \\\n",
       "17                 0.25                         N                           9   \n",
       "82                 0.20                         N                           2   \n",
       "40                 0.03                         N                          10   \n",
       "15                 0.23                         N                           8   \n",
       "9                  0.14                         Y                           6   \n",
       "88                 0.05                         N                           3   \n",
       "87                 0.40                         N                           6   \n",
       "99                 0.21                         N                           7   \n",
       "61                 0.09                         N                           5   \n",
       "86                 0.04                         N                          17   \n",
       "\n",
       "    loan_status  \n",
       "17            0  \n",
       "82            0  \n",
       "40            0  \n",
       "15            0  \n",
       "9             0  \n",
       "88            0  \n",
       "87            1  \n",
       "99            0  \n",
       "61            0  \n",
       "86            0  "
      ]
     },
     "execution_count": 9,
     "metadata": {},
     "output_type": "execute_result"
    }
   ],
   "source": [
    "df.limit(100).toPandas().sample(10)"
   ]
  },
  {
   "cell_type": "code",
   "execution_count": 10,
   "metadata": {},
   "outputs": [
    {
     "name": "stdout",
     "output_type": "stream",
     "text": [
      "+-----------------+-----+\n",
      "|      loan_intent|count|\n",
      "+-----------------+-----+\n",
      "|DEBTCONSOLIDATION| 9133|\n",
      "|          VENTURE|10011|\n",
      "|         PERSONAL|10016|\n",
      "|        EDUCATION|12271|\n",
      "|  HOMEIMPROVEMENT| 6280|\n",
      "|          MEDICAL|10934|\n",
      "+-----------------+-----+\n",
      "\n"
     ]
    }
   ],
   "source": [
    "df.groupby('loan_intent').count().show()"
   ]
  },
  {
   "cell_type": "code",
   "execution_count": 11,
   "metadata": {},
   "outputs": [
    {
     "name": "stdout",
     "output_type": "stream",
     "text": [
      "+----------+-----+\n",
      "|loan_grade|count|\n",
      "+----------+-----+\n",
      "|         F|  149|\n",
      "|         E| 1009|\n",
      "|         B|20400|\n",
      "|         D| 5034|\n",
      "|         C|11036|\n",
      "|         A|20984|\n",
      "|         G|   33|\n",
      "+----------+-----+\n",
      "\n"
     ]
    }
   ],
   "source": [
    "df.groupby('loan_grade').count().show()"
   ]
  },
  {
   "cell_type": "code",
   "execution_count": 12,
   "metadata": {},
   "outputs": [
    {
     "name": "stdout",
     "output_type": "stream",
     "text": [
      "+-----------+-----+\n",
      "|loan_status|count|\n",
      "+-----------+-----+\n",
      "|          1| 8350|\n",
      "|          0|50295|\n",
      "+-----------+-----+\n",
      "\n"
     ]
    }
   ],
   "source": [
    "df.groupBy('loan_status').count().show()"
   ]
  },
  {
   "cell_type": "code",
   "execution_count": 13,
   "metadata": {},
   "outputs": [
    {
     "name": "stdout",
     "output_type": "stream",
     "text": [
      "+---+----------+-------------+---------------------+-----------------+-----------------+----------+---------+-------------+-------------------+-------------------------+--------------------------+-----------+----------------+---------------------------+-----------------+-------------------------------+----------------------------+------------------+\n",
      "| id|person_age|person_income|person_home_ownership|person_emp_length|      loan_intent|loan_grade|loan_amnt|loan_int_rate|loan_percent_income|cb_person_default_on_file|cb_person_cred_hist_length|loan_status|loan_grade_index|person_home_ownership_index|loan_intent_index|cb_person_default_on_file_index|person_home_ownership_onehot|loan_intent_onehot|\n",
      "+---+----------+-------------+---------------------+-----------------+-----------------+----------+---------+-------------+-------------------+-------------------------+--------------------------+-----------+----------------+---------------------------+-----------------+-------------------------------+----------------------------+------------------+\n",
      "|  0|        37|        35000|                 RENT|              0.0|        EDUCATION|         B|     6000|        11.49|               0.17|                        N|                        14|          0|             1.0|                        0.0|              0.0|                            0.0|               (3,[0],[1.0])|     (5,[0],[1.0])|\n",
      "|  1|        22|        56000|                  OWN|              6.0|          MEDICAL|         C|     4000|        13.35|               0.07|                        N|                         2|          0|             2.0|                        2.0|              1.0|                            0.0|               (3,[2],[1.0])|     (5,[1],[1.0])|\n",
      "|  2|        29|        28800|                  OWN|              8.0|         PERSONAL|         A|     6000|          8.9|               0.21|                        N|                        10|          0|             0.0|                        2.0|              2.0|                            0.0|               (3,[2],[1.0])|     (5,[2],[1.0])|\n",
      "|  3|        30|        70000|                 RENT|             14.0|          VENTURE|         B|    12000|        11.11|               0.17|                        N|                         5|          0|             1.0|                        0.0|              3.0|                            0.0|               (3,[0],[1.0])|     (5,[3],[1.0])|\n",
      "|  4|        22|        60000|                 RENT|              2.0|          MEDICAL|         A|     6000|         6.92|                0.1|                        N|                         3|          0|             0.0|                        0.0|              1.0|                            0.0|               (3,[0],[1.0])|     (5,[1],[1.0])|\n",
      "|  5|        27|        45000|                 RENT|              2.0|          VENTURE|         A|     9000|         8.94|                0.2|                        N|                         5|          0|             0.0|                        0.0|              3.0|                            0.0|               (3,[0],[1.0])|     (5,[3],[1.0])|\n",
      "|  6|        25|        45000|             MORTGAGE|              9.0|        EDUCATION|         A|    12000|         6.54|               0.27|                        N|                         3|          0|             0.0|                        1.0|              0.0|                            0.0|               (3,[1],[1.0])|     (5,[0],[1.0])|\n",
      "|  7|        21|        20000|                 RENT|              0.0|         PERSONAL|         C|     2500|        13.49|               0.13|                        Y|                         3|          0|             2.0|                        0.0|              2.0|                            1.0|               (3,[0],[1.0])|     (5,[2],[1.0])|\n",
      "|  8|        37|        69600|                 RENT|             11.0|        EDUCATION|         D|     5000|        14.84|               0.07|                        Y|                        11|          0|             3.0|                        0.0|              0.0|                            1.0|               (3,[0],[1.0])|     (5,[0],[1.0])|\n",
      "|  9|        35|       110000|             MORTGAGE|              0.0|DEBTCONSOLIDATION|         C|    15000|        12.98|               0.14|                        Y|                         6|          0|             2.0|                        1.0|              4.0|                            1.0|               (3,[1],[1.0])|     (5,[4],[1.0])|\n",
      "| 10|        30|        78000|             MORTGAGE|              5.0|          VENTURE|         B|    12800|        10.59|               0.17|                        N|                         5|          0|             1.0|                        1.0|              3.0|                            0.0|               (3,[1],[1.0])|     (5,[3],[1.0])|\n",
      "| 11|        22|        33000|                 RENT|              6.0|         PERSONAL|         B|    10000|        11.12|                0.3|                        N|                         2|          1|             1.0|                        0.0|              2.0|                            0.0|               (3,[0],[1.0])|     (5,[2],[1.0])|\n",
      "| 12|        25|        33000|             MORTGAGE|              1.0|        EDUCATION|         B|     4000|        10.75|               0.12|                        N|                         3|          0|             1.0|                        1.0|              0.0|                            0.0|               (3,[1],[1.0])|     (5,[0],[1.0])|\n",
      "| 13|        31|        70000|             MORTGAGE|              2.0|DEBTCONSOLIDATION|         B|    16000|        11.14|               0.23|                        N|                         9|          0|             1.0|                        1.0|              4.0|                            0.0|               (3,[1],[1.0])|     (5,[4],[1.0])|\n",
      "| 14|        27|       100000|                 RENT|              1.0|  HOMEIMPROVEMENT|         C|     5000|        13.57|               0.05|                        Y|                         7|          0|             2.0|                        0.0|              5.0|                            1.0|               (3,[0],[1.0])|         (5,[],[])|\n",
      "| 15|        29|        33000|                  OWN|              8.0|          MEDICAL|         A|     7300|          8.9|               0.23|                        N|                         8|          0|             0.0|                        2.0|              1.0|                            0.0|               (3,[2],[1.0])|     (5,[1],[1.0])|\n",
      "| 16|        26|        80000|                 RENT|              2.0|  HOMEIMPROVEMENT|         D|    17000|        14.11|               0.21|                        Y|                         3|          0|             3.0|                        0.0|              5.0|                            1.0|               (3,[0],[1.0])|         (5,[],[])|\n",
      "| 17|        29|        60000|                  OWN|             13.0|          MEDICAL|         A|    15000|         6.62|               0.25|                        N|                         9|          0|             0.0|                        2.0|              1.0|                            0.0|               (3,[2],[1.0])|     (5,[1],[1.0])|\n",
      "| 18|        22|        84000|             MORTGAGE|              6.0|DEBTCONSOLIDATION|         B|     5950|        11.12|               0.07|                        N|                         4|          0|             1.0|                        1.0|              4.0|                            0.0|               (3,[1],[1.0])|     (5,[4],[1.0])|\n",
      "| 19|        27|        65000|             MORTGAGE|              3.0|DEBTCONSOLIDATION|         C|     4800|        12.73|               0.07|                        Y|                         8|          0|             2.0|                        1.0|              4.0|                            1.0|               (3,[1],[1.0])|     (5,[4],[1.0])|\n",
      "+---+----------+-------------+---------------------+-----------------+-----------------+----------+---------+-------------+-------------------+-------------------------+--------------------------+-----------+----------------+---------------------------+-----------------+-------------------------------+----------------------------+------------------+\n",
      "only showing top 20 rows\n",
      "\n"
     ]
    }
   ],
   "source": [
    "# Definir as colunas categóricas se deseja codificar\n",
    "categorical_columns = [\"loan_grade\", \"person_home_ownership\", \"loan_intent\", 'cb_person_default_on_file']\n",
    "\n",
    "# Criar os indexadores\n",
    "indexers = [StringIndexer(inputCol=column, outputCol=column + \"_index\") for column in categorical_columns]\n",
    "\n",
    "# Criar os OneHotEncoders\n",
    "encoders = [OneHotEncoder(inputCol=column + \"_index\", outputCol=column + \"_onehot\") for column in [\"person_home_ownership\", \"loan_intent\"]]\n",
    "\n",
    "# Criar um pipeline que aplica primeiro os indexadores e depois os encoders\n",
    "pipeline = Pipeline(stages=indexers + encoders)\n",
    "\n",
    "# Ajustar e transformar o DataFrame com o pipeline\n",
    "df_encoded = pipeline.fit(df).transform(df)\n",
    "\n",
    "# Mostrar o resultado\n",
    "df_encoded.show()\n"
   ]
  },
  {
   "cell_type": "code",
   "execution_count": 14,
   "metadata": {},
   "outputs": [
    {
     "data": {
      "text/html": [
       "<div>\n",
       "<style scoped>\n",
       "    .dataframe tbody tr th:only-of-type {\n",
       "        vertical-align: middle;\n",
       "    }\n",
       "\n",
       "    .dataframe tbody tr th {\n",
       "        vertical-align: top;\n",
       "    }\n",
       "\n",
       "    .dataframe thead th {\n",
       "        text-align: right;\n",
       "    }\n",
       "</style>\n",
       "<table border=\"1\" class=\"dataframe\">\n",
       "  <thead>\n",
       "    <tr style=\"text-align: right;\">\n",
       "      <th></th>\n",
       "      <th>person_age</th>\n",
       "      <th>person_income</th>\n",
       "      <th>person_emp_length</th>\n",
       "      <th>loan_amnt</th>\n",
       "      <th>loan_int_rate</th>\n",
       "      <th>loan_percent_income</th>\n",
       "      <th>cb_person_cred_hist_length</th>\n",
       "      <th>loan_status</th>\n",
       "      <th>loan_grade_index</th>\n",
       "      <th>cb_person_default_on_file_index</th>\n",
       "      <th>person_home_ownership_onehot</th>\n",
       "      <th>loan_intent_onehot</th>\n",
       "      <th>features</th>\n",
       "    </tr>\n",
       "  </thead>\n",
       "  <tbody>\n",
       "    <tr>\n",
       "      <th>0</th>\n",
       "      <td>37</td>\n",
       "      <td>35000</td>\n",
       "      <td>0.0</td>\n",
       "      <td>6000</td>\n",
       "      <td>11.49</td>\n",
       "      <td>0.17</td>\n",
       "      <td>14</td>\n",
       "      <td>0</td>\n",
       "      <td>1.0</td>\n",
       "      <td>0.0</td>\n",
       "      <td>(1.0, 0.0, 0.0)</td>\n",
       "      <td>(1.0, 0.0, 0.0, 0.0, 0.0)</td>\n",
       "      <td>(37.0, 35000.0, 0.0, 6000.0, 11.49, 0.17, 14.0...</td>\n",
       "    </tr>\n",
       "    <tr>\n",
       "      <th>1</th>\n",
       "      <td>22</td>\n",
       "      <td>56000</td>\n",
       "      <td>6.0</td>\n",
       "      <td>4000</td>\n",
       "      <td>13.35</td>\n",
       "      <td>0.07</td>\n",
       "      <td>2</td>\n",
       "      <td>0</td>\n",
       "      <td>2.0</td>\n",
       "      <td>0.0</td>\n",
       "      <td>(0.0, 0.0, 1.0)</td>\n",
       "      <td>(0.0, 1.0, 0.0, 0.0, 0.0)</td>\n",
       "      <td>(22.0, 56000.0, 6.0, 4000.0, 13.35, 0.07, 2.0,...</td>\n",
       "    </tr>\n",
       "    <tr>\n",
       "      <th>2</th>\n",
       "      <td>29</td>\n",
       "      <td>28800</td>\n",
       "      <td>8.0</td>\n",
       "      <td>6000</td>\n",
       "      <td>8.90</td>\n",
       "      <td>0.21</td>\n",
       "      <td>10</td>\n",
       "      <td>0</td>\n",
       "      <td>0.0</td>\n",
       "      <td>0.0</td>\n",
       "      <td>(0.0, 0.0, 1.0)</td>\n",
       "      <td>(0.0, 0.0, 1.0, 0.0, 0.0)</td>\n",
       "      <td>(29.0, 28800.0, 8.0, 6000.0, 8.9, 0.21, 10.0, ...</td>\n",
       "    </tr>\n",
       "  </tbody>\n",
       "</table>\n",
       "</div>"
      ],
      "text/plain": [
       "   person_age  person_income  person_emp_length  loan_amnt  loan_int_rate  \\\n",
       "0          37          35000                0.0       6000          11.49   \n",
       "1          22          56000                6.0       4000          13.35   \n",
       "2          29          28800                8.0       6000           8.90   \n",
       "\n",
       "   loan_percent_income  cb_person_cred_hist_length  loan_status  \\\n",
       "0                 0.17                          14            0   \n",
       "1                 0.07                           2            0   \n",
       "2                 0.21                          10            0   \n",
       "\n",
       "   loan_grade_index  cb_person_default_on_file_index  \\\n",
       "0               1.0                              0.0   \n",
       "1               2.0                              0.0   \n",
       "2               0.0                              0.0   \n",
       "\n",
       "  person_home_ownership_onehot         loan_intent_onehot  \\\n",
       "0              (1.0, 0.0, 0.0)  (1.0, 0.0, 0.0, 0.0, 0.0)   \n",
       "1              (0.0, 0.0, 1.0)  (0.0, 1.0, 0.0, 0.0, 0.0)   \n",
       "2              (0.0, 0.0, 1.0)  (0.0, 0.0, 1.0, 0.0, 0.0)   \n",
       "\n",
       "                                            features  \n",
       "0  (37.0, 35000.0, 0.0, 6000.0, 11.49, 0.17, 14.0...  \n",
       "1  (22.0, 56000.0, 6.0, 4000.0, 13.35, 0.07, 2.0,...  \n",
       "2  (29.0, 28800.0, 8.0, 6000.0, 8.9, 0.21, 10.0, ...  "
      ]
     },
     "execution_count": 14,
     "metadata": {},
     "output_type": "execute_result"
    }
   ],
   "source": [
    "# Agora, são elimindas as colunas que não são úteis\n",
    "df_encoded = df_encoded.drop(\"id\",\"person_home_ownership\",\"loan_intent\",\"loan_grade\",\"cb_person_default_on_file\", 'person_home_ownership_index', 'loan_intent_index')\n",
    "\n",
    "feature_columns = df_encoded.columns\n",
    "\n",
    "# retirando a variácvel a ser predita\n",
    "feature_columns.remove('loan_status')\n",
    "\n",
    "# Antes de modelar, todas as colunas são colocadas em único vetor\n",
    "feature = VectorAssembler(inputCols = feature_columns,outputCol=\"features\")\n",
    "feature_vector=feature.transform(df_encoded)\n",
    "feature_vector.limit(3).toPandas()"
   ]
  },
  {
   "cell_type": "code",
   "execution_count": 15,
   "metadata": {},
   "outputs": [],
   "source": [
    "# Seleciona as colunas usadas no treinamento\n",
    "loan_df = feature_vector.select(['features','loan_status'])\n",
    "# Split the dataset to train_df and test_df\n",
    "train_df,test_df = loan_df.randomSplit([0.7,0.3])"
   ]
  },
  {
   "cell_type": "code",
   "execution_count": 16,
   "metadata": {},
   "outputs": [
    {
     "name": "stdout",
     "output_type": "stream",
     "text": [
      "+-----------+-----+\n",
      "|loan_status|count|\n",
      "+-----------+-----+\n",
      "|          1| 8350|\n",
      "|          0|50295|\n",
      "+-----------+-----+\n",
      "\n"
     ]
    }
   ],
   "source": [
    "loan_df.groupBy('loan_status').count().show()"
   ]
  },
  {
   "cell_type": "code",
   "execution_count": 17,
   "metadata": {},
   "outputs": [
    {
     "name": "stdout",
     "output_type": "stream",
     "text": [
      "+-----------+-----+\n",
      "|loan_status|count|\n",
      "+-----------+-----+\n",
      "|          1| 2557|\n",
      "|          0|15125|\n",
      "+-----------+-----+\n",
      "\n"
     ]
    }
   ],
   "source": [
    "test_df.groupBy('loan_status').count().show()"
   ]
  },
  {
   "cell_type": "code",
   "execution_count": 18,
   "metadata": {},
   "outputs": [
    {
     "name": "stdout",
     "output_type": "stream",
     "text": [
      "+-----------+-----+\n",
      "|loan_status|count|\n",
      "+-----------+-----+\n",
      "|          1| 5793|\n",
      "|          0|35170|\n",
      "+-----------+-----+\n",
      "\n"
     ]
    }
   ],
   "source": [
    "train_df.groupBy('loan_status').count().show()"
   ]
  },
  {
   "cell_type": "code",
   "execution_count": 19,
   "metadata": {},
   "outputs": [
    {
     "name": "stdout",
     "output_type": "stream",
     "text": [
      "Accuracy:  0.9001244203144441\n",
      "Precision:  0.8910225246897211\n",
      "Recall:  0.9001244203144441\n",
      "F1-Score:  0.890251854319285\n"
     ]
    }
   ],
   "source": [
    "lr = LogisticRegression(labelCol=\"loan_status\")\n",
    "\n",
    "model_lr = lr.fit(train_df)\n",
    "model_predictions= model_lr.transform(test_df)\n",
    "\n",
    "print('Accuracy: ', MulticlassClassificationEvaluator(labelCol='loan_status',metricName='accuracy').evaluate(model_predictions))\n",
    "print('Precision: ', MulticlassClassificationEvaluator(labelCol='loan_status',metricName='weightedPrecision').evaluate(model_predictions))\n",
    "print('Recall: ', MulticlassClassificationEvaluator(labelCol='loan_status', metricName='weightedRecall').evaluate(model_predictions))\n",
    "print('F1-Score: ', MulticlassClassificationEvaluator(labelCol='loan_status', metricName='f1').evaluate(model_predictions))"
   ]
  },
  {
   "cell_type": "code",
   "execution_count": 20,
   "metadata": {},
   "outputs": [
    {
     "name": "stdout",
     "output_type": "stream",
     "text": [
      "Accuracy:  0.8984277796629341\n",
      "Precision:  0.890280924651643\n",
      "Recall:  0.8984277796629341\n",
      "F1-Score:  0.883950386531577\n"
     ]
    }
   ],
   "source": [
    "# Ajustando os hiperparâmetros\n",
    "lr = LogisticRegression(labelCol=\"loan_status\")\n",
    "\n",
    "# Definindo as faixas dos hiperparâmtros para o Grid Search\n",
    "paramGrid = ParamGridBuilder().addGrid(lr.regParam, (0.01, 0.1))\\\n",
    "                              .addGrid(lr.maxIter, (5, 10))\\\n",
    "                              .addGrid(lr.tol, (1e-4, 1e-5))\\\n",
    "                              .addGrid(lr.elasticNetParam, (0.25,0.75))\\\n",
    "                              .build()\n",
    "\n",
    "from pyspark.ml.tuning import CrossValidator\n",
    "\n",
    "# Etapa de cross-validation usando 5 folds\n",
    "cv = CrossValidator( estimator=lr\n",
    "                           ,estimatorParamMaps=paramGrid\n",
    "                           ,evaluator=MulticlassClassificationEvaluator(labelCol='loan_status')\n",
    "                           ,numFolds=5)\n",
    "model_lr_h = cv.fit(train_df)\n",
    "model_predictions= model_lr_h.transform(test_df)\n",
    "\n",
    "print('Accuracy: ', MulticlassClassificationEvaluator(labelCol='loan_status',metricName='accuracy').evaluate(model_predictions))\n",
    "print('Precision: ', MulticlassClassificationEvaluator(labelCol='loan_status',metricName='weightedPrecision').evaluate(model_predictions))\n",
    "print('Recall: ', MulticlassClassificationEvaluator(labelCol='loan_status', metricName='weightedRecall').evaluate(model_predictions))\n",
    "print('F1-Score: ', MulticlassClassificationEvaluator(labelCol='loan_status', metricName='f1').evaluate(model_predictions))"
   ]
  },
  {
   "cell_type": "code",
   "execution_count": 21,
   "metadata": {},
   "outputs": [
    {
     "name": "stdout",
     "output_type": "stream",
     "text": [
      "Accuracy:  0.939203709987558\n",
      "Precision:  0.9398925394517854\n",
      "Recall:  0.939203709987558\n",
      "F1-Score:  0.9334721650639556\n"
     ]
    }
   ],
   "source": [
    "rf = RandomForestClassifier(labelCol='loan_status')\n",
    "\n",
    "model_rf = rf.fit(train_df)\n",
    "model_predictions= model_rf.transform(test_df)\n",
    "\n",
    "\n",
    "print('Accuracy: ', MulticlassClassificationEvaluator(labelCol='loan_status',metricName='accuracy').evaluate(model_predictions))\n",
    "print('Precision: ', MulticlassClassificationEvaluator(labelCol='loan_status',metricName='weightedPrecision').evaluate(model_predictions))\n",
    "print('Recall: ', MulticlassClassificationEvaluator(labelCol='loan_status', metricName='weightedRecall').evaluate(model_predictions))\n",
    "print('F1-Score: ', MulticlassClassificationEvaluator(labelCol='loan_status', metricName='f1').evaluate(model_predictions))"
   ]
  },
  {
   "cell_type": "code",
   "execution_count": 22,
   "metadata": {},
   "outputs": [
    {
     "name": "stdout",
     "output_type": "stream",
     "text": [
      "Accuracy:  0.948195905440561\n",
      "Precision:  0.9474567407952067\n",
      "Recall:  0.9481959054405611\n",
      "F1-Score:  0.9449691910477751\n"
     ]
    }
   ],
   "source": [
    "# Ajustando os hiperparâmetros (demora mais...)\n",
    "rf = RandomForestClassifier(labelCol='loan_status')\n",
    "paramGrid = ParamGridBuilder()\\\n",
    "                                .addGrid(rf.maxDepth, [5, 10, 20]) \\\n",
    "                                .addGrid(rf.maxBins, [20, 32, 50]) \\\n",
    "                                .addGrid(rf.numTrees, [20, 40, 60 ]) \\\n",
    "                                .addGrid(rf.impurity, [\"gini\", \"entropy\"]) \\\n",
    "                                .addGrid(rf.minInstancesPerNode, [1, 5, 10]) \\\n",
    "                                .build()\n",
    "\n",
    "\n",
    "tvs = TrainValidationSplit(\n",
    "    estimator=rf,\n",
    "    estimatorParamMaps=paramGrid,\n",
    "    evaluator=MulticlassClassificationEvaluator(labelCol='loan_status'),\n",
    "    trainRatio=0.8\n",
    ")\n",
    "\n",
    "model_rf_h = tvs.fit(train_df)\n",
    "model_predictions= model_rf_h.transform(test_df)\n",
    "\n",
    "\n",
    "print('Accuracy: ', MulticlassClassificationEvaluator(labelCol='loan_status',metricName='accuracy').evaluate(model_predictions))\n",
    "print('Precision: ', MulticlassClassificationEvaluator(labelCol='loan_status',metricName='weightedPrecision').evaluate(model_predictions))\n",
    "print('Recall: ', MulticlassClassificationEvaluator(labelCol='loan_status', metricName='weightedRecall').evaluate(model_predictions))\n",
    "print('F1-Score: ', MulticlassClassificationEvaluator(labelCol='loan_status', metricName='f1').evaluate(model_predictions))"
   ]
  },
  {
   "cell_type": "code",
   "execution_count": 23,
   "metadata": {},
   "outputs": [
    {
     "name": "stdout",
     "output_type": "stream",
     "text": [
      "Accuracy:  0.9472910304264224\n",
      "Precision:  0.9471725676888005\n",
      "Recall:  0.9472910304264224\n",
      "F1-Score:  0.9435236302311122\n"
     ]
    }
   ],
   "source": [
    "from pyspark.ml.classification import GBTClassifier\n",
    "\n",
    "# Gradient Boosting Classifier\n",
    "gbt = GBTClassifier(labelCol='loan_status')\n",
    "\n",
    "# Treinando o modelo\n",
    "model_gbt = gbt.fit(train_df)\n",
    "\n",
    "# Fazendo previsões\n",
    "model_predictions_gbt = model_gbt.transform(test_df)\n",
    "\n",
    "# Avaliação\n",
    "print('Accuracy: ', MulticlassClassificationEvaluator(labelCol='loan_status', metricName='accuracy').evaluate(model_predictions_gbt))\n",
    "print('Precision: ', MulticlassClassificationEvaluator(labelCol='loan_status', metricName='weightedPrecision').evaluate(model_predictions_gbt))\n",
    "print('Recall: ', MulticlassClassificationEvaluator(labelCol='loan_status', metricName='weightedRecall').evaluate(model_predictions_gbt))\n",
    "print('F1-Score: ', MulticlassClassificationEvaluator(labelCol='loan_status', metricName='f1').evaluate(model_predictions_gbt))"
   ]
  },
  {
   "cell_type": "code",
   "execution_count": 24,
   "metadata": {},
   "outputs": [
    {
     "name": "stdout",
     "output_type": "stream",
     "text": [
      "Accuracy:  0.9466689288542021\n",
      "Precision:  0.9461628715438987\n",
      "Recall:  0.9466689288542021\n",
      "F1-Score:  0.9430247517498705\n"
     ]
    }
   ],
   "source": [
    "from pyspark.ml.classification import GBTClassifier\n",
    "from pyspark.ml.tuning import ParamGridBuilder, TrainValidationSplit\n",
    "from pyspark.ml.evaluation import MulticlassClassificationEvaluator\n",
    "\n",
    "# Gradient Boosting Classifier\n",
    "gbt = GBTClassifier(labelCol='loan_status')\n",
    "\n",
    "# Definindo a grade de hiperparâmetros\n",
    "paramGrid_gbt = ParamGridBuilder()\\\n",
    "                                .addGrid(gbt.maxDepth, [5, 10, 20]) \\\n",
    "                                .addGrid(gbt.maxIter, [10, 20, 30]) \\\n",
    "                                .addGrid(gbt.stepSize, [0.01, 0.1, 0.3]) \\\n",
    "                                .build()\n",
    "\n",
    "# Configuração de TrainValidationSplit\n",
    "tvs_gbt = TrainValidationSplit(\n",
    "    estimator=gbt,\n",
    "    estimatorParamMaps=paramGrid_gbt,\n",
    "    evaluator=MulticlassClassificationEvaluator(labelCol='loan_status'),\n",
    "    trainRatio=0.8\n",
    ")\n",
    "\n",
    "# Ajustando o modelo\n",
    "model_gbt_h = tvs_gbt.fit(train_df)\n",
    "\n",
    "# Fazendo previsões\n",
    "model_predictions_gbt_h = model_gbt_h.transform(test_df)\n",
    "\n",
    "# Avaliação\n",
    "print('Accuracy: ', MulticlassClassificationEvaluator(labelCol='loan_status', metricName='accuracy').evaluate(model_predictions_gbt_h))\n",
    "print('Precision: ', MulticlassClassificationEvaluator(labelCol='loan_status', metricName='weightedPrecision').evaluate(model_predictions_gbt_h))\n",
    "print('Recall: ', MulticlassClassificationEvaluator(labelCol='loan_status', metricName='weightedRecall').evaluate(model_predictions_gbt_h))\n",
    "print('F1-Score: ', MulticlassClassificationEvaluator(labelCol='loan_status', metricName='f1').evaluate(model_predictions_gbt_h))"
   ]
  },
  {
   "cell_type": "markdown",
   "metadata": {},
   "source": [
    "# Model Fit"
   ]
  },
  {
   "cell_type": "code",
   "execution_count": 25,
   "metadata": {},
   "outputs": [
    {
     "name": "stdout",
     "output_type": "stream",
     "text": [
      "+-----+----------+-------------+---------------------+-----------------+-----------------+----------+---------+-------------+-------------------+-------------------------+--------------------------+----------------+---------------------------+-----------------+-------------------------------+----------------------------+------------------+\n",
      "|   id|person_age|person_income|person_home_ownership|person_emp_length|      loan_intent|loan_grade|loan_amnt|loan_int_rate|loan_percent_income|cb_person_default_on_file|cb_person_cred_hist_length|loan_grade_index|person_home_ownership_index|loan_intent_index|cb_person_default_on_file_index|person_home_ownership_onehot|loan_intent_onehot|\n",
      "+-----+----------+-------------+---------------------+-----------------+-----------------+----------+---------+-------------+-------------------+-------------------------+--------------------------+----------------+---------------------------+-----------------+-------------------------------+----------------------------+------------------+\n",
      "|58645|        23|        69000|                 RENT|              3.0|  HOMEIMPROVEMENT|         F|    25000|        15.76|               0.36|                        N|                         2|             5.0|                        0.0|              5.0|                            0.0|               (3,[0],[1.0])|         (5,[],[])|\n",
      "|58646|        26|        96000|             MORTGAGE|              6.0|         PERSONAL|         C|    10000|        12.68|                0.1|                        Y|                         4|             2.0|                        1.0|              2.0|                            1.0|               (3,[1],[1.0])|     (5,[2],[1.0])|\n",
      "|58647|        26|        30000|                 RENT|              5.0|          VENTURE|         E|     4000|        17.19|               0.13|                        Y|                         2|             4.0|                        0.0|              3.0|                            1.0|               (3,[0],[1.0])|     (5,[3],[1.0])|\n",
      "|58648|        33|        50000|                 RENT|              4.0|DEBTCONSOLIDATION|         A|     7000|          8.9|               0.14|                        N|                         7|             0.0|                        0.0|              4.0|                            0.0|               (3,[0],[1.0])|     (5,[4],[1.0])|\n",
      "|58649|        26|       102000|             MORTGAGE|              8.0|  HOMEIMPROVEMENT|         D|    15000|        16.32|               0.15|                        Y|                         4|             3.0|                        1.0|              5.0|                            1.0|               (3,[1],[1.0])|         (5,[],[])|\n",
      "|58650|        23|        66000|                 RENT|              5.0|        EDUCATION|         D|    22000|        14.09|               0.33|                        N|                         2|             3.0|                        0.0|              0.0|                            0.0|               (3,[0],[1.0])|     (5,[0],[1.0])|\n",
      "|58651|        26|        75000|                  OWN|             10.0|         PERSONAL|         B|     8000|        10.62|               0.11|                        N|                         4|             1.0|                        2.0|              2.0|                            0.0|               (3,[2],[1.0])|     (5,[2],[1.0])|\n",
      "|58652|        23|        55000|             MORTGAGE|              6.0|         PERSONAL|         A|     6250|         6.76|               0.12|                        N|                         2|             0.0|                        1.0|              2.0|                            0.0|               (3,[1],[1.0])|     (5,[2],[1.0])|\n",
      "|58653|        32|        29124|                 RENT|              0.0|         PERSONAL|         C|     7200|        13.11|               0.26|                        Y|                         6|             2.0|                        0.0|              2.0|                            1.0|               (3,[0],[1.0])|     (5,[2],[1.0])|\n",
      "|58654|        22|        90000|                 RENT|              4.0|DEBTCONSOLIDATION|         C|    10000|        13.49|               0.11|                        Y|                         3|             2.0|                        0.0|              4.0|                            1.0|               (3,[0],[1.0])|     (5,[4],[1.0])|\n",
      "|58655|        33|       115000|             MORTGAGE|              3.0|DEBTCONSOLIDATION|         C|    14400|        14.35|               0.12|                        N|                         6|             2.0|                        1.0|              4.0|                            0.0|               (3,[1],[1.0])|     (5,[4],[1.0])|\n",
      "|58656|        29|        40000|             MORTGAGE|              1.0|         PERSONAL|         C|     4000|        14.79|                0.1|                        N|                         7|             2.0|                        1.0|              2.0|                            0.0|               (3,[1],[1.0])|     (5,[2],[1.0])|\n",
      "|58657|        29|        54996|                 RENT|              2.0|          VENTURE|         C|    12000|        12.23|               0.22|                        Y|                         6|             2.0|                        0.0|              3.0|                            1.0|               (3,[0],[1.0])|     (5,[3],[1.0])|\n",
      "|58658|        25|        60000|             MORTGAGE|              3.0|  HOMEIMPROVEMENT|         A|     8000|         7.49|               0.13|                        N|                         3|             0.0|                        1.0|              5.0|                            0.0|               (3,[1],[1.0])|         (5,[],[])|\n",
      "|58659|        27|        60000|                 RENT|              4.0|          MEDICAL|         B|    11500|        11.48|               0.19|                        N|                         9|             1.0|                        0.0|              1.0|                            0.0|               (3,[0],[1.0])|     (5,[1],[1.0])|\n",
      "|58660|        27|        54996|                 RENT|              3.0|        EDUCATION|         B|    15250|        11.36|               0.28|                        N|                         8|             1.0|                        0.0|              0.0|                            0.0|               (3,[0],[1.0])|     (5,[0],[1.0])|\n",
      "|58661|        32|        84996|                 RENT|             12.0|        EDUCATION|         A|    12000|         6.91|               0.14|                        N|                         6|             0.0|                        0.0|              0.0|                            0.0|               (3,[0],[1.0])|     (5,[0],[1.0])|\n",
      "|58662|        21|        56004|                  OWN|              2.0|          VENTURE|         B|     6000|        11.86|               0.11|                        N|                         4|             1.0|                        2.0|              3.0|                            0.0|               (3,[2],[1.0])|     (5,[3],[1.0])|\n",
      "|58663|        38|        47000|                 RENT|              0.0|DEBTCONSOLIDATION|         A|     9000|         8.94|               0.19|                        N|                        11|             0.0|                        0.0|              4.0|                            0.0|               (3,[0],[1.0])|     (5,[4],[1.0])|\n",
      "|58664|        30|        42000|                  OWN|             14.0|        EDUCATION|         B|    10000|        10.59|               0.24|                        N|                         6|             1.0|                        2.0|              0.0|                            0.0|               (3,[2],[1.0])|     (5,[0],[1.0])|\n",
      "+-----+----------+-------------+---------------------+-----------------+-----------------+----------+---------+-------------+-------------------+-------------------------+--------------------------+----------------+---------------------------+-----------------+-------------------------------+----------------------------+------------------+\n",
      "only showing top 20 rows\n",
      "\n"
     ]
    }
   ],
   "source": [
    "df_submission=final_test.drop('id')\n",
    "df_submission_encoded = pipeline.fit(final_test).transform(final_test)\n",
    "\n",
    "# Mostrar o resultado\n",
    "df_submission_encoded.show()"
   ]
  },
  {
   "cell_type": "code",
   "execution_count": 26,
   "metadata": {},
   "outputs": [],
   "source": [
    "df_submission_encoded = df_submission_encoded.drop(\n",
    " 'person_home_ownership',\n",
    " 'loan_intent',\n",
    " 'loan_grade',\n",
    " 'cb_person_default_on_file',\n",
    " 'person_home_ownership_index',\n",
    " 'loan_intent_index')"
   ]
  },
  {
   "cell_type": "code",
   "execution_count": 27,
   "metadata": {},
   "outputs": [
    {
     "data": {
      "text/html": [
       "<div>\n",
       "<style scoped>\n",
       "    .dataframe tbody tr th:only-of-type {\n",
       "        vertical-align: middle;\n",
       "    }\n",
       "\n",
       "    .dataframe tbody tr th {\n",
       "        vertical-align: top;\n",
       "    }\n",
       "\n",
       "    .dataframe thead th {\n",
       "        text-align: right;\n",
       "    }\n",
       "</style>\n",
       "<table border=\"1\" class=\"dataframe\">\n",
       "  <thead>\n",
       "    <tr style=\"text-align: right;\">\n",
       "      <th></th>\n",
       "      <th>id</th>\n",
       "      <th>person_age</th>\n",
       "      <th>person_income</th>\n",
       "      <th>person_emp_length</th>\n",
       "      <th>loan_amnt</th>\n",
       "      <th>loan_int_rate</th>\n",
       "      <th>loan_percent_income</th>\n",
       "      <th>cb_person_cred_hist_length</th>\n",
       "      <th>loan_grade_index</th>\n",
       "      <th>cb_person_default_on_file_index</th>\n",
       "      <th>person_home_ownership_onehot</th>\n",
       "      <th>loan_intent_onehot</th>\n",
       "      <th>features</th>\n",
       "    </tr>\n",
       "  </thead>\n",
       "  <tbody>\n",
       "    <tr>\n",
       "      <th>0</th>\n",
       "      <td>58645</td>\n",
       "      <td>23</td>\n",
       "      <td>69000</td>\n",
       "      <td>3.0</td>\n",
       "      <td>25000</td>\n",
       "      <td>15.76</td>\n",
       "      <td>0.36</td>\n",
       "      <td>2</td>\n",
       "      <td>5.0</td>\n",
       "      <td>0.0</td>\n",
       "      <td>(1.0, 0.0, 0.0)</td>\n",
       "      <td>(0.0, 0.0, 0.0, 0.0, 0.0)</td>\n",
       "      <td>(58645.0, 23.0, 69000.0, 3.0, 25000.0, 15.76, ...</td>\n",
       "    </tr>\n",
       "    <tr>\n",
       "      <th>1</th>\n",
       "      <td>58646</td>\n",
       "      <td>26</td>\n",
       "      <td>96000</td>\n",
       "      <td>6.0</td>\n",
       "      <td>10000</td>\n",
       "      <td>12.68</td>\n",
       "      <td>0.10</td>\n",
       "      <td>4</td>\n",
       "      <td>2.0</td>\n",
       "      <td>1.0</td>\n",
       "      <td>(0.0, 1.0, 0.0)</td>\n",
       "      <td>(0.0, 0.0, 1.0, 0.0, 0.0)</td>\n",
       "      <td>[58646.0, 26.0, 96000.0, 6.0, 10000.0, 12.68, ...</td>\n",
       "    </tr>\n",
       "    <tr>\n",
       "      <th>2</th>\n",
       "      <td>58647</td>\n",
       "      <td>26</td>\n",
       "      <td>30000</td>\n",
       "      <td>5.0</td>\n",
       "      <td>4000</td>\n",
       "      <td>17.19</td>\n",
       "      <td>0.13</td>\n",
       "      <td>2</td>\n",
       "      <td>4.0</td>\n",
       "      <td>1.0</td>\n",
       "      <td>(1.0, 0.0, 0.0)</td>\n",
       "      <td>(0.0, 0.0, 0.0, 1.0, 0.0)</td>\n",
       "      <td>[58647.0, 26.0, 30000.0, 5.0, 4000.0, 17.19, 0...</td>\n",
       "    </tr>\n",
       "  </tbody>\n",
       "</table>\n",
       "</div>"
      ],
      "text/plain": [
       "      id  person_age  person_income  person_emp_length  loan_amnt  \\\n",
       "0  58645          23          69000                3.0      25000   \n",
       "1  58646          26          96000                6.0      10000   \n",
       "2  58647          26          30000                5.0       4000   \n",
       "\n",
       "   loan_int_rate  loan_percent_income  cb_person_cred_hist_length  \\\n",
       "0          15.76                 0.36                           2   \n",
       "1          12.68                 0.10                           4   \n",
       "2          17.19                 0.13                           2   \n",
       "\n",
       "   loan_grade_index  cb_person_default_on_file_index  \\\n",
       "0               5.0                              0.0   \n",
       "1               2.0                              1.0   \n",
       "2               4.0                              1.0   \n",
       "\n",
       "  person_home_ownership_onehot         loan_intent_onehot  \\\n",
       "0              (1.0, 0.0, 0.0)  (0.0, 0.0, 0.0, 0.0, 0.0)   \n",
       "1              (0.0, 1.0, 0.0)  (0.0, 0.0, 1.0, 0.0, 0.0)   \n",
       "2              (1.0, 0.0, 0.0)  (0.0, 0.0, 0.0, 1.0, 0.0)   \n",
       "\n",
       "                                            features  \n",
       "0  (58645.0, 23.0, 69000.0, 3.0, 25000.0, 15.76, ...  \n",
       "1  [58646.0, 26.0, 96000.0, 6.0, 10000.0, 12.68, ...  \n",
       "2  [58647.0, 26.0, 30000.0, 5.0, 4000.0, 17.19, 0...  "
      ]
     },
     "execution_count": 27,
     "metadata": {},
     "output_type": "execute_result"
    }
   ],
   "source": [
    "# Antes de modelar, todas as colunas são colocadas em único vetor\n",
    "feature_columns = df_submission_encoded.columns\n",
    "\n",
    "feature = VectorAssembler(inputCols = feature_columns,outputCol=\"features\")\n",
    "feature_vector=feature.transform(df_submission_encoded)\n",
    "feature_vector.limit(3).toPandas()"
   ]
  },
  {
   "cell_type": "markdown",
   "metadata": {},
   "source": [
    "# Kagle submission"
   ]
  },
  {
   "cell_type": "code",
   "execution_count": 28,
   "metadata": {},
   "outputs": [],
   "source": [
    "model_predictions= model_rf.transform(feature_vector.select('features'))"
   ]
  },
  {
   "cell_type": "code",
   "execution_count": 29,
   "metadata": {},
   "outputs": [],
   "source": [
    "submission = feature_vector.select('id', 'features').join(model_predictions, 'features').select('id', 'probability')"
   ]
  },
  {
   "cell_type": "code",
   "execution_count": 30,
   "metadata": {},
   "outputs": [
    {
     "name": "stdout",
     "output_type": "stream",
     "text": [
      "+-----+--------------------+\n",
      "|   id|         probability|\n",
      "+-----+--------------------+\n",
      "|58645|[0.73867055662870...|\n",
      "|58646|[0.27195435876761...|\n",
      "|58647|[0.39049311996057...|\n",
      "|58648|[0.71935816274075...|\n",
      "|58649|[0.34921675908098...|\n",
      "|58650|[0.65557294339025...|\n",
      "|58651|[0.63528719122963...|\n",
      "|58652|[0.68410761180946...|\n",
      "|58653|[0.32340115957086...|\n",
      "|58654|[0.35923010538493...|\n",
      "|58655|[0.71642473452175...|\n",
      "|58656|[0.68410761180946...|\n",
      "|58657|[0.33034617323206...|\n",
      "|58658|[0.68777506154895...|\n",
      "|58659|[0.73790135900483...|\n",
      "|58660|[0.61889465485729...|\n",
      "|58661|[0.58589517351087...|\n",
      "|58662|[0.55150463965219...|\n",
      "|58663|[0.71935816274075...|\n",
      "|58664|[0.58459812615144...|\n",
      "+-----+--------------------+\n",
      "only showing top 20 rows\n",
      "\n"
     ]
    }
   ],
   "source": [
    "submission.show()"
   ]
  },
  {
   "cell_type": "code",
   "execution_count": 31,
   "metadata": {},
   "outputs": [],
   "source": [
    "# Preparação do arquivo de submissão conforme orientado\n",
    "\n",
    "from pyspark.ml.functions import vector_to_array\n",
    "\n",
    "kaggle_submission = submission.withColumn(\"loan_status\", vector_to_array(\"probability\")[1]).drop('probability')\n"
   ]
  },
  {
   "cell_type": "code",
   "execution_count": 32,
   "metadata": {},
   "outputs": [
    {
     "name": "stdout",
     "output_type": "stream",
     "text": [
      "+-----+-------------------+\n",
      "|   id|        loan_status|\n",
      "+-----+-------------------+\n",
      "|58645| 0.2613294433712968|\n",
      "|58646| 0.7280456412323892|\n",
      "|58647| 0.6095068800394275|\n",
      "|58648| 0.2806418372592425|\n",
      "|58649| 0.6507832409190116|\n",
      "|58650|0.34442705660974804|\n",
      "|58651|0.36471280877036877|\n",
      "|58652|0.31589238819053506|\n",
      "|58653| 0.6765988404291327|\n",
      "|58654|  0.640769894615067|\n",
      "|58655|0.28357526547824774|\n",
      "|58656|0.31589238819053506|\n",
      "|58657| 0.6696538267679306|\n",
      "|58658| 0.3122249384510497|\n",
      "|58659|0.26209864099516755|\n",
      "|58660|0.38110534514270966|\n",
      "|58661| 0.4141048264891203|\n",
      "|58662| 0.4484953603478054|\n",
      "|58663| 0.2806418372592425|\n",
      "|58664| 0.4154018738485556|\n",
      "+-----+-------------------+\n",
      "only showing top 20 rows\n",
      "\n"
     ]
    }
   ],
   "source": [
    "kaggle_submission.show()"
   ]
  },
  {
   "cell_type": "code",
   "execution_count": 33,
   "metadata": {},
   "outputs": [],
   "source": [
    "kaggle_submission.toPandas().to_csv('submission_rf.csv', index=False)"
   ]
  },
  {
   "cell_type": "markdown",
   "metadata": {},
   "source": [
    "## Tentei diversos modelos mas não consegui uma precisão maior que 60%"
   ]
  },
  {
   "attachments": {
    "image.png": {
     "image/png": "[encoded data removed]"
    }
   },
   "cell_type": "markdown",
   "metadata": {},
   "source": [
    "![image.png](attachment:image.png)"
   ]
  }
 ],
 "metadata": {
  "kernelspec": {
   "display_name": ".venv",
   "language": "python",
   "name": "python3"
  },
  "language_info": {
   "codemirror_mode": {
    "name": "ipython",
    "version": 3
   },
   "file_extension": ".py",
   "mimetype": "text/x-python",
   "name": "python",
   "nbconvert_exporter": "python",
   "pygments_lexer": "ipython3",
   "version": "3.12.5"
  }
 },
 "nbformat": 4,
 "nbformat_minor": 2
}
