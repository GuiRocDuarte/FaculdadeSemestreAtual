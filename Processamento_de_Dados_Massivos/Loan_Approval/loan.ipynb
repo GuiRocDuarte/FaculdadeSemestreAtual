{
 "cells": [
  {
   "cell_type": "code",
   "execution_count": 30,
   "metadata": {},
   "outputs": [],
   "source": [
    "import os\n",
    "os.environ[\"JAVA_HOME\"] = \"C:\\\\jdk-22.0.2\"\n",
    "os.environ[\"SPARK_HOME\"] = \"C:\\\\spark-3.5.2-bin-hadoop3\\\\spark-3.5.2-bin-hadoop3\"\n",
    "os.environ[\"PYSPARK_DRIVER_PYTHON\"] = \"jupyter\"\n",
    "os.environ[\"PYSPARK_PYTHON\"] = \"python\""
   ]
  },
  {
   "cell_type": "code",
   "execution_count": 31,
   "metadata": {},
   "outputs": [],
   "source": [
    "from pyspark.sql import SparkSession\n",
    "from pyspark.sql.functions import isnan, when, count, col, lit, regexp_extract\n",
    "from pyspark.sql.types import IntegerType, DoubleType\n",
    "from pyspark.ml.classification import LogisticRegression\n",
    "from pyspark.ml.evaluation import BinaryClassificationEvaluator\n",
    "from pyspark.ml.tuning import ParamGridBuilder, TrainValidationSplit\n",
    "from pyspark.ml.evaluation import MulticlassClassificationEvaluator\n",
    "from pyspark.ml.feature import StringIndexer, VectorAssembler, OneHotEncoder\n",
    "from pyspark.ml import Pipeline\n",
    "from pyspark.mllib.evaluation import BinaryClassificationMetrics as metric\n",
    "from pyspark.ml.classification import RandomForestClassifier\n",
    "from pyspark.ml.classification import GBTClassifier\n",
    "from sklearn.metrics import roc_curve, auc\n",
    "import pandas as pd\n",
    "import numpy as np"
   ]
  },
  {
   "cell_type": "code",
   "execution_count": 32,
   "metadata": {},
   "outputs": [],
   "source": [
    "spark = SparkSession.builder.appName('Pyspark_Loan').getOrCreate()"
   ]
  },
  {
   "cell_type": "code",
   "execution_count": 33,
   "metadata": {},
   "outputs": [],
   "source": [
    "df = spark.read.csv('C:\\\\01-FaculdadeSemestreAtual\\\\Processamento_de_Dados_Massivos\\\\Loan_Approval\\\\train.csv',header = 'True',inferSchema='True')\n",
    "final_test = spark.read.csv('C:\\\\01-FaculdadeSemestreAtual\\\\Processamento_de_Dados_Massivos\\\\Loan_Approval\\\\test.csv',header = 'True',inferSchema='True')"
   ]
  },
  {
   "cell_type": "code",
   "execution_count": 34,
   "metadata": {},
   "outputs": [
    {
     "name": "stdout",
     "output_type": "stream",
     "text": [
      "+---+----------+-------------+---------------------+-----------------+-----------+----------+---------+-------------+-------------------+-------------------------+--------------------------+-----------+\n",
      "| id|person_age|person_income|person_home_ownership|person_emp_length|loan_intent|loan_grade|loan_amnt|loan_int_rate|loan_percent_income|cb_person_default_on_file|cb_person_cred_hist_length|loan_status|\n",
      "+---+----------+-------------+---------------------+-----------------+-----------+----------+---------+-------------+-------------------+-------------------------+--------------------------+-----------+\n",
      "|  0|        37|        35000|                 RENT|              0.0|  EDUCATION|         B|     6000|        11.49|               0.17|                        N|                        14|          0|\n",
      "|  1|        22|        56000|                  OWN|              6.0|    MEDICAL|         C|     4000|        13.35|               0.07|                        N|                         2|          0|\n",
      "|  2|        29|        28800|                  OWN|              8.0|   PERSONAL|         A|     6000|          8.9|               0.21|                        N|                        10|          0|\n",
      "|  3|        30|        70000|                 RENT|             14.0|    VENTURE|         B|    12000|        11.11|               0.17|                        N|                         5|          0|\n",
      "|  4|        22|        60000|                 RENT|              2.0|    MEDICAL|         A|     6000|         6.92|                0.1|                        N|                         3|          0|\n",
      "+---+----------+-------------+---------------------+-----------------+-----------+----------+---------+-------------+-------------------+-------------------------+--------------------------+-----------+\n",
      "only showing top 5 rows\n",
      "\n"
     ]
    }
   ],
   "source": [
    "df.show(5)"
   ]
  },
  {
   "cell_type": "code",
   "execution_count": 35,
   "metadata": {},
   "outputs": [
    {
     "data": {
      "text/plain": [
       "58645"
      ]
     },
     "execution_count": 35,
     "metadata": {},
     "output_type": "execute_result"
    }
   ],
   "source": [
    "df.count()"
   ]
  },
  {
   "cell_type": "code",
   "execution_count": 36,
   "metadata": {},
   "outputs": [
    {
     "name": "stdout",
     "output_type": "stream",
     "text": [
      "root\n",
      " |-- id: integer (nullable = true)\n",
      " |-- person_age: integer (nullable = true)\n",
      " |-- person_income: integer (nullable = true)\n",
      " |-- person_home_ownership: string (nullable = true)\n",
      " |-- person_emp_length: double (nullable = true)\n",
      " |-- loan_intent: string (nullable = true)\n",
      " |-- loan_grade: string (nullable = true)\n",
      " |-- loan_amnt: integer (nullable = true)\n",
      " |-- loan_int_rate: double (nullable = true)\n",
      " |-- loan_percent_income: double (nullable = true)\n",
      " |-- cb_person_default_on_file: string (nullable = true)\n",
      " |-- cb_person_cred_hist_length: integer (nullable = true)\n",
      " |-- loan_status: integer (nullable = true)\n",
      "\n"
     ]
    }
   ],
   "source": [
    "df.printSchema()"
   ]
  },
  {
   "cell_type": "code",
   "execution_count": 37,
   "metadata": {},
   "outputs": [
    {
     "name": "stdout",
     "output_type": "stream",
     "text": [
      "+---+----------+-------------+---------------------+-----------------+-----------+----------+---------+-------------+-------------------+-------------------------+--------------------------+-----------+\n",
      "| id|person_age|person_income|person_home_ownership|person_emp_length|loan_intent|loan_grade|loan_amnt|loan_int_rate|loan_percent_income|cb_person_default_on_file|cb_person_cred_hist_length|loan_status|\n",
      "+---+----------+-------------+---------------------+-----------------+-----------+----------+---------+-------------+-------------------+-------------------------+--------------------------+-----------+\n",
      "|  0|         0|            0|                    0|                0|          0|         0|        0|            0|                  0|                        0|                         0|          0|\n",
      "+---+----------+-------------+---------------------+-----------------+-----------+----------+---------+-------------+-------------------+-------------------------+--------------------------+-----------+\n",
      "\n"
     ]
    }
   ],
   "source": [
    "df.select([count(when(col(c).isNull(), c)).alias(c) for c in df.columns]).show()"
   ]
  },
  {
   "cell_type": "code",
   "execution_count": 38,
   "metadata": {},
   "outputs": [
    {
     "data": {
      "text/html": [
       "<div>\n",
       "<style scoped>\n",
       "    .dataframe tbody tr th:only-of-type {\n",
       "        vertical-align: middle;\n",
       "    }\n",
       "\n",
       "    .dataframe tbody tr th {\n",
       "        vertical-align: top;\n",
       "    }\n",
       "\n",
       "    .dataframe thead th {\n",
       "        text-align: right;\n",
       "    }\n",
       "</style>\n",
       "<table border=\"1\" class=\"dataframe\">\n",
       "  <thead>\n",
       "    <tr style=\"text-align: right;\">\n",
       "      <th></th>\n",
       "      <th>id</th>\n",
       "      <th>person_age</th>\n",
       "      <th>person_income</th>\n",
       "      <th>person_home_ownership</th>\n",
       "      <th>person_emp_length</th>\n",
       "      <th>loan_intent</th>\n",
       "      <th>loan_grade</th>\n",
       "      <th>loan_amnt</th>\n",
       "      <th>loan_int_rate</th>\n",
       "      <th>loan_percent_income</th>\n",
       "      <th>cb_person_default_on_file</th>\n",
       "      <th>cb_person_cred_hist_length</th>\n",
       "      <th>loan_status</th>\n",
       "    </tr>\n",
       "  </thead>\n",
       "  <tbody>\n",
       "    <tr>\n",
       "      <th>30</th>\n",
       "      <td>30</td>\n",
       "      <td>30</td>\n",
       "      <td>48000</td>\n",
       "      <td>RENT</td>\n",
       "      <td>12.0</td>\n",
       "      <td>EDUCATION</td>\n",
       "      <td>B</td>\n",
       "      <td>2000</td>\n",
       "      <td>9.62</td>\n",
       "      <td>0.04</td>\n",
       "      <td>N</td>\n",
       "      <td>8</td>\n",
       "      <td>0</td>\n",
       "    </tr>\n",
       "    <tr>\n",
       "      <th>57</th>\n",
       "      <td>57</td>\n",
       "      <td>37</td>\n",
       "      <td>60000</td>\n",
       "      <td>MORTGAGE</td>\n",
       "      <td>11.0</td>\n",
       "      <td>VENTURE</td>\n",
       "      <td>A</td>\n",
       "      <td>2000</td>\n",
       "      <td>7.66</td>\n",
       "      <td>0.03</td>\n",
       "      <td>N</td>\n",
       "      <td>17</td>\n",
       "      <td>0</td>\n",
       "    </tr>\n",
       "    <tr>\n",
       "      <th>68</th>\n",
       "      <td>68</td>\n",
       "      <td>31</td>\n",
       "      <td>62900</td>\n",
       "      <td>MORTGAGE</td>\n",
       "      <td>2.0</td>\n",
       "      <td>MEDICAL</td>\n",
       "      <td>D</td>\n",
       "      <td>18000</td>\n",
       "      <td>14.09</td>\n",
       "      <td>0.24</td>\n",
       "      <td>N</td>\n",
       "      <td>5</td>\n",
       "      <td>1</td>\n",
       "    </tr>\n",
       "    <tr>\n",
       "      <th>63</th>\n",
       "      <td>63</td>\n",
       "      <td>22</td>\n",
       "      <td>50000</td>\n",
       "      <td>RENT</td>\n",
       "      <td>5.0</td>\n",
       "      <td>PERSONAL</td>\n",
       "      <td>C</td>\n",
       "      <td>4200</td>\n",
       "      <td>15.23</td>\n",
       "      <td>0.08</td>\n",
       "      <td>Y</td>\n",
       "      <td>2</td>\n",
       "      <td>0</td>\n",
       "    </tr>\n",
       "    <tr>\n",
       "      <th>65</th>\n",
       "      <td>65</td>\n",
       "      <td>25</td>\n",
       "      <td>90000</td>\n",
       "      <td>MORTGAGE</td>\n",
       "      <td>2.0</td>\n",
       "      <td>VENTURE</td>\n",
       "      <td>A</td>\n",
       "      <td>15000</td>\n",
       "      <td>9.38</td>\n",
       "      <td>0.17</td>\n",
       "      <td>N</td>\n",
       "      <td>4</td>\n",
       "      <td>0</td>\n",
       "    </tr>\n",
       "    <tr>\n",
       "      <th>94</th>\n",
       "      <td>94</td>\n",
       "      <td>22</td>\n",
       "      <td>33000</td>\n",
       "      <td>RENT</td>\n",
       "      <td>4.0</td>\n",
       "      <td>PERSONAL</td>\n",
       "      <td>B</td>\n",
       "      <td>9800</td>\n",
       "      <td>10.62</td>\n",
       "      <td>0.28</td>\n",
       "      <td>N</td>\n",
       "      <td>4</td>\n",
       "      <td>0</td>\n",
       "    </tr>\n",
       "    <tr>\n",
       "      <th>38</th>\n",
       "      <td>38</td>\n",
       "      <td>30</td>\n",
       "      <td>54000</td>\n",
       "      <td>RENT</td>\n",
       "      <td>0.0</td>\n",
       "      <td>MEDICAL</td>\n",
       "      <td>B</td>\n",
       "      <td>12500</td>\n",
       "      <td>11.71</td>\n",
       "      <td>0.24</td>\n",
       "      <td>N</td>\n",
       "      <td>10</td>\n",
       "      <td>1</td>\n",
       "    </tr>\n",
       "    <tr>\n",
       "      <th>52</th>\n",
       "      <td>52</td>\n",
       "      <td>27</td>\n",
       "      <td>70000</td>\n",
       "      <td>RENT</td>\n",
       "      <td>9.0</td>\n",
       "      <td>EDUCATION</td>\n",
       "      <td>A</td>\n",
       "      <td>20000</td>\n",
       "      <td>6.54</td>\n",
       "      <td>0.29</td>\n",
       "      <td>N</td>\n",
       "      <td>9</td>\n",
       "      <td>0</td>\n",
       "    </tr>\n",
       "    <tr>\n",
       "      <th>82</th>\n",
       "      <td>82</td>\n",
       "      <td>24</td>\n",
       "      <td>75000</td>\n",
       "      <td>RENT</td>\n",
       "      <td>3.0</td>\n",
       "      <td>PERSONAL</td>\n",
       "      <td>B</td>\n",
       "      <td>15000</td>\n",
       "      <td>11.49</td>\n",
       "      <td>0.20</td>\n",
       "      <td>N</td>\n",
       "      <td>2</td>\n",
       "      <td>0</td>\n",
       "    </tr>\n",
       "    <tr>\n",
       "      <th>17</th>\n",
       "      <td>17</td>\n",
       "      <td>29</td>\n",
       "      <td>60000</td>\n",
       "      <td>OWN</td>\n",
       "      <td>13.0</td>\n",
       "      <td>MEDICAL</td>\n",
       "      <td>A</td>\n",
       "      <td>15000</td>\n",
       "      <td>6.62</td>\n",
       "      <td>0.25</td>\n",
       "      <td>N</td>\n",
       "      <td>9</td>\n",
       "      <td>0</td>\n",
       "    </tr>\n",
       "  </tbody>\n",
       "</table>\n",
       "</div>"
      ],
      "text/plain": [
       "    id  person_age  person_income person_home_ownership  person_emp_length  \\\n",
       "30  30          30          48000                  RENT               12.0   \n",
       "57  57          37          60000              MORTGAGE               11.0   \n",
       "68  68          31          62900              MORTGAGE                2.0   \n",
       "63  63          22          50000                  RENT                5.0   \n",
       "65  65          25          90000              MORTGAGE                2.0   \n",
       "94  94          22          33000                  RENT                4.0   \n",
       "38  38          30          54000                  RENT                0.0   \n",
       "52  52          27          70000                  RENT                9.0   \n",
       "82  82          24          75000                  RENT                3.0   \n",
       "17  17          29          60000                   OWN               13.0   \n",
       "\n",
       "   loan_intent loan_grade  loan_amnt  loan_int_rate  loan_percent_income  \\\n",
       "30   EDUCATION          B       2000           9.62                 0.04   \n",
       "57     VENTURE          A       2000           7.66                 0.03   \n",
       "68     MEDICAL          D      18000          14.09                 0.24   \n",
       "63    PERSONAL          C       4200          15.23                 0.08   \n",
       "65     VENTURE          A      15000           9.38                 0.17   \n",
       "94    PERSONAL          B       9800          10.62                 0.28   \n",
       "38     MEDICAL          B      12500          11.71                 0.24   \n",
       "52   EDUCATION          A      20000           6.54                 0.29   \n",
       "82    PERSONAL          B      15000          11.49                 0.20   \n",
       "17     MEDICAL          A      15000           6.62                 0.25   \n",
       "\n",
       "   cb_person_default_on_file  cb_person_cred_hist_length  loan_status  \n",
       "30                         N                           8            0  \n",
       "57                         N                          17            0  \n",
       "68                         N                           5            1  \n",
       "63                         Y                           2            0  \n",
       "65                         N                           4            0  \n",
       "94                         N                           4            0  \n",
       "38                         N                          10            1  \n",
       "52                         N                           9            0  \n",
       "82                         N                           2            0  \n",
       "17                         N                           9            0  "
      ]
     },
     "execution_count": 38,
     "metadata": {},
     "output_type": "execute_result"
    }
   ],
   "source": [
    "df.limit(100).toPandas().sample(10)"
   ]
  },
  {
   "cell_type": "code",
   "execution_count": 39,
   "metadata": {},
   "outputs": [
    {
     "name": "stdout",
     "output_type": "stream",
     "text": [
      "+-----------------+-----+\n",
      "|      loan_intent|count|\n",
      "+-----------------+-----+\n",
      "|DEBTCONSOLIDATION| 9133|\n",
      "|          VENTURE|10011|\n",
      "|         PERSONAL|10016|\n",
      "|        EDUCATION|12271|\n",
      "|  HOMEIMPROVEMENT| 6280|\n",
      "|          MEDICAL|10934|\n",
      "+-----------------+-----+\n",
      "\n"
     ]
    }
   ],
   "source": [
    "df.groupby('loan_intent').count().show()"
   ]
  },
  {
   "cell_type": "code",
   "execution_count": 40,
   "metadata": {},
   "outputs": [
    {
     "name": "stdout",
     "output_type": "stream",
     "text": [
      "+----------+-----+\n",
      "|loan_grade|count|\n",
      "+----------+-----+\n",
      "|         F|  149|\n",
      "|         E| 1009|\n",
      "|         B|20400|\n",
      "|         D| 5034|\n",
      "|         C|11036|\n",
      "|         A|20984|\n",
      "|         G|   33|\n",
      "+----------+-----+\n",
      "\n"
     ]
    }
   ],
   "source": [
    "df.groupby('loan_grade').count().show()"
   ]
  },
  {
   "cell_type": "code",
   "execution_count": 41,
   "metadata": {},
   "outputs": [
    {
     "name": "stdout",
     "output_type": "stream",
     "text": [
      "+-----------+-----+\n",
      "|loan_status|count|\n",
      "+-----------+-----+\n",
      "|          1| 8350|\n",
      "|          0|50295|\n",
      "+-----------+-----+\n",
      "\n"
     ]
    }
   ],
   "source": [
    "df.groupBy('loan_status').count().show()"
   ]
  },
  {
   "cell_type": "code",
   "execution_count": 42,
   "metadata": {},
   "outputs": [
    {
     "name": "stdout",
     "output_type": "stream",
     "text": [
      "+---+----------+-------------+---------------------+-----------------+-----------------+----------+---------+-------------+-------------------+-------------------------+--------------------------+-----------+----------------+---------------------------+-----------------+-------------------------------+----------------------------+------------------+\n",
      "| id|person_age|person_income|person_home_ownership|person_emp_length|      loan_intent|loan_grade|loan_amnt|loan_int_rate|loan_percent_income|cb_person_default_on_file|cb_person_cred_hist_length|loan_status|loan_grade_index|person_home_ownership_index|loan_intent_index|cb_person_default_on_file_index|person_home_ownership_onehot|loan_intent_onehot|\n",
      "+---+----------+-------------+---------------------+-----------------+-----------------+----------+---------+-------------+-------------------+-------------------------+--------------------------+-----------+----------------+---------------------------+-----------------+-------------------------------+----------------------------+------------------+\n",
      "|  0|        37|        35000|                 RENT|              0.0|        EDUCATION|         B|     6000|        11.49|               0.17|                        N|                        14|          0|             1.0|                        0.0|              0.0|                            0.0|               (3,[0],[1.0])|     (5,[0],[1.0])|\n",
      "|  1|        22|        56000|                  OWN|              6.0|          MEDICAL|         C|     4000|        13.35|               0.07|                        N|                         2|          0|             2.0|                        2.0|              1.0|                            0.0|               (3,[2],[1.0])|     (5,[1],[1.0])|\n",
      "|  2|        29|        28800|                  OWN|              8.0|         PERSONAL|         A|     6000|          8.9|               0.21|                        N|                        10|          0|             0.0|                        2.0|              2.0|                            0.0|               (3,[2],[1.0])|     (5,[2],[1.0])|\n",
      "|  3|        30|        70000|                 RENT|             14.0|          VENTURE|         B|    12000|        11.11|               0.17|                        N|                         5|          0|             1.0|                        0.0|              3.0|                            0.0|               (3,[0],[1.0])|     (5,[3],[1.0])|\n",
      "|  4|        22|        60000|                 RENT|              2.0|          MEDICAL|         A|     6000|         6.92|                0.1|                        N|                         3|          0|             0.0|                        0.0|              1.0|                            0.0|               (3,[0],[1.0])|     (5,[1],[1.0])|\n",
      "|  5|        27|        45000|                 RENT|              2.0|          VENTURE|         A|     9000|         8.94|                0.2|                        N|                         5|          0|             0.0|                        0.0|              3.0|                            0.0|               (3,[0],[1.0])|     (5,[3],[1.0])|\n",
      "|  6|        25|        45000|             MORTGAGE|              9.0|        EDUCATION|         A|    12000|         6.54|               0.27|                        N|                         3|          0|             0.0|                        1.0|              0.0|                            0.0|               (3,[1],[1.0])|     (5,[0],[1.0])|\n",
      "|  7|        21|        20000|                 RENT|              0.0|         PERSONAL|         C|     2500|        13.49|               0.13|                        Y|                         3|          0|             2.0|                        0.0|              2.0|                            1.0|               (3,[0],[1.0])|     (5,[2],[1.0])|\n",
      "|  8|        37|        69600|                 RENT|             11.0|        EDUCATION|         D|     5000|        14.84|               0.07|                        Y|                        11|          0|             3.0|                        0.0|              0.0|                            1.0|               (3,[0],[1.0])|     (5,[0],[1.0])|\n",
      "|  9|        35|       110000|             MORTGAGE|              0.0|DEBTCONSOLIDATION|         C|    15000|        12.98|               0.14|                        Y|                         6|          0|             2.0|                        1.0|              4.0|                            1.0|               (3,[1],[1.0])|     (5,[4],[1.0])|\n",
      "| 10|        30|        78000|             MORTGAGE|              5.0|          VENTURE|         B|    12800|        10.59|               0.17|                        N|                         5|          0|             1.0|                        1.0|              3.0|                            0.0|               (3,[1],[1.0])|     (5,[3],[1.0])|\n",
      "| 11|        22|        33000|                 RENT|              6.0|         PERSONAL|         B|    10000|        11.12|                0.3|                        N|                         2|          1|             1.0|                        0.0|              2.0|                            0.0|               (3,[0],[1.0])|     (5,[2],[1.0])|\n",
      "| 12|        25|        33000|             MORTGAGE|              1.0|        EDUCATION|         B|     4000|        10.75|               0.12|                        N|                         3|          0|             1.0|                        1.0|              0.0|                            0.0|               (3,[1],[1.0])|     (5,[0],[1.0])|\n",
      "| 13|        31|        70000|             MORTGAGE|              2.0|DEBTCONSOLIDATION|         B|    16000|        11.14|               0.23|                        N|                         9|          0|             1.0|                        1.0|              4.0|                            0.0|               (3,[1],[1.0])|     (5,[4],[1.0])|\n",
      "| 14|        27|       100000|                 RENT|              1.0|  HOMEIMPROVEMENT|         C|     5000|        13.57|               0.05|                        Y|                         7|          0|             2.0|                        0.0|              5.0|                            1.0|               (3,[0],[1.0])|         (5,[],[])|\n",
      "| 15|        29|        33000|                  OWN|              8.0|          MEDICAL|         A|     7300|          8.9|               0.23|                        N|                         8|          0|             0.0|                        2.0|              1.0|                            0.0|               (3,[2],[1.0])|     (5,[1],[1.0])|\n",
      "| 16|        26|        80000|                 RENT|              2.0|  HOMEIMPROVEMENT|         D|    17000|        14.11|               0.21|                        Y|                         3|          0|             3.0|                        0.0|              5.0|                            1.0|               (3,[0],[1.0])|         (5,[],[])|\n",
      "| 17|        29|        60000|                  OWN|             13.0|          MEDICAL|         A|    15000|         6.62|               0.25|                        N|                         9|          0|             0.0|                        2.0|              1.0|                            0.0|               (3,[2],[1.0])|     (5,[1],[1.0])|\n",
      "| 18|        22|        84000|             MORTGAGE|              6.0|DEBTCONSOLIDATION|         B|     5950|        11.12|               0.07|                        N|                         4|          0|             1.0|                        1.0|              4.0|                            0.0|               (3,[1],[1.0])|     (5,[4],[1.0])|\n",
      "| 19|        27|        65000|             MORTGAGE|              3.0|DEBTCONSOLIDATION|         C|     4800|        12.73|               0.07|                        Y|                         8|          0|             2.0|                        1.0|              4.0|                            1.0|               (3,[1],[1.0])|     (5,[4],[1.0])|\n",
      "+---+----------+-------------+---------------------+-----------------+-----------------+----------+---------+-------------+-------------------+-------------------------+--------------------------+-----------+----------------+---------------------------+-----------------+-------------------------------+----------------------------+------------------+\n",
      "only showing top 20 rows\n",
      "\n"
     ]
    }
   ],
   "source": [
    "# Definir as colunas categóricas se deseja codificar\n",
    "categorical_columns = [\"loan_grade\", \"person_home_ownership\", \"loan_intent\", 'cb_person_default_on_file']\n",
    "\n",
    "# Criar os indexadores\n",
    "indexers = [StringIndexer(inputCol=column, outputCol=column + \"_index\") for column in categorical_columns]\n",
    "\n",
    "# Criar os OneHotEncoders\n",
    "encoders = [OneHotEncoder(inputCol=column + \"_index\", outputCol=column + \"_onehot\") for column in [\"person_home_ownership\", \"loan_intent\"]]\n",
    "\n",
    "# Criar um pipeline que aplica primeiro os indexadores e depois os encoders\n",
    "pipeline = Pipeline(stages=indexers + encoders)\n",
    "\n",
    "# Ajustar e transformar o DataFrame com o pipeline\n",
    "df_encoded = pipeline.fit(df).transform(df)\n",
    "\n",
    "# Mostrar o resultado\n",
    "df_encoded.show()\n"
   ]
  },
  {
   "cell_type": "code",
   "execution_count": 43,
   "metadata": {},
   "outputs": [
    {
     "data": {
      "text/html": [
       "<div>\n",
       "<style scoped>\n",
       "    .dataframe tbody tr th:only-of-type {\n",
       "        vertical-align: middle;\n",
       "    }\n",
       "\n",
       "    .dataframe tbody tr th {\n",
       "        vertical-align: top;\n",
       "    }\n",
       "\n",
       "    .dataframe thead th {\n",
       "        text-align: right;\n",
       "    }\n",
       "</style>\n",
       "<table border=\"1\" class=\"dataframe\">\n",
       "  <thead>\n",
       "    <tr style=\"text-align: right;\">\n",
       "      <th></th>\n",
       "      <th>person_age</th>\n",
       "      <th>person_income</th>\n",
       "      <th>person_emp_length</th>\n",
       "      <th>loan_amnt</th>\n",
       "      <th>loan_int_rate</th>\n",
       "      <th>loan_percent_income</th>\n",
       "      <th>cb_person_cred_hist_length</th>\n",
       "      <th>loan_status</th>\n",
       "      <th>loan_grade_index</th>\n",
       "      <th>cb_person_default_on_file_index</th>\n",
       "      <th>person_home_ownership_onehot</th>\n",
       "      <th>loan_intent_onehot</th>\n",
       "      <th>features</th>\n",
       "    </tr>\n",
       "  </thead>\n",
       "  <tbody>\n",
       "    <tr>\n",
       "      <th>0</th>\n",
       "      <td>37</td>\n",
       "      <td>35000</td>\n",
       "      <td>0.0</td>\n",
       "      <td>6000</td>\n",
       "      <td>11.49</td>\n",
       "      <td>0.17</td>\n",
       "      <td>14</td>\n",
       "      <td>0</td>\n",
       "      <td>1.0</td>\n",
       "      <td>0.0</td>\n",
       "      <td>(1.0, 0.0, 0.0)</td>\n",
       "      <td>(1.0, 0.0, 0.0, 0.0, 0.0)</td>\n",
       "      <td>(35000.0, 0.0, 6000.0, 11.49, 0.17, 14.0, 0.0,...</td>\n",
       "    </tr>\n",
       "    <tr>\n",
       "      <th>1</th>\n",
       "      <td>22</td>\n",
       "      <td>56000</td>\n",
       "      <td>6.0</td>\n",
       "      <td>4000</td>\n",
       "      <td>13.35</td>\n",
       "      <td>0.07</td>\n",
       "      <td>2</td>\n",
       "      <td>0</td>\n",
       "      <td>2.0</td>\n",
       "      <td>0.0</td>\n",
       "      <td>(0.0, 0.0, 1.0)</td>\n",
       "      <td>(0.0, 1.0, 0.0, 0.0, 0.0)</td>\n",
       "      <td>(56000.0, 6.0, 4000.0, 13.35, 0.07, 2.0, 0.0, ...</td>\n",
       "    </tr>\n",
       "    <tr>\n",
       "      <th>2</th>\n",
       "      <td>29</td>\n",
       "      <td>28800</td>\n",
       "      <td>8.0</td>\n",
       "      <td>6000</td>\n",
       "      <td>8.90</td>\n",
       "      <td>0.21</td>\n",
       "      <td>10</td>\n",
       "      <td>0</td>\n",
       "      <td>0.0</td>\n",
       "      <td>0.0</td>\n",
       "      <td>(0.0, 0.0, 1.0)</td>\n",
       "      <td>(0.0, 0.0, 1.0, 0.0, 0.0)</td>\n",
       "      <td>(28800.0, 8.0, 6000.0, 8.9, 0.21, 10.0, 0.0, 0...</td>\n",
       "    </tr>\n",
       "  </tbody>\n",
       "</table>\n",
       "</div>"
      ],
      "text/plain": [
       "   person_age  person_income  person_emp_length  loan_amnt  loan_int_rate  \\\n",
       "0          37          35000                0.0       6000          11.49   \n",
       "1          22          56000                6.0       4000          13.35   \n",
       "2          29          28800                8.0       6000           8.90   \n",
       "\n",
       "   loan_percent_income  cb_person_cred_hist_length  loan_status  \\\n",
       "0                 0.17                          14            0   \n",
       "1                 0.07                           2            0   \n",
       "2                 0.21                          10            0   \n",
       "\n",
       "   loan_grade_index  cb_person_default_on_file_index  \\\n",
       "0               1.0                              0.0   \n",
       "1               2.0                              0.0   \n",
       "2               0.0                              0.0   \n",
       "\n",
       "  person_home_ownership_onehot         loan_intent_onehot  \\\n",
       "0              (1.0, 0.0, 0.0)  (1.0, 0.0, 0.0, 0.0, 0.0)   \n",
       "1              (0.0, 0.0, 1.0)  (0.0, 1.0, 0.0, 0.0, 0.0)   \n",
       "2              (0.0, 0.0, 1.0)  (0.0, 0.0, 1.0, 0.0, 0.0)   \n",
       "\n",
       "                                            features  \n",
       "0  (35000.0, 0.0, 6000.0, 11.49, 0.17, 14.0, 0.0,...  \n",
       "1  (56000.0, 6.0, 4000.0, 13.35, 0.07, 2.0, 0.0, ...  \n",
       "2  (28800.0, 8.0, 6000.0, 8.9, 0.21, 10.0, 0.0, 0...  "
      ]
     },
     "execution_count": 43,
     "metadata": {},
     "output_type": "execute_result"
    }
   ],
   "source": [
    "# Agora, são elimindas as colunas que não são úteis\n",
    "df_encoded = df_encoded.drop(\"id\",\"person_home_ownership\",\"loan_intent\",\"loan_grade\",\"cb_person_default_on_file\", 'person_home_ownership_index', 'loan_intent_index')\n",
    "\n",
    "# Antes de modelar, todas as colunas são colocadas em único vetor\n",
    "feature = VectorAssembler(inputCols = df_encoded.columns[1:],outputCol=\"features\")\n",
    "feature_vector=feature.transform(df_encoded)\n",
    "feature_vector.limit(3).toPandas()"
   ]
  },
  {
   "cell_type": "code",
   "execution_count": 44,
   "metadata": {},
   "outputs": [],
   "source": [
    "# Seleciona as colunas usadas no treinamento\n",
    "loan_df = feature_vector.select(['features','loan_status'])\n",
    "# Split the dataset to train_df and test_df\n",
    "train_df,test_df = loan_df.randomSplit([0.7,0.3])"
   ]
  },
  {
   "cell_type": "code",
   "execution_count": 45,
   "metadata": {},
   "outputs": [
    {
     "name": "stdout",
     "output_type": "stream",
     "text": [
      "+-----------+-----+\n",
      "|loan_status|count|\n",
      "+-----------+-----+\n",
      "|          1| 8350|\n",
      "|          0|50295|\n",
      "+-----------+-----+\n",
      "\n"
     ]
    }
   ],
   "source": [
    "loan_df.groupBy('loan_status').count().show()"
   ]
  },
  {
   "cell_type": "code",
   "execution_count": 46,
   "metadata": {},
   "outputs": [
    {
     "name": "stdout",
     "output_type": "stream",
     "text": [
      "+-----------+-----+\n",
      "|loan_status|count|\n",
      "+-----------+-----+\n",
      "|          1| 2505|\n",
      "|          0|15091|\n",
      "+-----------+-----+\n",
      "\n"
     ]
    }
   ],
   "source": [
    "test_df.groupBy('loan_status').count().show()"
   ]
  },
  {
   "cell_type": "code",
   "execution_count": 47,
   "metadata": {},
   "outputs": [
    {
     "name": "stdout",
     "output_type": "stream",
     "text": [
      "+-----------+-----+\n",
      "|loan_status|count|\n",
      "+-----------+-----+\n",
      "|          1| 5845|\n",
      "|          0|35204|\n",
      "+-----------+-----+\n",
      "\n"
     ]
    }
   ],
   "source": [
    "train_df.groupBy('loan_status').count().show()"
   ]
  },
  {
   "cell_type": "code",
   "execution_count": 48,
   "metadata": {},
   "outputs": [
    {
     "name": "stdout",
     "output_type": "stream",
     "text": [
      "Accuracy:  1.0\n",
      "Precision:  1.0\n",
      "Recall:  1.0\n",
      "F1-Score:  1.0\n"
     ]
    }
   ],
   "source": [
    "lr = LogisticRegression(labelCol=\"loan_status\")\n",
    "\n",
    "model = lr.fit(train_df)\n",
    "model_predictions= model.transform(test_df)\n",
    "\n",
    "print('Accuracy: ', MulticlassClassificationEvaluator(labelCol='loan_status',metricName='accuracy').evaluate(model_predictions))\n",
    "print('Precision: ', MulticlassClassificationEvaluator(labelCol='loan_status',metricName='weightedPrecision').evaluate(model_predictions))\n",
    "print('Recall: ', MulticlassClassificationEvaluator(labelCol='loan_status', metricName='weightedRecall').evaluate(model_predictions))\n",
    "print('F1-Score: ', MulticlassClassificationEvaluator(labelCol='loan_status', metricName='f1').evaluate(model_predictions))"
   ]
  },
  {
   "cell_type": "code",
   "execution_count": 49,
   "metadata": {},
   "outputs": [
    {
     "name": "stdout",
     "output_type": "stream",
     "text": [
      "Accuracy:  1.0\n",
      "Precision:  1.0\n",
      "Recall:  1.0\n",
      "F1-Score:  1.0\n"
     ]
    }
   ],
   "source": [
    "rf = RandomForestClassifier(labelCol='loan_status')\n",
    "\n",
    "model = rf.fit(train_df)\n",
    "model_predictions= model.transform(test_df)\n",
    "\n",
    "\n",
    "print('Accuracy: ', MulticlassClassificationEvaluator(labelCol='loan_status',metricName='accuracy').evaluate(model_predictions))\n",
    "print('Precision: ', MulticlassClassificationEvaluator(labelCol='loan_status',metricName='weightedPrecision').evaluate(model_predictions))\n",
    "print('Recall: ', MulticlassClassificationEvaluator(labelCol='loan_status', metricName='weightedRecall').evaluate(model_predictions))\n",
    "print('F1-Score: ', MulticlassClassificationEvaluator(labelCol='loan_status', metricName='f1').evaluate(model_predictions))"
   ]
  },
  {
   "cell_type": "code",
   "execution_count": 50,
   "metadata": {},
   "outputs": [
    {
     "name": "stdout",
     "output_type": "stream",
     "text": [
      "+-----+----------+-------------+---------------------+-----------------+-----------------+----------+---------+-------------+-------------------+-------------------------+--------------------------+\n",
      "|   id|person_age|person_income|person_home_ownership|person_emp_length|      loan_intent|loan_grade|loan_amnt|loan_int_rate|loan_percent_income|cb_person_default_on_file|cb_person_cred_hist_length|\n",
      "+-----+----------+-------------+---------------------+-----------------+-----------------+----------+---------+-------------+-------------------+-------------------------+--------------------------+\n",
      "|58645|        23|        69000|                 RENT|              3.0|  HOMEIMPROVEMENT|         F|    25000|        15.76|               0.36|                        N|                         2|\n",
      "|58646|        26|        96000|             MORTGAGE|              6.0|         PERSONAL|         C|    10000|        12.68|                0.1|                        Y|                         4|\n",
      "|58647|        26|        30000|                 RENT|              5.0|          VENTURE|         E|     4000|        17.19|               0.13|                        Y|                         2|\n",
      "|58648|        33|        50000|                 RENT|              4.0|DEBTCONSOLIDATION|         A|     7000|          8.9|               0.14|                        N|                         7|\n",
      "|58649|        26|       102000|             MORTGAGE|              8.0|  HOMEIMPROVEMENT|         D|    15000|        16.32|               0.15|                        Y|                         4|\n",
      "|58650|        23|        66000|                 RENT|              5.0|        EDUCATION|         D|    22000|        14.09|               0.33|                        N|                         2|\n",
      "|58651|        26|        75000|                  OWN|             10.0|         PERSONAL|         B|     8000|        10.62|               0.11|                        N|                         4|\n",
      "|58652|        23|        55000|             MORTGAGE|              6.0|         PERSONAL|         A|     6250|         6.76|               0.12|                        N|                         2|\n",
      "|58653|        32|        29124|                 RENT|              0.0|         PERSONAL|         C|     7200|        13.11|               0.26|                        Y|                         6|\n",
      "|58654|        22|        90000|                 RENT|              4.0|DEBTCONSOLIDATION|         C|    10000|        13.49|               0.11|                        Y|                         3|\n",
      "|58655|        33|       115000|             MORTGAGE|              3.0|DEBTCONSOLIDATION|         C|    14400|        14.35|               0.12|                        N|                         6|\n",
      "|58656|        29|        40000|             MORTGAGE|              1.0|         PERSONAL|         C|     4000|        14.79|                0.1|                        N|                         7|\n",
      "|58657|        29|        54996|                 RENT|              2.0|          VENTURE|         C|    12000|        12.23|               0.22|                        Y|                         6|\n",
      "|58658|        25|        60000|             MORTGAGE|              3.0|  HOMEIMPROVEMENT|         A|     8000|         7.49|               0.13|                        N|                         3|\n",
      "|58659|        27|        60000|                 RENT|              4.0|          MEDICAL|         B|    11500|        11.48|               0.19|                        N|                         9|\n",
      "|58660|        27|        54996|                 RENT|              3.0|        EDUCATION|         B|    15250|        11.36|               0.28|                        N|                         8|\n",
      "|58661|        32|        84996|                 RENT|             12.0|        EDUCATION|         A|    12000|         6.91|               0.14|                        N|                         6|\n",
      "|58662|        21|        56004|                  OWN|              2.0|          VENTURE|         B|     6000|        11.86|               0.11|                        N|                         4|\n",
      "|58663|        38|        47000|                 RENT|              0.0|DEBTCONSOLIDATION|         A|     9000|         8.94|               0.19|                        N|                        11|\n",
      "|58664|        30|        42000|                  OWN|             14.0|        EDUCATION|         B|    10000|        10.59|               0.24|                        N|                         6|\n",
      "+-----+----------+-------------+---------------------+-----------------+-----------------+----------+---------+-------------+-------------------+-------------------------+--------------------------+\n",
      "only showing top 20 rows\n",
      "\n"
     ]
    }
   ],
   "source": [
    "final_test.show()"
   ]
  },
  {
   "cell_type": "code",
   "execution_count": 52,
   "metadata": {},
   "outputs": [],
   "source": [
    "# Transformando o final_test da mesma maneira que foi feito no treino\n",
    "final_test_transformed = pipeline.fit(final_test).transform(final_test)\n",
    "\n",
    "# Agora, são elimindas as colunas que não são úteis\n",
    "final_test_transformed = final_test_transformed.drop(\"id\",\"person_home_ownership\",\"loan_intent\",\"loan_grade\",\"cb_person_default_on_file\", 'person_home_ownership_index', 'loan_intent_index')\n",
    "\n",
    "# Antes de modelar, todas as colunas são colocadas em único vetor\n",
    "feature = VectorAssembler(inputCols = final_test_transformed.columns[1:],outputCol=\"features\")\n",
    "feature_vector=feature.transform(final_test_transformed)"
   ]
  },
  {
   "cell_type": "code",
   "execution_count": 53,
   "metadata": {},
   "outputs": [
    {
     "name": "stdout",
     "output_type": "stream",
     "text": [
      "+----------+-------------+-----------------+---------+-------------+-------------------+--------------------------+----------------+-------------------------------+----------------------------+------------------+--------------------+\n",
      "|person_age|person_income|person_emp_length|loan_amnt|loan_int_rate|loan_percent_income|cb_person_cred_hist_length|loan_grade_index|cb_person_default_on_file_index|person_home_ownership_onehot|loan_intent_onehot|            features|\n",
      "+----------+-------------+-----------------+---------+-------------+-------------------+--------------------------+----------------+-------------------------------+----------------------------+------------------+--------------------+\n",
      "|        23|        69000|              3.0|    25000|        15.76|               0.36|                         2|             5.0|                            0.0|               (3,[0],[1.0])|         (5,[],[])|(16,[0,1,2,3,4,5,...|\n",
      "|        26|        96000|              6.0|    10000|        12.68|                0.1|                         4|             2.0|                            1.0|               (3,[1],[1.0])|     (5,[2],[1.0])|[96000.0,6.0,1000...|\n",
      "|        26|        30000|              5.0|     4000|        17.19|               0.13|                         2|             4.0|                            1.0|               (3,[0],[1.0])|     (5,[3],[1.0])|[30000.0,5.0,4000...|\n",
      "|        33|        50000|              4.0|     7000|          8.9|               0.14|                         7|             0.0|                            0.0|               (3,[0],[1.0])|     (5,[4],[1.0])|(16,[0,1,2,3,4,5,...|\n",
      "|        26|       102000|              8.0|    15000|        16.32|               0.15|                         4|             3.0|                            1.0|               (3,[1],[1.0])|         (5,[],[])|(16,[0,1,2,3,4,5,...|\n",
      "|        23|        66000|              5.0|    22000|        14.09|               0.33|                         2|             3.0|                            0.0|               (3,[0],[1.0])|     (5,[0],[1.0])|(16,[0,1,2,3,4,5,...|\n",
      "|        26|        75000|             10.0|     8000|        10.62|               0.11|                         4|             1.0|                            0.0|               (3,[2],[1.0])|     (5,[2],[1.0])|(16,[0,1,2,3,4,5,...|\n",
      "|        23|        55000|              6.0|     6250|         6.76|               0.12|                         2|             0.0|                            0.0|               (3,[1],[1.0])|     (5,[2],[1.0])|(16,[0,1,2,3,4,5,...|\n",
      "|        32|        29124|              0.0|     7200|        13.11|               0.26|                         6|             2.0|                            1.0|               (3,[0],[1.0])|     (5,[2],[1.0])|(16,[0,2,3,4,5,6,...|\n",
      "|        22|        90000|              4.0|    10000|        13.49|               0.11|                         3|             2.0|                            1.0|               (3,[0],[1.0])|     (5,[4],[1.0])|[90000.0,4.0,1000...|\n",
      "|        33|       115000|              3.0|    14400|        14.35|               0.12|                         6|             2.0|                            0.0|               (3,[1],[1.0])|     (5,[4],[1.0])|(16,[0,1,2,3,4,5,...|\n",
      "|        29|        40000|              1.0|     4000|        14.79|                0.1|                         7|             2.0|                            0.0|               (3,[1],[1.0])|     (5,[2],[1.0])|(16,[0,1,2,3,4,5,...|\n",
      "|        29|        54996|              2.0|    12000|        12.23|               0.22|                         6|             2.0|                            1.0|               (3,[0],[1.0])|     (5,[3],[1.0])|[54996.0,2.0,1200...|\n",
      "|        25|        60000|              3.0|     8000|         7.49|               0.13|                         3|             0.0|                            0.0|               (3,[1],[1.0])|         (5,[],[])|(16,[0,1,2,3,4,5,...|\n",
      "|        27|        60000|              4.0|    11500|        11.48|               0.19|                         9|             1.0|                            0.0|               (3,[0],[1.0])|     (5,[1],[1.0])|(16,[0,1,2,3,4,5,...|\n",
      "|        27|        54996|              3.0|    15250|        11.36|               0.28|                         8|             1.0|                            0.0|               (3,[0],[1.0])|     (5,[0],[1.0])|(16,[0,1,2,3,4,5,...|\n",
      "|        32|        84996|             12.0|    12000|         6.91|               0.14|                         6|             0.0|                            0.0|               (3,[0],[1.0])|     (5,[0],[1.0])|(16,[0,1,2,3,4,5,...|\n",
      "|        21|        56004|              2.0|     6000|        11.86|               0.11|                         4|             1.0|                            0.0|               (3,[2],[1.0])|     (5,[3],[1.0])|(16,[0,1,2,3,4,5,...|\n",
      "|        38|        47000|              0.0|     9000|         8.94|               0.19|                        11|             0.0|                            0.0|               (3,[0],[1.0])|     (5,[4],[1.0])|(16,[0,2,3,4,5,8,...|\n",
      "|        30|        42000|             14.0|    10000|        10.59|               0.24|                         6|             1.0|                            0.0|               (3,[2],[1.0])|     (5,[0],[1.0])|(16,[0,1,2,3,4,5,...|\n",
      "+----------+-------------+-----------------+---------+-------------+-------------------+--------------------------+----------------+-------------------------------+----------------------------+------------------+--------------------+\n",
      "only showing top 20 rows\n",
      "\n"
     ]
    }
   ],
   "source": [
    "feature_vector.show()"
   ]
  },
  {
   "cell_type": "code",
   "execution_count": 64,
   "metadata": {},
   "outputs": [],
   "source": [
    "feature_vector = feature_vector.withColumn(\"loan_status\", lit(None).cast(IntegerType()))"
   ]
  },
  {
   "cell_type": "code",
   "execution_count": null,
   "metadata": {},
   "outputs": [],
   "source": [
    "# Usando o modelo treinado para prever no final_test\n",
    "predictions = model.transform(feature_vector)\n",
    "\n",
    "\n",
    "print('Accuracy: ', MulticlassClassificationEvaluator(labelCol='loan_status',metricName='accuracy').evaluate(predictions))\n",
    "print('Precision: ', MulticlassClassificationEvaluator(labelCol='loan_status',metricName='weightedPrecision').evaluate(predictions))\n",
    "print('Recall: ', MulticlassClassificationEvaluator(labelCol='loan_status', metricName='weightedRecall').evaluate(predictions))\n",
    "print('F1-Score: ', MulticlassClassificationEvaluator(labelCol='loan_status', metricName='f1').evaluate(predictions))"
   ]
  }
 ],
 "metadata": {
  "kernelspec": {
   "display_name": ".venv",
   "language": "python",
   "name": "python3"
  },
  "language_info": {
   "codemirror_mode": {
    "name": "ipython",
    "version": 3
   },
   "file_extension": ".py",
   "mimetype": "text/x-python",
   "name": "python",
   "nbconvert_exporter": "python",
   "pygments_lexer": "ipython3",
   "version": "3.12.5"
  }
 },
 "nbformat": 4,
 "nbformat_minor": 2
}
