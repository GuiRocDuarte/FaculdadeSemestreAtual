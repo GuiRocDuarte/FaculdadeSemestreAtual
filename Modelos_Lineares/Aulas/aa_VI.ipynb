{
 "cells": [
  {
   "cell_type": "code",
   "execution_count": 1,
   "metadata": {},
   "outputs": [
    {
     "name": "stdout",
     "output_type": "stream",
     "text": [
      "Estatística F: 1.0573617289839958\n",
      "Valor p: 0.3568788089582765\n",
      "Não há evidências suficientes para concluir que as médias salariais são diferentes.\n"
     ]
    }
   ],
   "source": [
    "import numpy as np\n",
    "import scipy.stats as stats\n",
    "\n",
    "# Definindo os dados (médias e desvios padrões das áreas)\n",
    "# Distribuição normal assumida com base nos dados da tabela fornecida\n",
    "\n",
    "sociais = np.random.normal(30.9, 19.2, 21)  # Média = 30.9, Desvio Padrão = 19.2, n = 21\n",
    "engenharias = np.random.normal(34.2, 28.2, 15)  # Média = 34.2, Desvio Padrão = 28.2, n = 15\n",
    "biologicas = np.random.normal(38.1, 22.3, 7)  # Média = 38.1, Desvio Padrão = 22.3, n = 7\n",
    "\n",
    "# Aplicando o teste ANOVA\n",
    "f_statistic, p_value = stats.f_oneway(sociais, engenharias, biologicas)\n",
    "\n",
    "# Exibindo os resultados\n",
    "print(f\"Estatística F: {f_statistic}\")\n",
    "print(f\"Valor p: {p_value}\")\n",
    "\n",
    "# Verificando se o valor p é menor que 0.05 para concluir se as médias são diferentes\n",
    "if p_value < 0.05:\n",
    "    print(\"As médias salariais são significativamente diferentes entre as áreas.\")\n",
    "else:\n",
    "    print(\"Não há evidências suficientes para concluir que as médias salariais são diferentes.\")\n"
   ]
  },
  {
   "cell_type": "code",
   "execution_count": 2,
   "metadata": {},
   "outputs": [
    {
     "name": "stdout",
     "output_type": "stream",
     "text": [
      "Estatística F: 2.3678382786465972\n",
      "Valor p: 0.07436099685177772\n",
      "Não há evidências suficientes para concluir que as médias de vendas são diferentes.\n"
     ]
    }
   ],
   "source": [
    "# Exemplo de dados de vendas mensais para quatro regiões\n",
    "regiao1 = np.random.normal(150, 20, 30)  # Região 1: Média = 150, Desvio padrão = 20, n = 30\n",
    "regiao2 = np.random.normal(140, 25, 30)  # Região 2: Média = 140, Desvio padrão = 25, n = 30\n",
    "regiao3 = np.random.normal(160, 30, 30)  # Região 3: Média = 160, Desvio padrão = 30, n = 30\n",
    "regiao4 = np.random.normal(155, 22, 30)  # Região 4: Média = 155, Desvio padrão = 22, n = 30\n",
    "\n",
    "# Aplicando o teste ANOVA\n",
    "f_statistic, p_value = stats.f_oneway(regiao1, regiao2, regiao3, regiao4)\n",
    "\n",
    "# Exibindo os resultados\n",
    "print(f\"Estatística F: {f_statistic}\")\n",
    "print(f\"Valor p: {p_value}\")\n",
    "\n",
    "# Verificando se o valor p é menor que 0.05\n",
    "if p_value < 0.05:\n",
    "    print(\"Há uma diferença significativa nas médias de vendas de pelo menos uma das regiões.\")\n",
    "else:\n",
    "    print(\"Não há evidências suficientes para concluir que as médias de vendas são diferentes.\")\n"
   ]
  }
 ],
 "metadata": {
  "kernelspec": {
   "display_name": ".venv",
   "language": "python",
   "name": "python3"
  },
  "language_info": {
   "codemirror_mode": {
    "name": "ipython",
    "version": 3
   },
   "file_extension": ".py",
   "mimetype": "text/x-python",
   "name": "python",
   "nbconvert_exporter": "python",
   "pygments_lexer": "ipython3",
   "version": "3.12.5"
  }
 },
 "nbformat": 4,
 "nbformat_minor": 2
}
