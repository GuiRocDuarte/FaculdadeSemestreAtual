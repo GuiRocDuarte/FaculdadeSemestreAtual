{
 "cells": [
  {
   "cell_type": "code",
   "execution_count": 3,
   "metadata": {},
   "outputs": [],
   "source": [
    "import numpy as np\n",
    "import pandas as pd\n",
    "\n",
    "# Dados fictícios de tempo de reação (em segundos) de 20 indivíduos\n",
    "df = pd.read_csv('C:\\\\01-FaculdadeSemestreAtual\\\\Modelos_Lineares\\\\Aulas\\\\anova.csv', sep=';')"
   ]
  },
  {
   "cell_type": "code",
   "execution_count": 5,
   "metadata": {},
   "outputs": [
    {
     "data": {
      "text/html": [
       "<div>\n",
       "<style scoped>\n",
       "    .dataframe tbody tr th:only-of-type {\n",
       "        vertical-align: middle;\n",
       "    }\n",
       "\n",
       "    .dataframe tbody tr th {\n",
       "        vertical-align: top;\n",
       "    }\n",
       "\n",
       "    .dataframe thead th {\n",
       "        text-align: right;\n",
       "    }\n",
       "</style>\n",
       "<table border=\"1\" class=\"dataframe\">\n",
       "  <thead>\n",
       "    <tr style=\"text-align: right;\">\n",
       "      <th></th>\n",
       "      <th>Individuo</th>\n",
       "      <th>Tempo de reacao (ms)</th>\n",
       "      <th>Genero (M/F)</th>\n",
       "      <th>Idade (anos)</th>\n",
       "      <th>Acuidade Visual (%)</th>\n",
       "    </tr>\n",
       "  </thead>\n",
       "  <tbody>\n",
       "    <tr>\n",
       "      <th>0</th>\n",
       "      <td>1</td>\n",
       "      <td>96</td>\n",
       "      <td>M</td>\n",
       "      <td>20</td>\n",
       "      <td>90</td>\n",
       "    </tr>\n",
       "    <tr>\n",
       "      <th>1</th>\n",
       "      <td>2</td>\n",
       "      <td>92</td>\n",
       "      <td>F</td>\n",
       "      <td>20</td>\n",
       "      <td>100</td>\n",
       "    </tr>\n",
       "    <tr>\n",
       "      <th>2</th>\n",
       "      <td>3</td>\n",
       "      <td>106</td>\n",
       "      <td>M</td>\n",
       "      <td>20</td>\n",
       "      <td>80</td>\n",
       "    </tr>\n",
       "    <tr>\n",
       "      <th>3</th>\n",
       "      <td>4</td>\n",
       "      <td>100</td>\n",
       "      <td>F</td>\n",
       "      <td>20</td>\n",
       "      <td>90</td>\n",
       "    </tr>\n",
       "    <tr>\n",
       "      <th>4</th>\n",
       "      <td>5</td>\n",
       "      <td>98</td>\n",
       "      <td>F</td>\n",
       "      <td>25</td>\n",
       "      <td>100</td>\n",
       "    </tr>\n",
       "  </tbody>\n",
       "</table>\n",
       "</div>"
      ],
      "text/plain": [
       "   Individuo  Tempo de reacao (ms) Genero (M/F)  Idade (anos)  \\\n",
       "0          1                    96            M            20   \n",
       "1          2                    92            F            20   \n",
       "2          3                   106            M            20   \n",
       "3          4                   100            F            20   \n",
       "4          5                    98            F            25   \n",
       "\n",
       "   Acuidade Visual (%)  \n",
       "0                   90  \n",
       "1                  100  \n",
       "2                   80  \n",
       "3                   90  \n",
       "4                  100  "
      ]
     },
     "execution_count": 5,
     "metadata": {},
     "output_type": "execute_result"
    }
   ],
   "source": [
    "df.head()"
   ]
  },
  {
   "cell_type": "code",
   "execution_count": 6,
   "metadata": {},
   "outputs": [
    {
     "name": "stdout",
     "output_type": "stream",
     "text": [
      "<class 'pandas.core.frame.DataFrame'>\n",
      "RangeIndex: 20 entries, 0 to 19\n",
      "Data columns (total 5 columns):\n",
      " #   Column                Non-Null Count  Dtype \n",
      "---  ------                --------------  ----- \n",
      " 0   Individuo             20 non-null     int64 \n",
      " 1   Tempo de reacao (ms)  20 non-null     int64 \n",
      " 2   Genero (M/F)          20 non-null     object\n",
      " 3   Idade (anos)          20 non-null     int64 \n",
      " 4   Acuidade Visual (%)   20 non-null     int64 \n",
      "dtypes: int64(4), object(1)\n",
      "memory usage: 932.0+ bytes\n"
     ]
    }
   ],
   "source": [
    "df.info()"
   ]
  },
  {
   "cell_type": "code",
   "execution_count": 9,
   "metadata": {},
   "outputs": [
    {
     "name": "stdout",
     "output_type": "stream",
     "text": [
      "Quadro Comparativo:\n",
      "Faixa Etária         Média      Desvio-Padrão   SSE            \n",
      "Menos de 25 anos     98.50      5.97            107.00         \n",
      "25 a 35 anos         107.25     6.18            420.25         \n",
      "Mais de 35 anos      117.25     6.85            140.75         \n",
      "\n",
      "Tabela ANOVA:\n",
      "Fonte de Variação    Soma dos Quadrados   Graus de Liberdade   Quadrado Médio       F-Valor             \n",
      "Entre Grupos         705.00               2                    352.50               4.36                \n",
      "Dentro dos Grupos    668.00               17                   39.29               \n",
      "Total                1373.00              19                  \n",
      "\n",
      "Análise de Melhoria:\n",
      "Soma dos Quadrados dos Erros (SSE) do modelo básico: 1373.00\n",
      "Soma dos Quadrados dos Erros (SSE) com faixas etárias: 705.00\n",
      "Redução no SSE ao considerar faixas etárias: 668.00\n"
     ]
    }
   ],
   "source": [
    "\n",
    "# Definir as faixas etárias\n",
    "faixa1 = df[df['Idade (anos)'] < 25]\n",
    "faixa2 = df[(df['Idade (anos)'] >= 25) & (df['Idade (anos)'] <= 35)]\n",
    "faixa3 = df[df['Idade (anos)'] > 35]\n",
    "\n",
    "# Função para calcular média, desvio-padrão e SSE\n",
    "def calcular_parametros(df):\n",
    "    media = np.mean(df['Tempo de reacao (ms)'])\n",
    "    desvio_padrao = np.std(df['Tempo de reacao (ms)'], ddof=1)\n",
    "    sse = np.sum((df['Tempo de reacao (ms)'] - media) ** 2)\n",
    "    return media, desvio_padrao, sse\n",
    "\n",
    "# Calcular para cada faixa etária\n",
    "media1, desvio1, sse1 = calcular_parametros(faixa1)\n",
    "media2, desvio2, sse2 = calcular_parametros(faixa2)\n",
    "media3, desvio3, sse3 = calcular_parametros(faixa3)\n",
    "\n",
    "# Calcular o total\n",
    "media_total = np.mean(df['Tempo de reacao (ms)'])\n",
    "sse_total = np.sum((df['Tempo de reacao (ms)'] - media_total) ** 2)\n",
    "\n",
    "# Construir a Tabela ANOVA\n",
    "n_faixa1 = len(faixa1)\n",
    "n_faixa2 = len(faixa2)\n",
    "n_faixa3 = len(faixa3)\n",
    "n_total = len(df)\n",
    "\n",
    "# Variância entre grupos\n",
    "sse_grupos = (n_faixa1 * (media1 - media_total) ** 2 +\n",
    "              n_faixa2 * (media2 - media_total) ** 2 +\n",
    "              n_faixa3 * (media3 - media_total) ** 2)\n",
    "\n",
    "# Total SSE e SSE explicada\n",
    "sse_explicada = sse_total - sse1 - sse2 - sse3\n",
    "\n",
    "# Quadro Comparativo\n",
    "print(f\"Quadro Comparativo:\")\n",
    "print(f\"{'Faixa Etária':<20} {'Média':<10} {'Desvio-Padrão':<15} {'SSE':<15}\")\n",
    "print(f\"{'Menos de 25 anos':<20} {media1:<10.2f} {desvio1:<15.2f} {sse1:<15.2f}\")\n",
    "print(f\"{'25 a 35 anos':<20} {media2:<10.2f} {desvio2:<15.2f} {sse2:<15.2f}\")\n",
    "print(f\"{'Mais de 35 anos':<20} {media3:<10.2f} {desvio3:<15.2f} {sse3:<15.2f}\")\n",
    "\n",
    "# Tabela ANOVA\n",
    "print(f\"\\nTabela ANOVA:\")\n",
    "print(f\"{'Fonte de Variação':<20} {'Soma dos Quadrados':<20} {'Graus de Liberdade':<20} {'Quadrado Médio':<20} {'F-Valor':<20}\")\n",
    "print(f\"{'Entre Grupos':<20} {sse_grupos:<20.2f} {3-1:<20} {sse_grupos / (3-1):<20.2f} {sse_grupos / (3-1) / (sse_total / (n_total-3)):<20.2f}\")\n",
    "print(f\"{'Dentro dos Grupos':<20} {sse_total - sse_grupos:<20.2f} {n_total - 3:<20} {(sse_total - sse_grupos) / (n_total - 3):<20.2f}\")\n",
    "print(f\"{'Total':<20} {sse_total:<20.2f} {n_total-1:<20}\")\n",
    "\n",
    "# Análise de Melhoria\n",
    "print(f\"\\nAnálise de Melhoria:\")\n",
    "print(f\"Soma dos Quadrados dos Erros (SSE) do modelo básico: {sse_total:.2f}\")\n",
    "print(f\"Soma dos Quadrados dos Erros (SSE) com faixas etárias: {sse_explicada:.2f}\")\n",
    "print(f\"Redução no SSE ao considerar faixas etárias: {sse_total - sse_explicada:.2f}\")\n"
   ]
  },
  {
   "cell_type": "code",
   "execution_count": null,
   "metadata": {},
   "outputs": [],
   "source": []
  }
 ],
 "metadata": {
  "kernelspec": {
   "display_name": ".venv",
   "language": "python",
   "name": "python3"
  },
  "language_info": {
   "codemirror_mode": {
    "name": "ipython",
    "version": 3
   },
   "file_extension": ".py",
   "mimetype": "text/x-python",
   "name": "python",
   "nbconvert_exporter": "python",
   "pygments_lexer": "ipython3",
   "version": "3.12.5"
  }
 },
 "nbformat": 4,
 "nbformat_minor": 2
}
