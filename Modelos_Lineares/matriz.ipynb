{
 "cells": [
  {
   "cell_type": "code",
   "execution_count": 2,
   "metadata": {},
   "outputs": [
    {
     "name": "stdout",
     "output_type": "stream",
     "text": [
      "Coeficientes Beta (álgebra matricial): [122.40075614   1.86200378  12.66540643  -1.79584121]\n"
     ]
    }
   ],
   "source": [
    "import numpy as np\n",
    "\n",
    "# Dados + Intercepto\n",
    "X = np.array([\n",
    "    [1, 120, 3, 10],\n",
    "    [1, 150, 4, 5],\n",
    "    [1, 100, 2, 20],\n",
    "    [1, 180, 4, 2],\n",
    "    [1, 130, 3, 8]\n",
    "])\n",
    "\n",
    "# Preço\n",
    "y = np.array([350, 450, 300, 500, 400])\n",
    "\n",
    "# Calculando os coeficientes beta\n",
    "X_transpose = X.T   # Matriz Transposta\n",
    "beta = np.linalg.inv(X_transpose @ X) @ X_transpose @ y\n",
    "\n",
    "print(\"Coeficientes Beta (álgebra matricial):\", beta)\n"
   ]
  },
  {
   "cell_type": "code",
   "execution_count": 4,
   "metadata": {},
   "outputs": [
    {
     "name": "stdout",
     "output_type": "stream",
     "text": [
      "Coeficientes Beta (scikit-learn): [122.40075614   1.86200378  12.66540643  -1.79584121]\n"
     ]
    }
   ],
   "source": [
    "import pandas as pd\n",
    "from sklearn.linear_model import LinearRegression\n",
    "\n",
    "# Criar um DataFrame com dados\n",
    "data = {\n",
    "    'Preço': [350, 450, 300, 500, 400],\n",
    "    'Área': [120, 150, 100, 180, 130],\n",
    "    'Quartos': [3, 4, 2, 4, 3],\n",
    "    'Idade': [10, 5, 20, 2, 8]\n",
    "}\n",
    "\n",
    "df = pd.DataFrame(data)\n",
    "\n",
    "# Variáveis explicativas e variável resposta\n",
    "X = df[['Área', 'Quartos', 'Idade']]\n",
    "X = np.hstack([np.ones((X.shape[0], 1)), X])  # Adicionar a coluna do intercepto\n",
    "y = df['Preço']\n",
    "\n",
    "# Ajustar o modelo de regressão linear\n",
    "model = LinearRegression(fit_intercept=False)\n",
    "model.fit(X, y)\n",
    "\n",
    "print(\"Coeficientes Beta (scikit-learn):\", model.coef_)\n"
   ]
  },
  {
   "cell_type": "markdown",
   "metadata": {},
   "source": [
    "# Link ChatGPT "
   ]
  },
  {
   "cell_type": "markdown",
   "metadata": {},
   "source": [
    "https://chatgpt.com/share/c4a1d01d-611a-4dac-a896-38f854a45cd4"
   ]
  },
  {
   "cell_type": "code",
   "execution_count": null,
   "metadata": {},
   "outputs": [],
   "source": []
  }
 ],
 "metadata": {
  "kernelspec": {
   "display_name": ".venv",
   "language": "python",
   "name": "python3"
  },
  "language_info": {
   "codemirror_mode": {
    "name": "ipython",
    "version": 3
   },
   "file_extension": ".py",
   "mimetype": "text/x-python",
   "name": "python",
   "nbconvert_exporter": "python",
   "pygments_lexer": "ipython3",
   "version": "3.12.5"
  }
 },
 "nbformat": 4,
 "nbformat_minor": 2
}
