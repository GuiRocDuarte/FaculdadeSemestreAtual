{
 "cells": [
  {
   "cell_type": "markdown",
   "metadata": {},
   "source": [
    "# Random Forest Exercises Notebook\n",
    "\n",
    "## Introdução\n",
    " Este notebook apresenta uma série de exercícios para entender e aplicar o modelo de Floresta Aleatória. \n",
    " Vamos explorar como funciona o modelo, treinar e avaliar modelos em um conjunto de dados e ajustar seus \n",
    " parâmetros para melhorar o desempenho.\n",
    "\n",
    "### Objetivos:\n",
    " - Entender a teoria básica por trás da Floresta Aleatória.\n",
    " - Treinar e avaliar uma Floresta Aleatória em um conjunto de dados.\n",
    " - Ajustar hiperparâmetros para otimizar o desempenho do modelo.\n"
   ]
  },
  {
   "cell_type": "code",
   "execution_count": 1,
   "metadata": {},
   "outputs": [],
   "source": [
    "# Importando Bibliotecas Necessárias\n",
    "import numpy as np\n",
    "import pandas as pd\n",
    "from sklearn.ensemble import RandomForestClassifier, RandomForestRegressor\n",
    "from sklearn.model_selection import train_test_split\n",
    "from sklearn.metrics import accuracy_score, mean_squared_error\n",
    "from sklearn.datasets import load_iris, fetch_california_housing\n",
    "import matplotlib.pyplot as plt\n",
    "import seaborn as sns"
   ]
  },
  {
   "cell_type": "markdown",
   "metadata": {},
   "source": [
    "#  1. Classificação com Floresta Aleatória\n",
    "Neste exercício, usaremos o conjunto de dados Iris para construir e avaliar um modelo de classificação com Floresta Aleatória.\n",
    "Carregue o conjunto de dados Iris e divida-o em treino e teste"
   ]
  },
  {
   "cell_type": "code",
   "execution_count": 2,
   "metadata": {},
   "outputs": [],
   "source": [
    "data = load_iris()\n",
    "X, y = data.data, data.target\n",
    "X_train, X_test, y_train, y_test = train_test_split(X, y, test_size=0.3, random_state=42)"
   ]
  },
  {
   "cell_type": "markdown",
   "metadata": {},
   "source": [
    "### Treine uma Floresta Aleatória com 100 árvores e avalie a acurácia no conjunto de teste"
   ]
  },
  {
   "cell_type": "code",
   "execution_count": 3,
   "metadata": {},
   "outputs": [
    {
     "name": "stdout",
     "output_type": "stream",
     "text": [
      "Acurácia no conjunto de teste: 1.00\n"
     ]
    }
   ],
   "source": [
    "clf = RandomForestClassifier(n_estimators=100, random_state=42)\n",
    "clf.fit(X_train, y_train)\n",
    "y_pred = clf.predict(X_test)\n",
    "accuracy = accuracy_score(y_test, y_pred)\n",
    "print(f'Acurácia no conjunto de teste: {accuracy:.2f}')\n"
   ]
  },
  {
   "cell_type": "markdown",
   "metadata": {},
   "source": [
    " ### Exercício 1:\n",
    " Altere o número de árvores na floresta para 50, 200, e 500 e observe como a acurácia muda.\n",
    " Qual o número ideal de árvores para este conjunto de dados?\n"
   ]
  },
  {
   "cell_type": "code",
   "execution_count": null,
   "metadata": {},
   "outputs": [],
   "source": []
  },
  {
   "cell_type": "markdown",
   "metadata": {},
   "source": [
    "#### Possível resposta:"
   ]
  },
  {
   "cell_type": "code",
   "execution_count": 4,
   "metadata": {},
   "outputs": [
    {
     "name": "stdout",
     "output_type": "stream",
     "text": [
      "Acurácia com 50 árvores: 1.00\n",
      "Acurácia com 100 árvores: 1.00\n",
      "Acurácia com 200 árvores: 1.00\n",
      "Acurácia com 500 árvores: 1.00\n"
     ]
    }
   ],
   "source": [
    "n_estimators_list = [50, 100, 200, 500]\n",
    "for n in n_estimators_list:\n",
    "    clf = RandomForestClassifier(n_estimators=n, random_state=42)\n",
    "    clf.fit(X_train, y_train)\n",
    "    y_pred = clf.predict(X_test)\n",
    "    accuracy = accuracy_score(y_test, y_pred)\n",
    "    print(f'Acurácia com {n} árvores: {accuracy:.2f}')"
   ]
  },
  {
   "cell_type": "markdown",
   "metadata": {},
   "source": [
    "### Exercício 2:\n",
    " Avalie a importância das features no modelo treinado. Quais são as features mais importantes?\n"
   ]
  },
  {
   "cell_type": "code",
   "execution_count": null,
   "metadata": {},
   "outputs": [],
   "source": []
  },
  {
   "cell_type": "markdown",
   "metadata": {},
   "source": [
    "#### Possível resposta:"
   ]
  },
  {
   "cell_type": "code",
   "execution_count": 5,
   "metadata": {},
   "outputs": [
    {
     "name": "stdout",
     "output_type": "stream",
     "text": [
      "sepal length (cm): 0.12\n",
      "sepal width (cm): 0.04\n",
      "petal length (cm): 0.43\n",
      "petal width (cm): 0.41\n"
     ]
    }
   ],
   "source": [
    "feature_importances = clf.feature_importances_\n",
    "for i, feature in enumerate(data.feature_names):\n",
    "    print(f'{feature}: {feature_importances[i]:.2f}')"
   ]
  },
  {
   "cell_type": "markdown",
   "metadata": {},
   "source": [
    " ## 2. Regressão com Floresta Aleatória\n",
    " Vamos agora usar uma Floresta Aleatória para resolver um problema de regressão, utilizando o conjunto de dados Boston.\n"
   ]
  },
  {
   "cell_type": "code",
   "execution_count": 6,
   "metadata": {},
   "outputs": [],
   "source": [
    "# Carregue o conjunto de dados da Califórnia e divida-o em treino e teste\n",
    "data = fetch_california_housing()\n",
    "X, y = data.data, data.target\n",
    "X_train, X_test, y_train, y_test = train_test_split(X, y, test_size=0.3, random_state=42)\n"
   ]
  },
  {
   "cell_type": "code",
   "execution_count": 7,
   "metadata": {},
   "outputs": [
    {
     "name": "stdout",
     "output_type": "stream",
     "text": [
      "Erro Quadrático Médio no conjunto de teste: 0.26\n"
     ]
    }
   ],
   "source": [
    "# Treine uma Floresta Aleatória para regressão com 100 árvores e calcule o erro quadrático médio\n",
    "reg = RandomForestRegressor(n_estimators=100, random_state=42)\n",
    "reg.fit(X_train, y_train)\n",
    "y_pred = reg.predict(X_test)\n",
    "mse = mean_squared_error(y_test, y_pred)\n",
    "print(f'Erro Quadrático Médio no conjunto de teste: {mse:.2f}')"
   ]
  },
  {
   "cell_type": "markdown",
   "metadata": {},
   "source": [
    " ### Exercício 3:\n",
    " Altere o número de árvores para 50, 200, e 500 e observe como o erro quadrático médio muda.\n",
    " Qual é o número ideal de árvores para este conjunto de dados?\n"
   ]
  },
  {
   "cell_type": "code",
   "execution_count": null,
   "metadata": {},
   "outputs": [],
   "source": []
  },
  {
   "cell_type": "markdown",
   "metadata": {},
   "source": [
    "#### Possível resposta:"
   ]
  },
  {
   "cell_type": "code",
   "execution_count": 8,
   "metadata": {},
   "outputs": [
    {
     "name": "stdout",
     "output_type": "stream",
     "text": [
      "Erro Quadrático Médio com 50 árvores: 0.26\n",
      "Erro Quadrático Médio com 100 árvores: 0.26\n",
      "Erro Quadrático Médio com 200 árvores: 0.25\n",
      "Erro Quadrático Médio com 500 árvores: 0.25\n"
     ]
    }
   ],
   "source": [
    "n_estimators_list = [50, 100, 200, 500]\n",
    "for n in n_estimators_list:\n",
    "    reg = RandomForestRegressor(n_estimators=n, random_state=42)\n",
    "    reg.fit(X_train, y_train)\n",
    "    y_pred = reg.predict(X_test)\n",
    "    mse = mean_squared_error(y_test, y_pred)\n",
    "    print(f'Erro Quadrático Médio com {n} árvores: {mse:.2f}')"
   ]
  },
  {
   "cell_type": "markdown",
   "metadata": {},
   "source": [
    "### Exercício 4:\n",
    "Avalie a importância das features no modelo treinado. Quais são as features mais importantes?"
   ]
  },
  {
   "cell_type": "code",
   "execution_count": null,
   "metadata": {},
   "outputs": [],
   "source": []
  },
  {
   "cell_type": "markdown",
   "metadata": {},
   "source": [
    "#### Possível resposta:"
   ]
  },
  {
   "cell_type": "code",
   "execution_count": 9,
   "metadata": {},
   "outputs": [
    {
     "name": "stdout",
     "output_type": "stream",
     "text": [
      "MedInc: 0.53\n",
      "HouseAge: 0.05\n",
      "AveRooms: 0.05\n",
      "AveBedrms: 0.03\n",
      "Population: 0.03\n",
      "AveOccup: 0.14\n",
      "Latitude: 0.09\n",
      "Longitude: 0.09\n"
     ]
    }
   ],
   "source": [
    "feature_importances = reg.feature_importances_\n",
    "for i, feature in enumerate(data.feature_names):\n",
    "    print(f'{feature}: {feature_importances[i]:.2f}')"
   ]
  },
  {
   "cell_type": "markdown",
   "metadata": {},
   "source": [
    " ## 3. Otimizando Hiperparâmetros com GridSearchCV\n",
    " Vamos utilizar uma pesquisa em grade para encontrar os melhores hiperparâmetros para a Floresta Aleatória."
   ]
  },
  {
   "cell_type": "code",
   "execution_count": 10,
   "metadata": {},
   "outputs": [
    {
     "name": "stdout",
     "output_type": "stream",
     "text": [
      "Melhores parâmetros encontrados: {'max_depth': None, 'max_features': 'sqrt', 'n_estimators': 200}\n",
      "Melhor erro quadrático médio negativo obtido: -0.26\n"
     ]
    }
   ],
   "source": [
    "from sklearn.model_selection import GridSearchCV\n",
    "\n",
    "# Parâmetros para o RandomForestRegressor\n",
    "param_grid = {\n",
    "    'n_estimators': [50, 100, 200],\n",
    "    'max_depth': [None, 10, 20],\n",
    "    'max_features': ['sqrt', 'log2']\n",
    "}\n",
    "\n",
    "# Usando RandomForestRegressor para o problema de regressão\n",
    "regressor = RandomForestRegressor(random_state=42)\n",
    "\n",
    "# Configurando o GridSearchCV para regressão\n",
    "grid_search = GridSearchCV(estimator=regressor, param_grid=param_grid, cv=3, scoring='neg_mean_squared_error')\n",
    "grid_search.fit(X_train, y_train)\n",
    "\n",
    "# Exibindo os melhores parâmetros e a menor média de erro quadrático\n",
    "print(f'Melhores parâmetros encontrados: {grid_search.best_params_}')\n",
    "print(f'Melhor erro quadrático médio negativo obtido: {grid_search.best_score_:.2f}')\n"
   ]
  },
  {
   "cell_type": "markdown",
   "metadata": {},
   "source": [
    " ### Exercício 5:\n",
    " Experimente ajustar a grade de hiperparâmetros, adicionando valores diferentes para `n_estimators` e `max_depth`.\n",
    " Como os novos parâmetros impactam o desempenho do modelo?"
   ]
  },
  {
   "cell_type": "code",
   "execution_count": null,
   "metadata": {},
   "outputs": [],
   "source": []
  },
  {
   "cell_type": "markdown",
   "metadata": {},
   "source": [
    "#### Possível resposta:"
   ]
  },
  {
   "cell_type": "code",
   "execution_count": 11,
   "metadata": {},
   "outputs": [
    {
     "name": "stdout",
     "output_type": "stream",
     "text": [
      "Melhores parâmetros encontrados: {'max_depth': 30, 'max_features': 'log2', 'n_estimators': 500}\n",
      "Melhor erro quadrático médio negativo obtido: -0.26\n"
     ]
    }
   ],
   "source": [
    "# Parâmetros para o RandomForestRegressor\n",
    "param_grid = {\n",
    "    'n_estimators': [50, 100, 200, 500],\n",
    "    'max_depth': [None, 10, 20, 30],\n",
    "    'max_features': ['sqrt', 'log2']\n",
    "}\n",
    "\n",
    "# Usando RandomForestRegressor para o problema de regressão\n",
    "regressor = RandomForestRegressor(random_state=42)\n",
    "\n",
    "# Configurando o GridSearchCV para regressão\n",
    "grid_search = GridSearchCV(estimator=regressor, param_grid=param_grid, cv=3, scoring='neg_mean_squared_error')\n",
    "grid_search.fit(X_train, y_train)\n",
    "\n",
    "# Exibindo os melhores parâmetros e o menor erro quadrático médio\n",
    "print(f'Melhores parâmetros encontrados: {grid_search.best_params_}')\n",
    "print(f'Melhor erro quadrático médio negativo obtido: {grid_search.best_score_:.2f}')"
   ]
  },
  {
   "cell_type": "markdown",
   "metadata": {},
   "source": [
    " ## 4. Visualizando a Importância das Features\n",
    " Vamos agora visualizar a importância das features para o modelo de classificação.\n"
   ]
  },
  {
   "cell_type": "markdown",
   "metadata": {},
   "source": [
    "### Exercício 6:\n",
    " Crie um gráfico de barras mostrando a importância das features no modelo de classificação."
   ]
  },
  {
   "cell_type": "code",
   "execution_count": null,
   "metadata": {},
   "outputs": [],
   "source": []
  },
  {
   "cell_type": "markdown",
   "metadata": {},
   "source": [
    "#### Possível resposta:"
   ]
  },
  {
   "cell_type": "code",
   "execution_count": 12,
   "metadata": {},
   "outputs": [
    {
     "data": {
      "image/png": "[encoded data removed]",
      "text/plain": [
       "<Figure size 640x480 with 1 Axes>"
      ]
     },
     "metadata": {},
     "output_type": "display_data"
    }
   ],
   "source": [
    "importances = reg.feature_importances_\n",
    "sns.barplot(x=data.feature_names, y=importances)\n",
    "plt.title('Importância das Features')\n",
    "plt.xlabel('Features')\n",
    "plt.ylabel('Importância')\n",
    "plt.show()"
   ]
  },
  {
   "cell_type": "markdown",
   "metadata": {},
   "source": [
    " ### Conclusão\n",
    " Neste notebook, exploramos o uso de Florestas Aleatórias para classificação e regressão. \n",
    " Também ajustamos hiperparâmetros e visualizamos a importância das features.\n",
    " Experimente modificar alguns parâmetros para ver como o modelo responde!"
   ]
  }
 ],
 "metadata": {
  "kernelspec": {
   "display_name": ".venv",
   "language": "python",
   "name": "python3"
  },
  "language_info": {
   "codemirror_mode": {
    "name": "ipython",
    "version": 3
   },
   "file_extension": ".py",
   "mimetype": "text/x-python",
   "name": "python",
   "nbconvert_exporter": "python",
   "pygments_lexer": "ipython3",
   "version": "3.12.5"
  }
 },
 "nbformat": 4,
 "nbformat_minor": 2
}
