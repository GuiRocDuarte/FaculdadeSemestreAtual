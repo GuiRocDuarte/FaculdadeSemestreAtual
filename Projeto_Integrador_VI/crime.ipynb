{
 "cells": [
  {
   "cell_type": "markdown",
   "metadata": {},
   "source": [
    "# Pergunta a ser respondida:\n",
    "\n",
    "## Quais fatores (horário, área, local) mais influenciam a ocorrência de crimes contra vítimas de diferentes idades?"
   ]
  },
  {
   "cell_type": "code",
   "execution_count": 1,
   "metadata": {},
   "outputs": [],
   "source": [
    "import pandas as pd\n",
    "import numpy as np\n",
    "import matplotlib.pyplot as plt\n",
    "import seaborn as sns"
   ]
  },
  {
   "cell_type": "markdown",
   "metadata": {},
   "source": [
    "https://www.kaggle.com/datasets/jaspreetkhokhar/los-angeles-crime-data-2021-2023"
   ]
  },
  {
   "cell_type": "code",
   "execution_count": 34,
   "metadata": {},
   "outputs": [
    {
     "data": {
      "text/html": [
       "<div>\n",
       "<style scoped>\n",
       "    .dataframe tbody tr th:only-of-type {\n",
       "        vertical-align: middle;\n",
       "    }\n",
       "\n",
       "    .dataframe tbody tr th {\n",
       "        vertical-align: top;\n",
       "    }\n",
       "\n",
       "    .dataframe thead th {\n",
       "        text-align: right;\n",
       "    }\n",
       "</style>\n",
       "<table border=\"1\" class=\"dataframe\">\n",
       "  <thead>\n",
       "    <tr style=\"text-align: right;\">\n",
       "      <th></th>\n",
       "      <th>Date Reported</th>\n",
       "      <th>Date Occurred</th>\n",
       "      <th>Time Occurred</th>\n",
       "      <th>Area Code</th>\n",
       "      <th>Area Name</th>\n",
       "      <th>Part 1-2</th>\n",
       "      <th>Crime Code</th>\n",
       "      <th>Crime Description</th>\n",
       "      <th>Victim Age</th>\n",
       "      <th>Victim Sex</th>\n",
       "      <th>Victim Descent</th>\n",
       "      <th>Premises Description</th>\n",
       "      <th>Weapon Description</th>\n",
       "      <th>Status Description</th>\n",
       "      <th>Location</th>\n",
       "    </tr>\n",
       "  </thead>\n",
       "  <tbody>\n",
       "    <tr>\n",
       "      <th>0</th>\n",
       "      <td>2022-04-12</td>\n",
       "      <td>2020-10-01</td>\n",
       "      <td>1</td>\n",
       "      <td>19</td>\n",
       "      <td>Mission</td>\n",
       "      <td>1</td>\n",
       "      <td>821</td>\n",
       "      <td>SODOMY/SEXUAL CONTACT B/W PENIS OF ONE PERS TO...</td>\n",
       "      <td>8</td>\n",
       "      <td>F</td>\n",
       "      <td>H</td>\n",
       "      <td>SINGLE FAMILY DWELLING</td>\n",
       "      <td>STRONG-ARM (HANDS, FIST, FEET OR BODILY FORCE)</td>\n",
       "      <td>Invest Cont</td>\n",
       "      <td>13400    RANGOON                      ST</td>\n",
       "    </tr>\n",
       "    <tr>\n",
       "      <th>1</th>\n",
       "      <td>2023-01-05</td>\n",
       "      <td>2020-02-01</td>\n",
       "      <td>480</td>\n",
       "      <td>2</td>\n",
       "      <td>Rampart</td>\n",
       "      <td>2</td>\n",
       "      <td>812</td>\n",
       "      <td>CRM AGNST CHLD (13 OR UNDER) (14-15 &amp; SUSP 10 ...</td>\n",
       "      <td>7</td>\n",
       "      <td>F</td>\n",
       "      <td>W</td>\n",
       "      <td>MULTI-UNIT DWELLING (APARTMENT, DUPLEX, ETC)</td>\n",
       "      <td>STRONG-ARM (HANDS, FIST, FEET OR BODILY FORCE)</td>\n",
       "      <td>Invest Cont</td>\n",
       "      <td>900 N  MARIPOSA                     AV</td>\n",
       "    </tr>\n",
       "    <tr>\n",
       "      <th>2</th>\n",
       "      <td>2023-03-21</td>\n",
       "      <td>2020-03-15</td>\n",
       "      <td>720</td>\n",
       "      <td>19</td>\n",
       "      <td>Mission</td>\n",
       "      <td>2</td>\n",
       "      <td>812</td>\n",
       "      <td>CRM AGNST CHLD (13 OR UNDER) (14-15 &amp; SUSP 10 ...</td>\n",
       "      <td>12</td>\n",
       "      <td>F</td>\n",
       "      <td>H</td>\n",
       "      <td>MULTI-UNIT DWELLING (APARTMENT, DUPLEX, ETC)</td>\n",
       "      <td>STRONG-ARM (HANDS, FIST, FEET OR BODILY FORCE)</td>\n",
       "      <td>Adult Other</td>\n",
       "      <td>8500    COLUMBUS                     AV</td>\n",
       "    </tr>\n",
       "    <tr>\n",
       "      <th>3</th>\n",
       "      <td>2023-06-04</td>\n",
       "      <td>2020-07-01</td>\n",
       "      <td>720</td>\n",
       "      <td>20</td>\n",
       "      <td>Olympic</td>\n",
       "      <td>2</td>\n",
       "      <td>812</td>\n",
       "      <td>CRM AGNST CHLD (13 OR UNDER) (14-15 &amp; SUSP 10 ...</td>\n",
       "      <td>7</td>\n",
       "      <td>F</td>\n",
       "      <td>H</td>\n",
       "      <td>MULTI-UNIT DWELLING (APARTMENT, DUPLEX, ETC)</td>\n",
       "      <td>STRONG-ARM (HANDS, FIST, FEET OR BODILY FORCE)</td>\n",
       "      <td>Invest Cont</td>\n",
       "      <td>1700 S  WESTMORELAND                 AV</td>\n",
       "    </tr>\n",
       "    <tr>\n",
       "      <th>4</th>\n",
       "      <td>2022-02-02</td>\n",
       "      <td>2020-02-09</td>\n",
       "      <td>720</td>\n",
       "      <td>11</td>\n",
       "      <td>Northeast</td>\n",
       "      <td>2</td>\n",
       "      <td>930</td>\n",
       "      <td>CRIMINAL THREATS - NO WEAPON DISPLAYED</td>\n",
       "      <td>30</td>\n",
       "      <td>F</td>\n",
       "      <td>W</td>\n",
       "      <td>SINGLE FAMILY DWELLING</td>\n",
       "      <td>UNKNOWN WEAPON/OTHER WEAPON</td>\n",
       "      <td>Adult Other</td>\n",
       "      <td>2800    WAVERLY                      DR</td>\n",
       "    </tr>\n",
       "  </tbody>\n",
       "</table>\n",
       "</div>"
      ],
      "text/plain": [
       "  Date Reported Date Occurred  Time Occurred  Area Code  Area Name  Part 1-2  \\\n",
       "0    2022-04-12    2020-10-01              1         19    Mission         1   \n",
       "1    2023-01-05    2020-02-01            480          2    Rampart         2   \n",
       "2    2023-03-21    2020-03-15            720         19    Mission         2   \n",
       "3    2023-06-04    2020-07-01            720         20    Olympic         2   \n",
       "4    2022-02-02    2020-02-09            720         11  Northeast         2   \n",
       "\n",
       "   Crime Code                                  Crime Description  Victim Age  \\\n",
       "0         821  SODOMY/SEXUAL CONTACT B/W PENIS OF ONE PERS TO...           8   \n",
       "1         812  CRM AGNST CHLD (13 OR UNDER) (14-15 & SUSP 10 ...           7   \n",
       "2         812  CRM AGNST CHLD (13 OR UNDER) (14-15 & SUSP 10 ...          12   \n",
       "3         812  CRM AGNST CHLD (13 OR UNDER) (14-15 & SUSP 10 ...           7   \n",
       "4         930             CRIMINAL THREATS - NO WEAPON DISPLAYED          30   \n",
       "\n",
       "  Victim Sex Victim Descent                          Premises Description  \\\n",
       "0          F              H                        SINGLE FAMILY DWELLING   \n",
       "1          F              W  MULTI-UNIT DWELLING (APARTMENT, DUPLEX, ETC)   \n",
       "2          F              H  MULTI-UNIT DWELLING (APARTMENT, DUPLEX, ETC)   \n",
       "3          F              H  MULTI-UNIT DWELLING (APARTMENT, DUPLEX, ETC)   \n",
       "4          F              W                        SINGLE FAMILY DWELLING   \n",
       "\n",
       "                               Weapon Description Status Description  \\\n",
       "0  STRONG-ARM (HANDS, FIST, FEET OR BODILY FORCE)        Invest Cont   \n",
       "1  STRONG-ARM (HANDS, FIST, FEET OR BODILY FORCE)        Invest Cont   \n",
       "2  STRONG-ARM (HANDS, FIST, FEET OR BODILY FORCE)        Adult Other   \n",
       "3  STRONG-ARM (HANDS, FIST, FEET OR BODILY FORCE)        Invest Cont   \n",
       "4                     UNKNOWN WEAPON/OTHER WEAPON        Adult Other   \n",
       "\n",
       "                                   Location  \n",
       "0  13400    RANGOON                      ST  \n",
       "1    900 N  MARIPOSA                     AV  \n",
       "2   8500    COLUMBUS                     AV  \n",
       "3   1700 S  WESTMORELAND                 AV  \n",
       "4   2800    WAVERLY                      DR  "
      ]
     },
     "execution_count": 34,
     "metadata": {},
     "output_type": "execute_result"
    }
   ],
   "source": [
    "crime = pd.read_csv('/home/guiduarte/Documents/01-FaculdadeSemestreAtual/Modelos_Lineares/Datasets/crime_data.csv')\n",
    "crime = crime.rename(columns={'Date Rptd': 'Date Reported'})\n",
    "crime = crime.rename(columns={'DATE OCC': 'Date Occurred'})\n",
    "crime = crime.rename(columns={'TIME OCC': 'Time Occurred'})\n",
    "crime = crime.rename(columns={'AREA': 'Area Code'})\n",
    "crime = crime.rename(columns={'AREA NAME': 'Area Name'})\n",
    "crime = crime.rename(columns={'Crm Cd': 'Crime Code'})\n",
    "crime = crime.rename(columns={'Crm Cd Desc': 'Crime Description'})\n",
    "crime = crime.rename(columns={'Vict Age': 'Victim Age'})\n",
    "crime = crime.rename(columns={'Vict Sex': 'Victim Sex'})\n",
    "crime = crime.rename(columns={'Weapon Desc': 'Weapon Description'})\n",
    "crime = crime.rename(columns={'Premis Desc': 'Premises Description'})\n",
    "crime = crime.rename(columns={'Status Desc': 'Status Description'})\n",
    "crime = crime.rename(columns={'Vict Descent': 'Victim Descent'})\n",
    "crime = crime.rename(columns={'LOCATION': 'Location'})\n",
    "crime['Date Reported'] = pd.to_datetime(crime['Date Reported'])\n",
    "crime['Date Occurred'] = pd.to_datetime(crime['Date Occurred'])\n",
    "# Minutos após a meia noite\n",
    "crime['Time Occurred'] = pd.to_datetime(crime['Time Occurred'], format='%H:%M').dt.hour * 60 + pd.to_datetime(crime['Time Occurred'], format='%H:%M').dt.minute\n",
    "# crime = crime.astype({'Part 1-2': 'object', 'Crime Code': 'object', 'Area Code': 'object'})\n",
    "\n",
    "crime.head()"
   ]
  },
  {
   "cell_type": "markdown",
   "metadata": {},
   "source": [
    "The most serious crimes — known as Part 1 offenses, including rape, murder, grand theft and vehicle burglary"
   ]
  },
  {
   "cell_type": "code",
   "execution_count": 4,
   "metadata": {},
   "outputs": [
    {
     "data": {
      "text/plain": [
       "Index(['Date Reported', 'Date Occurred', 'Time Occurred', 'Area Code',\n",
       "       'Area Name', 'Part 1-2', 'Crime Code', 'Crime Description',\n",
       "       'Victim Age', 'Victim Sex', 'Victim Descent', 'Premises Description',\n",
       "       'Weapon Description', 'Status Description', 'Location'],\n",
       "      dtype='object')"
      ]
     },
     "execution_count": 4,
     "metadata": {},
     "output_type": "execute_result"
    }
   ],
   "source": [
    "crime.columns"
   ]
  },
  {
   "cell_type": "code",
   "execution_count": 5,
   "metadata": {},
   "outputs": [
    {
     "data": {
      "text/html": [
       "<div>\n",
       "<style scoped>\n",
       "    .dataframe tbody tr th:only-of-type {\n",
       "        vertical-align: middle;\n",
       "    }\n",
       "\n",
       "    .dataframe tbody tr th {\n",
       "        vertical-align: top;\n",
       "    }\n",
       "\n",
       "    .dataframe thead th {\n",
       "        text-align: right;\n",
       "    }\n",
       "</style>\n",
       "<table border=\"1\" class=\"dataframe\">\n",
       "  <thead>\n",
       "    <tr style=\"text-align: right;\">\n",
       "      <th></th>\n",
       "      <th>Date Reported</th>\n",
       "      <th>Date Occurred</th>\n",
       "      <th>Time Occurred</th>\n",
       "      <th>Area Code</th>\n",
       "      <th>Part 1-2</th>\n",
       "      <th>Crime Code</th>\n",
       "      <th>Victim Age</th>\n",
       "    </tr>\n",
       "  </thead>\n",
       "  <tbody>\n",
       "    <tr>\n",
       "      <th>count</th>\n",
       "      <td>230545</td>\n",
       "      <td>230545</td>\n",
       "      <td>230545.000000</td>\n",
       "      <td>230545.000000</td>\n",
       "      <td>230545.000000</td>\n",
       "      <td>230545.000000</td>\n",
       "      <td>230545.000000</td>\n",
       "    </tr>\n",
       "    <tr>\n",
       "      <th>mean</th>\n",
       "      <td>2022-07-13 12:54:00.023422464</td>\n",
       "      <td>2022-07-06 11:02:39.852522752</td>\n",
       "      <td>813.341899</td>\n",
       "      <td>10.466881</td>\n",
       "      <td>1.544991</td>\n",
       "      <td>508.044629</td>\n",
       "      <td>34.451513</td>\n",
       "    </tr>\n",
       "    <tr>\n",
       "      <th>min</th>\n",
       "      <td>2021-01-01 00:00:00</td>\n",
       "      <td>2020-01-01 00:00:00</td>\n",
       "      <td>1.000000</td>\n",
       "      <td>1.000000</td>\n",
       "      <td>1.000000</td>\n",
       "      <td>110.000000</td>\n",
       "      <td>-2.000000</td>\n",
       "    </tr>\n",
       "    <tr>\n",
       "      <th>25%</th>\n",
       "      <td>2021-10-13 00:00:00</td>\n",
       "      <td>2021-10-06 00:00:00</td>\n",
       "      <td>540.000000</td>\n",
       "      <td>5.000000</td>\n",
       "      <td>1.000000</td>\n",
       "      <td>230.000000</td>\n",
       "      <td>23.000000</td>\n",
       "    </tr>\n",
       "    <tr>\n",
       "      <th>50%</th>\n",
       "      <td>2022-07-14 00:00:00</td>\n",
       "      <td>2022-07-07 00:00:00</td>\n",
       "      <td>870.000000</td>\n",
       "      <td>11.000000</td>\n",
       "      <td>2.000000</td>\n",
       "      <td>624.000000</td>\n",
       "      <td>33.000000</td>\n",
       "    </tr>\n",
       "    <tr>\n",
       "      <th>75%</th>\n",
       "      <td>2023-04-18 00:00:00</td>\n",
       "      <td>2023-04-13 00:00:00</td>\n",
       "      <td>1145.000000</td>\n",
       "      <td>16.000000</td>\n",
       "      <td>2.000000</td>\n",
       "      <td>626.000000</td>\n",
       "      <td>46.000000</td>\n",
       "    </tr>\n",
       "    <tr>\n",
       "      <th>max</th>\n",
       "      <td>2023-12-31 00:00:00</td>\n",
       "      <td>2023-12-31 00:00:00</td>\n",
       "      <td>1439.000000</td>\n",
       "      <td>21.000000</td>\n",
       "      <td>2.000000</td>\n",
       "      <td>956.000000</td>\n",
       "      <td>99.000000</td>\n",
       "    </tr>\n",
       "    <tr>\n",
       "      <th>std</th>\n",
       "      <td>NaN</td>\n",
       "      <td>NaN</td>\n",
       "      <td>404.381538</td>\n",
       "      <td>6.225582</td>\n",
       "      <td>0.497973</td>\n",
       "      <td>240.542475</td>\n",
       "      <td>18.003355</td>\n",
       "    </tr>\n",
       "  </tbody>\n",
       "</table>\n",
       "</div>"
      ],
      "text/plain": [
       "                       Date Reported                  Date Occurred  \\\n",
       "count                         230545                         230545   \n",
       "mean   2022-07-13 12:54:00.023422464  2022-07-06 11:02:39.852522752   \n",
       "min              2021-01-01 00:00:00            2020-01-01 00:00:00   \n",
       "25%              2021-10-13 00:00:00            2021-10-06 00:00:00   \n",
       "50%              2022-07-14 00:00:00            2022-07-07 00:00:00   \n",
       "75%              2023-04-18 00:00:00            2023-04-13 00:00:00   \n",
       "max              2023-12-31 00:00:00            2023-12-31 00:00:00   \n",
       "std                              NaN                            NaN   \n",
       "\n",
       "       Time Occurred      Area Code       Part 1-2     Crime Code  \\\n",
       "count  230545.000000  230545.000000  230545.000000  230545.000000   \n",
       "mean      813.341899      10.466881       1.544991     508.044629   \n",
       "min         1.000000       1.000000       1.000000     110.000000   \n",
       "25%       540.000000       5.000000       1.000000     230.000000   \n",
       "50%       870.000000      11.000000       2.000000     624.000000   \n",
       "75%      1145.000000      16.000000       2.000000     626.000000   \n",
       "max      1439.000000      21.000000       2.000000     956.000000   \n",
       "std       404.381538       6.225582       0.497973     240.542475   \n",
       "\n",
       "          Victim Age  \n",
       "count  230545.000000  \n",
       "mean       34.451513  \n",
       "min        -2.000000  \n",
       "25%        23.000000  \n",
       "50%        33.000000  \n",
       "75%        46.000000  \n",
       "max        99.000000  \n",
       "std        18.003355  "
      ]
     },
     "execution_count": 5,
     "metadata": {},
     "output_type": "execute_result"
    }
   ],
   "source": [
    "crime.describe()"
   ]
  },
  {
   "cell_type": "code",
   "execution_count": 6,
   "metadata": {},
   "outputs": [
    {
     "name": "stdout",
     "output_type": "stream",
     "text": [
      "<class 'pandas.core.frame.DataFrame'>\n",
      "RangeIndex: 230545 entries, 0 to 230544\n",
      "Data columns (total 15 columns):\n",
      " #   Column                Non-Null Count   Dtype         \n",
      "---  ------                --------------   -----         \n",
      " 0   Date Reported         230545 non-null  datetime64[ns]\n",
      " 1   Date Occurred         230545 non-null  datetime64[ns]\n",
      " 2   Time Occurred         230545 non-null  int32         \n",
      " 3   Area Code             230545 non-null  int64         \n",
      " 4   Area Name             230545 non-null  object        \n",
      " 5   Part 1-2              230545 non-null  int64         \n",
      " 6   Crime Code            230545 non-null  int64         \n",
      " 7   Crime Description     230545 non-null  object        \n",
      " 8   Victim Age            230545 non-null  int64         \n",
      " 9   Victim Sex            230545 non-null  object        \n",
      " 10  Victim Descent        230545 non-null  object        \n",
      " 11  Premises Description  230545 non-null  object        \n",
      " 12  Weapon Description    230545 non-null  object        \n",
      " 13  Status Description    230545 non-null  object        \n",
      " 14  Location              230545 non-null  object        \n",
      "dtypes: datetime64[ns](2), int32(1), int64(4), object(8)\n",
      "memory usage: 25.5+ MB\n"
     ]
    }
   ],
   "source": [
    "crime.info()"
   ]
  },
  {
   "cell_type": "code",
   "execution_count": 7,
   "metadata": {},
   "outputs": [
    {
     "data": {
      "text/plain": [
       "Date Reported            1095\n",
       "Date Occurred            1383\n",
       "Time Occurred            1433\n",
       "Area Code                  21\n",
       "Area Name                  21\n",
       "Part 1-2                    2\n",
       "Crime Code                116\n",
       "Crime Description         116\n",
       "Victim Age                101\n",
       "Victim Sex                  4\n",
       "Victim Descent             19\n",
       "Premises Description      293\n",
       "Weapon Description         77\n",
       "Status Description          6\n",
       "Location                35528\n",
       "dtype: int64"
      ]
     },
     "execution_count": 7,
     "metadata": {},
     "output_type": "execute_result"
    }
   ],
   "source": [
    "crime.nunique()"
   ]
  },
  {
   "cell_type": "code",
   "execution_count": 8,
   "metadata": {},
   "outputs": [
    {
     "data": {
      "image/png": "[encoded data removed]",
      "text/plain": [
       "<Figure size 2000x1500 with 9 Axes>"
      ]
     },
     "metadata": {},
     "output_type": "display_data"
    }
   ],
   "source": [
    "crime.hist(bins=50, figsize=(20, 15))\n",
    "plt.show()"
   ]
  },
  {
   "cell_type": "markdown",
   "metadata": {},
   "source": [
    "# Acenstralidade"
   ]
  },
  {
   "cell_type": "code",
   "execution_count": 9,
   "metadata": {},
   "outputs": [
    {
     "data": {
      "text/plain": [
       "array(['H', 'W', 'O', 'X', 'B', 'A', 'F', 'K', 'P', 'I', 'C', 'U', 'V',\n",
       "       'G', 'S', 'J', 'L', 'D', 'Z'], dtype=object)"
      ]
     },
     "execution_count": 9,
     "metadata": {},
     "output_type": "execute_result"
    }
   ],
   "source": [
    "crime['Victim Descent'].unique()"
   ]
  },
  {
   "cell_type": "code",
   "execution_count": 10,
   "metadata": {},
   "outputs": [],
   "source": [
    "descent_mapping = {\n",
    "    'H': 'Hispanic',\n",
    "    'W': 'White',\n",
    "    'O': 'Other',\n",
    "    'X': 'Unknown',\n",
    "    'B': 'Black',\n",
    "    'A': 'Asian',\n",
    "    'F': 'Filipino',\n",
    "    'K': 'Korean',\n",
    "    'P': 'Pacific Islander',\n",
    "    'I': 'American Indian/Alaska Native',\n",
    "    'C': 'Chinese',\n",
    "    'U': 'Hawaiian',\n",
    "    'V': 'Vietnamese',\n",
    "    'G': 'Guamanian',\n",
    "    'S': 'Samoan',\n",
    "    'J': 'Japanese',\n",
    "    'L': 'Cambodian',\n",
    "    'D': 'Laotian',\n",
    "    'Z': 'Asian Indian'\n",
    "}\n",
    "\n",
    "crime['Victim Descent'] = crime['Victim Descent'].map(descent_mapping)"
   ]
  },
  {
   "cell_type": "code",
   "execution_count": 11,
   "metadata": {},
   "outputs": [
    {
     "data": {
      "text/plain": [
       "array(['Hispanic', 'White', 'Other', 'Unknown', 'Black', 'Asian',\n",
       "       'Filipino', 'Korean', 'Pacific Islander',\n",
       "       'American Indian/Alaska Native', 'Chinese', 'Hawaiian',\n",
       "       'Vietnamese', 'Guamanian', 'Samoan', 'Japanese', 'Cambodian',\n",
       "       'Laotian', 'Asian Indian'], dtype=object)"
      ]
     },
     "execution_count": 11,
     "metadata": {},
     "output_type": "execute_result"
    }
   ],
   "source": [
    "crime['Victim Descent'].unique()"
   ]
  },
  {
   "cell_type": "markdown",
   "metadata": {},
   "source": [
    "# Sexo da Vítima"
   ]
  },
  {
   "cell_type": "code",
   "execution_count": 12,
   "metadata": {},
   "outputs": [
    {
     "data": {
      "text/plain": [
       "array(['F', 'M', 'X', 'H'], dtype=object)"
      ]
     },
     "execution_count": 12,
     "metadata": {},
     "output_type": "execute_result"
    }
   ],
   "source": [
    "crime['Victim Sex'].unique()"
   ]
  },
  {
   "cell_type": "code",
   "execution_count": 13,
   "metadata": {},
   "outputs": [],
   "source": [
    "sex_mapping = {\n",
    "    'F': 'Female',\n",
    "    'M': 'Male',\n",
    "    'X': 'Unknown',\n",
    "    'H': 'Other'\n",
    "}\n",
    "\n",
    "crime['Victim Sex'] = crime['Victim Sex'].map(sex_mapping)"
   ]
  },
  {
   "cell_type": "code",
   "execution_count": 14,
   "metadata": {},
   "outputs": [
    {
     "data": {
      "text/plain": [
       "array(['Female', 'Male', 'Unknown', 'Other'], dtype=object)"
      ]
     },
     "execution_count": 14,
     "metadata": {},
     "output_type": "execute_result"
    }
   ],
   "source": [
    "crime['Victim Sex'].unique()"
   ]
  },
  {
   "cell_type": "code",
   "execution_count": 15,
   "metadata": {},
   "outputs": [
    {
     "data": {
      "image/png": "[encoded data removed]",
      "text/plain": [
       "<Figure size 640x480 with 1 Axes>"
      ]
     },
     "metadata": {},
     "output_type": "display_data"
    }
   ],
   "source": [
    "crime['Victim Sex'].value_counts().plot(kind='bar')\n",
    "plt.show()"
   ]
  },
  {
   "cell_type": "markdown",
   "metadata": {},
   "source": [
    "# Idade da Vítima"
   ]
  },
  {
   "cell_type": "code",
   "execution_count": 16,
   "metadata": {},
   "outputs": [
    {
     "name": "stdout",
     "output_type": "stream",
     "text": [
      "[np.int64(-2), np.int64(-1), np.int64(0), np.int64(2), np.int64(3), np.int64(4), np.int64(5), np.int64(6), np.int64(7), np.int64(8), np.int64(9), np.int64(10), np.int64(11), np.int64(12), np.int64(13), np.int64(14), np.int64(15), np.int64(16), np.int64(17), np.int64(18), np.int64(19), np.int64(20), np.int64(21), np.int64(22), np.int64(23), np.int64(24), np.int64(25), np.int64(26), np.int64(27), np.int64(28), np.int64(29), np.int64(30), np.int64(31), np.int64(32), np.int64(33), np.int64(34), np.int64(35), np.int64(36), np.int64(37), np.int64(38), np.int64(39), np.int64(40), np.int64(41), np.int64(42), np.int64(43), np.int64(44), np.int64(45), np.int64(46), np.int64(47), np.int64(48), np.int64(49), np.int64(50), np.int64(51), np.int64(52), np.int64(53), np.int64(54), np.int64(55), np.int64(56), np.int64(57), np.int64(58), np.int64(59), np.int64(60), np.int64(61), np.int64(62), np.int64(63), np.int64(64), np.int64(65), np.int64(66), np.int64(67), np.int64(68), np.int64(69), np.int64(70), np.int64(71), np.int64(72), np.int64(73), np.int64(74), np.int64(75), np.int64(76), np.int64(77), np.int64(78), np.int64(79), np.int64(80), np.int64(81), np.int64(82), np.int64(83), np.int64(84), np.int64(85), np.int64(86), np.int64(87), np.int64(88), np.int64(89), np.int64(90), np.int64(91), np.int64(92), np.int64(93), np.int64(94), np.int64(95), np.int64(96), np.int64(97), np.int64(98), np.int64(99)]\n"
     ]
    }
   ],
   "source": [
    "ages = crime['Victim Age'].unique()\n",
    "print(sorted(ages))"
   ]
  },
  {
   "cell_type": "code",
   "execution_count": 17,
   "metadata": {},
   "outputs": [
    {
     "data": {
      "text/html": [
       "<div>\n",
       "<style scoped>\n",
       "    .dataframe tbody tr th:only-of-type {\n",
       "        vertical-align: middle;\n",
       "    }\n",
       "\n",
       "    .dataframe tbody tr th {\n",
       "        vertical-align: top;\n",
       "    }\n",
       "\n",
       "    .dataframe thead th {\n",
       "        text-align: right;\n",
       "    }\n",
       "</style>\n",
       "<table border=\"1\" class=\"dataframe\">\n",
       "  <thead>\n",
       "    <tr style=\"text-align: right;\">\n",
       "      <th></th>\n",
       "      <th>Date Reported</th>\n",
       "      <th>Date Occurred</th>\n",
       "      <th>Time Occurred</th>\n",
       "      <th>Area Code</th>\n",
       "      <th>Area Name</th>\n",
       "      <th>Part 1-2</th>\n",
       "      <th>Crime Code</th>\n",
       "      <th>Crime Description</th>\n",
       "      <th>Victim Age</th>\n",
       "      <th>Victim Sex</th>\n",
       "      <th>Victim Descent</th>\n",
       "      <th>Premises Description</th>\n",
       "      <th>Weapon Description</th>\n",
       "      <th>Status Description</th>\n",
       "      <th>Location</th>\n",
       "    </tr>\n",
       "  </thead>\n",
       "  <tbody>\n",
       "    <tr>\n",
       "      <th>8</th>\n",
       "      <td>2023-06-02</td>\n",
       "      <td>2020-05-31</td>\n",
       "      <td>270</td>\n",
       "      <td>6</td>\n",
       "      <td>Hollywood</td>\n",
       "      <td>1</td>\n",
       "      <td>310</td>\n",
       "      <td>BURGLARY</td>\n",
       "      <td>-2</td>\n",
       "      <td>Unknown</td>\n",
       "      <td>Unknown</td>\n",
       "      <td>OTHER BUSINESS</td>\n",
       "      <td>UNKNOWN WEAPON/OTHER WEAPON</td>\n",
       "      <td>Invest Cont</td>\n",
       "      <td>1700    ORCHID                       AV</td>\n",
       "    </tr>\n",
       "    <tr>\n",
       "      <th>79</th>\n",
       "      <td>2023-06-09</td>\n",
       "      <td>2020-06-01</td>\n",
       "      <td>720</td>\n",
       "      <td>14</td>\n",
       "      <td>Pacific</td>\n",
       "      <td>2</td>\n",
       "      <td>930</td>\n",
       "      <td>CRIMINAL THREATS - NO WEAPON DISPLAYED</td>\n",
       "      <td>-2</td>\n",
       "      <td>Male</td>\n",
       "      <td>White</td>\n",
       "      <td>SINGLE FAMILY DWELLING</td>\n",
       "      <td>VERBAL THREAT</td>\n",
       "      <td>Invest Cont</td>\n",
       "      <td>3500    GRAND VIEW                   BL</td>\n",
       "    </tr>\n",
       "    <tr>\n",
       "      <th>45443</th>\n",
       "      <td>2023-06-26</td>\n",
       "      <td>2021-11-25</td>\n",
       "      <td>780</td>\n",
       "      <td>18</td>\n",
       "      <td>Southeast</td>\n",
       "      <td>1</td>\n",
       "      <td>761</td>\n",
       "      <td>BRANDISH WEAPON</td>\n",
       "      <td>-1</td>\n",
       "      <td>Female</td>\n",
       "      <td>Hispanic</td>\n",
       "      <td>PROJECT/TENEMENT/PUBLIC HOUSING</td>\n",
       "      <td>KNIFE WITH BLADE OVER 6 INCHES IN LENGTH</td>\n",
       "      <td>Invest Cont</td>\n",
       "      <td>100 W  108TH                        ST</td>\n",
       "    </tr>\n",
       "  </tbody>\n",
       "</table>\n",
       "</div>"
      ],
      "text/plain": [
       "      Date Reported Date Occurred  Time Occurred  Area Code  Area Name  \\\n",
       "8        2023-06-02    2020-05-31            270          6  Hollywood   \n",
       "79       2023-06-09    2020-06-01            720         14    Pacific   \n",
       "45443    2023-06-26    2021-11-25            780         18  Southeast   \n",
       "\n",
       "       Part 1-2  Crime Code                       Crime Description  \\\n",
       "8             1         310                                BURGLARY   \n",
       "79            2         930  CRIMINAL THREATS - NO WEAPON DISPLAYED   \n",
       "45443         1         761                         BRANDISH WEAPON   \n",
       "\n",
       "       Victim Age Victim Sex Victim Descent             Premises Description  \\\n",
       "8              -2    Unknown        Unknown                   OTHER BUSINESS   \n",
       "79             -2       Male          White           SINGLE FAMILY DWELLING   \n",
       "45443          -1     Female       Hispanic  PROJECT/TENEMENT/PUBLIC HOUSING   \n",
       "\n",
       "                             Weapon Description Status Description  \\\n",
       "8                   UNKNOWN WEAPON/OTHER WEAPON        Invest Cont   \n",
       "79                                VERBAL THREAT        Invest Cont   \n",
       "45443  KNIFE WITH BLADE OVER 6 INCHES IN LENGTH        Invest Cont   \n",
       "\n",
       "                                      Location  \n",
       "8      1700    ORCHID                       AV  \n",
       "79     3500    GRAND VIEW                   BL  \n",
       "45443   100 W  108TH                        ST  "
      ]
     },
     "execution_count": 17,
     "metadata": {},
     "output_type": "execute_result"
    }
   ],
   "source": [
    "negative_age_rows = crime[crime['Victim Age'] < 0]\n",
    "pd.DataFrame(negative_age_rows)"
   ]
  },
  {
   "cell_type": "code",
   "execution_count": 18,
   "metadata": {},
   "outputs": [
    {
     "data": {
      "text/plain": [
       "(230545, 15)"
      ]
     },
     "execution_count": 18,
     "metadata": {},
     "output_type": "execute_result"
    }
   ],
   "source": [
    "crime.shape"
   ]
  },
  {
   "cell_type": "code",
   "execution_count": 19,
   "metadata": {},
   "outputs": [],
   "source": [
    "crime = crime[crime['Victim Age'] >= 0]"
   ]
  },
  {
   "cell_type": "code",
   "execution_count": 20,
   "metadata": {},
   "outputs": [
    {
     "data": {
      "text/plain": [
       "(230542, 15)"
      ]
     },
     "execution_count": 20,
     "metadata": {},
     "output_type": "execute_result"
    }
   ],
   "source": [
    "crime.shape"
   ]
  },
  {
   "cell_type": "code",
   "execution_count": 21,
   "metadata": {},
   "outputs": [
    {
     "data": {
      "text/plain": [
       "Victim Age       1.000000\n",
       "Crime Code       0.040291\n",
       "Part 1-2         0.040209\n",
       "Time Occurred    0.010511\n",
       "Area Code       -0.005569\n",
       "Name: Victim Age, dtype: float64"
      ]
     },
     "execution_count": 21,
     "metadata": {},
     "output_type": "execute_result"
    }
   ],
   "source": [
    "corr_matrix = crime.select_dtypes(include=[float, int]).corr()\n",
    "corr_matrix['Victim Age'].sort_values(ascending=False)"
   ]
  },
  {
   "cell_type": "code",
   "execution_count": 22,
   "metadata": {},
   "outputs": [
    {
     "data": {
      "image/png": "[encoded data removed]",
      "text/plain": [
       "<Figure size 2000x700 with 1 Axes>"
      ]
     },
     "metadata": {},
     "output_type": "display_data"
    }
   ],
   "source": [
    "plt.figure(figsize=(20, 7))\n",
    "plt.hist(crime['Victim Age'], bins=99)\n",
    "plt.show()"
   ]
  },
  {
   "cell_type": "markdown",
   "metadata": {},
   "source": [
    "Quando a idade da vitima é 0, a idade é desconhecida"
   ]
  },
  {
   "cell_type": "code",
   "execution_count": 23,
   "metadata": {},
   "outputs": [],
   "source": [
    "crime_un = crime[((crime['Victim Age'] == 0) | (crime['Victim Descent'] == 'Unknown') | (crime['Victim Sex'] == 'Unknown'))]\n",
    "\n",
    "\n",
    "crime_filtered = crime[~((crime['Victim Age'] == 0) | \n",
    "                         (crime['Victim Descent'] == 'Unknown') | \n",
    "                         (crime['Victim Sex'] == 'Unknown'))]"
   ]
  },
  {
   "cell_type": "code",
   "execution_count": 24,
   "metadata": {},
   "outputs": [
    {
     "name": "stdout",
     "output_type": "stream",
     "text": [
      "[np.int64(2), np.int64(3), np.int64(4), np.int64(5), np.int64(6), np.int64(7), np.int64(8), np.int64(9), np.int64(10), np.int64(11), np.int64(12), np.int64(13), np.int64(14), np.int64(15), np.int64(16), np.int64(17), np.int64(18), np.int64(19), np.int64(20), np.int64(21), np.int64(22), np.int64(23), np.int64(24), np.int64(25), np.int64(26), np.int64(27), np.int64(28), np.int64(29), np.int64(30), np.int64(31), np.int64(32), np.int64(33), np.int64(34), np.int64(35), np.int64(36), np.int64(37), np.int64(38), np.int64(39), np.int64(40), np.int64(41), np.int64(42), np.int64(43), np.int64(44), np.int64(45), np.int64(46), np.int64(47), np.int64(48), np.int64(49), np.int64(50), np.int64(51), np.int64(52), np.int64(53), np.int64(54), np.int64(55), np.int64(56), np.int64(57), np.int64(58), np.int64(59), np.int64(60), np.int64(61), np.int64(62), np.int64(63), np.int64(64), np.int64(65), np.int64(66), np.int64(67), np.int64(68), np.int64(69), np.int64(70), np.int64(71), np.int64(72), np.int64(73), np.int64(74), np.int64(75), np.int64(76), np.int64(77), np.int64(78), np.int64(79), np.int64(80), np.int64(81), np.int64(82), np.int64(83), np.int64(84), np.int64(85), np.int64(86), np.int64(87), np.int64(88), np.int64(89), np.int64(90), np.int64(91), np.int64(92), np.int64(93), np.int64(94), np.int64(95), np.int64(96), np.int64(97), np.int64(98), np.int64(99)]\n"
     ]
    }
   ],
   "source": [
    "ages = crime_filtered['Victim Age'].unique()\n",
    "print(sorted(ages))"
   ]
  },
  {
   "cell_type": "code",
   "execution_count": 25,
   "metadata": {},
   "outputs": [
    {
     "data": {
      "image/png": "[encoded data removed]",
      "text/plain": [
       "<Figure size 2000x700 with 1 Axes>"
      ]
     },
     "metadata": {},
     "output_type": "display_data"
    }
   ],
   "source": [
    "plt.figure(figsize=(20, 7))\n",
    "plt.hist(crime_filtered['Victim Age'], bins=98) # não tem idade=1 nem idade>=100, então 98 bins para mostrar cada barra por idade\n",
    "plt.show()"
   ]
  },
  {
   "cell_type": "code",
   "execution_count": 26,
   "metadata": {},
   "outputs": [
    {
     "data": {
      "text/html": [
       "<div>\n",
       "<style scoped>\n",
       "    .dataframe tbody tr th:only-of-type {\n",
       "        vertical-align: middle;\n",
       "    }\n",
       "\n",
       "    .dataframe tbody tr th {\n",
       "        vertical-align: top;\n",
       "    }\n",
       "\n",
       "    .dataframe thead th {\n",
       "        text-align: right;\n",
       "    }\n",
       "</style>\n",
       "<table border=\"1\" class=\"dataframe\">\n",
       "  <thead>\n",
       "    <tr style=\"text-align: right;\">\n",
       "      <th>Victim Age</th>\n",
       "      <th>2</th>\n",
       "      <th>3</th>\n",
       "      <th>4</th>\n",
       "      <th>5</th>\n",
       "      <th>6</th>\n",
       "      <th>7</th>\n",
       "      <th>8</th>\n",
       "      <th>9</th>\n",
       "      <th>10</th>\n",
       "      <th>11</th>\n",
       "      <th>...</th>\n",
       "      <th>90</th>\n",
       "      <th>91</th>\n",
       "      <th>92</th>\n",
       "      <th>93</th>\n",
       "      <th>94</th>\n",
       "      <th>95</th>\n",
       "      <th>96</th>\n",
       "      <th>97</th>\n",
       "      <th>98</th>\n",
       "      <th>99</th>\n",
       "    </tr>\n",
       "    <tr>\n",
       "      <th>Crime Description</th>\n",
       "      <th></th>\n",
       "      <th></th>\n",
       "      <th></th>\n",
       "      <th></th>\n",
       "      <th></th>\n",
       "      <th></th>\n",
       "      <th></th>\n",
       "      <th></th>\n",
       "      <th></th>\n",
       "      <th></th>\n",
       "      <th></th>\n",
       "      <th></th>\n",
       "      <th></th>\n",
       "      <th></th>\n",
       "      <th></th>\n",
       "      <th></th>\n",
       "      <th></th>\n",
       "      <th></th>\n",
       "      <th></th>\n",
       "      <th></th>\n",
       "      <th></th>\n",
       "    </tr>\n",
       "  </thead>\n",
       "  <tbody>\n",
       "    <tr>\n",
       "      <th>ARSON</th>\n",
       "      <td>0</td>\n",
       "      <td>0</td>\n",
       "      <td>0</td>\n",
       "      <td>0</td>\n",
       "      <td>0</td>\n",
       "      <td>0</td>\n",
       "      <td>1</td>\n",
       "      <td>0</td>\n",
       "      <td>0</td>\n",
       "      <td>0</td>\n",
       "      <td>...</td>\n",
       "      <td>1</td>\n",
       "      <td>0</td>\n",
       "      <td>0</td>\n",
       "      <td>0</td>\n",
       "      <td>0</td>\n",
       "      <td>0</td>\n",
       "      <td>0</td>\n",
       "      <td>0</td>\n",
       "      <td>0</td>\n",
       "      <td>1</td>\n",
       "    </tr>\n",
       "    <tr>\n",
       "      <th>ASSAULT WITH DEADLY WEAPON ON POLICE OFFICER</th>\n",
       "      <td>2</td>\n",
       "      <td>0</td>\n",
       "      <td>0</td>\n",
       "      <td>0</td>\n",
       "      <td>0</td>\n",
       "      <td>0</td>\n",
       "      <td>0</td>\n",
       "      <td>1</td>\n",
       "      <td>0</td>\n",
       "      <td>0</td>\n",
       "      <td>...</td>\n",
       "      <td>0</td>\n",
       "      <td>0</td>\n",
       "      <td>0</td>\n",
       "      <td>0</td>\n",
       "      <td>0</td>\n",
       "      <td>0</td>\n",
       "      <td>0</td>\n",
       "      <td>0</td>\n",
       "      <td>0</td>\n",
       "      <td>0</td>\n",
       "    </tr>\n",
       "    <tr>\n",
       "      <th>ASSAULT WITH DEADLY WEAPON, AGGRAVATED ASSAULT</th>\n",
       "      <td>29</td>\n",
       "      <td>37</td>\n",
       "      <td>20</td>\n",
       "      <td>20</td>\n",
       "      <td>18</td>\n",
       "      <td>20</td>\n",
       "      <td>24</td>\n",
       "      <td>27</td>\n",
       "      <td>30</td>\n",
       "      <td>43</td>\n",
       "      <td>...</td>\n",
       "      <td>3</td>\n",
       "      <td>8</td>\n",
       "      <td>2</td>\n",
       "      <td>2</td>\n",
       "      <td>1</td>\n",
       "      <td>3</td>\n",
       "      <td>0</td>\n",
       "      <td>1</td>\n",
       "      <td>3</td>\n",
       "      <td>12</td>\n",
       "    </tr>\n",
       "    <tr>\n",
       "      <th>ATTEMPTED ROBBERY</th>\n",
       "      <td>0</td>\n",
       "      <td>0</td>\n",
       "      <td>0</td>\n",
       "      <td>0</td>\n",
       "      <td>0</td>\n",
       "      <td>0</td>\n",
       "      <td>3</td>\n",
       "      <td>0</td>\n",
       "      <td>2</td>\n",
       "      <td>3</td>\n",
       "      <td>...</td>\n",
       "      <td>1</td>\n",
       "      <td>0</td>\n",
       "      <td>0</td>\n",
       "      <td>0</td>\n",
       "      <td>0</td>\n",
       "      <td>2</td>\n",
       "      <td>0</td>\n",
       "      <td>0</td>\n",
       "      <td>0</td>\n",
       "      <td>0</td>\n",
       "    </tr>\n",
       "    <tr>\n",
       "      <th>BATTERY - SIMPLE ASSAULT</th>\n",
       "      <td>11</td>\n",
       "      <td>15</td>\n",
       "      <td>21</td>\n",
       "      <td>22</td>\n",
       "      <td>25</td>\n",
       "      <td>25</td>\n",
       "      <td>26</td>\n",
       "      <td>50</td>\n",
       "      <td>48</td>\n",
       "      <td>172</td>\n",
       "      <td>...</td>\n",
       "      <td>21</td>\n",
       "      <td>17</td>\n",
       "      <td>11</td>\n",
       "      <td>2</td>\n",
       "      <td>6</td>\n",
       "      <td>4</td>\n",
       "      <td>5</td>\n",
       "      <td>7</td>\n",
       "      <td>7</td>\n",
       "      <td>24</td>\n",
       "    </tr>\n",
       "    <tr>\n",
       "      <th>...</th>\n",
       "      <td>...</td>\n",
       "      <td>...</td>\n",
       "      <td>...</td>\n",
       "      <td>...</td>\n",
       "      <td>...</td>\n",
       "      <td>...</td>\n",
       "      <td>...</td>\n",
       "      <td>...</td>\n",
       "      <td>...</td>\n",
       "      <td>...</td>\n",
       "      <td>...</td>\n",
       "      <td>...</td>\n",
       "      <td>...</td>\n",
       "      <td>...</td>\n",
       "      <td>...</td>\n",
       "      <td>...</td>\n",
       "      <td>...</td>\n",
       "      <td>...</td>\n",
       "      <td>...</td>\n",
       "      <td>...</td>\n",
       "      <td>...</td>\n",
       "    </tr>\n",
       "    <tr>\n",
       "      <th>VEHICLE, STOLEN - OTHER (MOTORIZED SCOOTERS, BIKES, ETC)</th>\n",
       "      <td>0</td>\n",
       "      <td>0</td>\n",
       "      <td>0</td>\n",
       "      <td>0</td>\n",
       "      <td>0</td>\n",
       "      <td>0</td>\n",
       "      <td>0</td>\n",
       "      <td>0</td>\n",
       "      <td>0</td>\n",
       "      <td>0</td>\n",
       "      <td>...</td>\n",
       "      <td>0</td>\n",
       "      <td>0</td>\n",
       "      <td>0</td>\n",
       "      <td>0</td>\n",
       "      <td>0</td>\n",
       "      <td>0</td>\n",
       "      <td>0</td>\n",
       "      <td>0</td>\n",
       "      <td>0</td>\n",
       "      <td>0</td>\n",
       "    </tr>\n",
       "    <tr>\n",
       "      <th>VIOLATION OF COURT ORDER</th>\n",
       "      <td>1</td>\n",
       "      <td>0</td>\n",
       "      <td>0</td>\n",
       "      <td>2</td>\n",
       "      <td>0</td>\n",
       "      <td>0</td>\n",
       "      <td>0</td>\n",
       "      <td>1</td>\n",
       "      <td>0</td>\n",
       "      <td>0</td>\n",
       "      <td>...</td>\n",
       "      <td>0</td>\n",
       "      <td>0</td>\n",
       "      <td>0</td>\n",
       "      <td>0</td>\n",
       "      <td>0</td>\n",
       "      <td>0</td>\n",
       "      <td>1</td>\n",
       "      <td>0</td>\n",
       "      <td>0</td>\n",
       "      <td>0</td>\n",
       "    </tr>\n",
       "    <tr>\n",
       "      <th>VIOLATION OF RESTRAINING ORDER</th>\n",
       "      <td>0</td>\n",
       "      <td>0</td>\n",
       "      <td>0</td>\n",
       "      <td>0</td>\n",
       "      <td>0</td>\n",
       "      <td>0</td>\n",
       "      <td>0</td>\n",
       "      <td>0</td>\n",
       "      <td>0</td>\n",
       "      <td>0</td>\n",
       "      <td>...</td>\n",
       "      <td>0</td>\n",
       "      <td>0</td>\n",
       "      <td>0</td>\n",
       "      <td>1</td>\n",
       "      <td>0</td>\n",
       "      <td>0</td>\n",
       "      <td>0</td>\n",
       "      <td>0</td>\n",
       "      <td>0</td>\n",
       "      <td>1</td>\n",
       "    </tr>\n",
       "    <tr>\n",
       "      <th>VIOLATION OF TEMPORARY RESTRAINING ORDER</th>\n",
       "      <td>0</td>\n",
       "      <td>0</td>\n",
       "      <td>0</td>\n",
       "      <td>0</td>\n",
       "      <td>0</td>\n",
       "      <td>0</td>\n",
       "      <td>0</td>\n",
       "      <td>0</td>\n",
       "      <td>0</td>\n",
       "      <td>0</td>\n",
       "      <td>...</td>\n",
       "      <td>0</td>\n",
       "      <td>0</td>\n",
       "      <td>0</td>\n",
       "      <td>0</td>\n",
       "      <td>0</td>\n",
       "      <td>0</td>\n",
       "      <td>0</td>\n",
       "      <td>0</td>\n",
       "      <td>0</td>\n",
       "      <td>0</td>\n",
       "    </tr>\n",
       "    <tr>\n",
       "      <th>WEAPONS POSSESSION/BOMBING</th>\n",
       "      <td>0</td>\n",
       "      <td>0</td>\n",
       "      <td>0</td>\n",
       "      <td>0</td>\n",
       "      <td>0</td>\n",
       "      <td>0</td>\n",
       "      <td>0</td>\n",
       "      <td>0</td>\n",
       "      <td>0</td>\n",
       "      <td>0</td>\n",
       "      <td>...</td>\n",
       "      <td>0</td>\n",
       "      <td>0</td>\n",
       "      <td>0</td>\n",
       "      <td>0</td>\n",
       "      <td>0</td>\n",
       "      <td>0</td>\n",
       "      <td>0</td>\n",
       "      <td>0</td>\n",
       "      <td>0</td>\n",
       "      <td>0</td>\n",
       "    </tr>\n",
       "  </tbody>\n",
       "</table>\n",
       "<p>107 rows × 98 columns</p>\n",
       "</div>"
      ],
      "text/plain": [
       "Victim Age                                          2   3   4   5   6   7   \\\n",
       "Crime Description                                                            \n",
       "ARSON                                                0   0   0   0   0   0   \n",
       "ASSAULT WITH DEADLY WEAPON ON POLICE OFFICER         2   0   0   0   0   0   \n",
       "ASSAULT WITH DEADLY WEAPON, AGGRAVATED ASSAULT      29  37  20  20  18  20   \n",
       "ATTEMPTED ROBBERY                                    0   0   0   0   0   0   \n",
       "BATTERY - SIMPLE ASSAULT                            11  15  21  22  25  25   \n",
       "...                                                 ..  ..  ..  ..  ..  ..   \n",
       "VEHICLE, STOLEN - OTHER (MOTORIZED SCOOTERS, BI...   0   0   0   0   0   0   \n",
       "VIOLATION OF COURT ORDER                             1   0   0   2   0   0   \n",
       "VIOLATION OF RESTRAINING ORDER                       0   0   0   0   0   0   \n",
       "VIOLATION OF TEMPORARY RESTRAINING ORDER             0   0   0   0   0   0   \n",
       "WEAPONS POSSESSION/BOMBING                           0   0   0   0   0   0   \n",
       "\n",
       "Victim Age                                          8   9   10   11  ...  90  \\\n",
       "Crime Description                                                    ...       \n",
       "ARSON                                                1   0   0    0  ...   1   \n",
       "ASSAULT WITH DEADLY WEAPON ON POLICE OFFICER         0   1   0    0  ...   0   \n",
       "ASSAULT WITH DEADLY WEAPON, AGGRAVATED ASSAULT      24  27  30   43  ...   3   \n",
       "ATTEMPTED ROBBERY                                    3   0   2    3  ...   1   \n",
       "BATTERY - SIMPLE ASSAULT                            26  50  48  172  ...  21   \n",
       "...                                                 ..  ..  ..  ...  ...  ..   \n",
       "VEHICLE, STOLEN - OTHER (MOTORIZED SCOOTERS, BI...   0   0   0    0  ...   0   \n",
       "VIOLATION OF COURT ORDER                             0   1   0    0  ...   0   \n",
       "VIOLATION OF RESTRAINING ORDER                       0   0   0    0  ...   0   \n",
       "VIOLATION OF TEMPORARY RESTRAINING ORDER             0   0   0    0  ...   0   \n",
       "WEAPONS POSSESSION/BOMBING                           0   0   0    0  ...   0   \n",
       "\n",
       "Victim Age                                          91  92  93  94  95  96  \\\n",
       "Crime Description                                                            \n",
       "ARSON                                                0   0   0   0   0   0   \n",
       "ASSAULT WITH DEADLY WEAPON ON POLICE OFFICER         0   0   0   0   0   0   \n",
       "ASSAULT WITH DEADLY WEAPON, AGGRAVATED ASSAULT       8   2   2   1   3   0   \n",
       "ATTEMPTED ROBBERY                                    0   0   0   0   2   0   \n",
       "BATTERY - SIMPLE ASSAULT                            17  11   2   6   4   5   \n",
       "...                                                 ..  ..  ..  ..  ..  ..   \n",
       "VEHICLE, STOLEN - OTHER (MOTORIZED SCOOTERS, BI...   0   0   0   0   0   0   \n",
       "VIOLATION OF COURT ORDER                             0   0   0   0   0   1   \n",
       "VIOLATION OF RESTRAINING ORDER                       0   0   1   0   0   0   \n",
       "VIOLATION OF TEMPORARY RESTRAINING ORDER             0   0   0   0   0   0   \n",
       "WEAPONS POSSESSION/BOMBING                           0   0   0   0   0   0   \n",
       "\n",
       "Victim Age                                          97  98  99  \n",
       "Crime Description                                               \n",
       "ARSON                                                0   0   1  \n",
       "ASSAULT WITH DEADLY WEAPON ON POLICE OFFICER         0   0   0  \n",
       "ASSAULT WITH DEADLY WEAPON, AGGRAVATED ASSAULT       1   3  12  \n",
       "ATTEMPTED ROBBERY                                    0   0   0  \n",
       "BATTERY - SIMPLE ASSAULT                             7   7  24  \n",
       "...                                                 ..  ..  ..  \n",
       "VEHICLE, STOLEN - OTHER (MOTORIZED SCOOTERS, BI...   0   0   0  \n",
       "VIOLATION OF COURT ORDER                             0   0   0  \n",
       "VIOLATION OF RESTRAINING ORDER                       0   0   1  \n",
       "VIOLATION OF TEMPORARY RESTRAINING ORDER             0   0   0  \n",
       "WEAPONS POSSESSION/BOMBING                           0   0   0  \n",
       "\n",
       "[107 rows x 98 columns]"
      ]
     },
     "execution_count": 26,
     "metadata": {},
     "output_type": "execute_result"
    }
   ],
   "source": [
    "pd.crosstab(crime_filtered['Crime Description'], crime_filtered['Victim Age'])"
   ]
  },
  {
   "cell_type": "code",
   "execution_count": 27,
   "metadata": {},
   "outputs": [
    {
     "data": {
      "text/plain": [
       "Crime Description\n",
       "BATTERY - SIMPLE ASSAULT                          53070\n",
       "ASSAULT WITH DEADLY WEAPON, AGGRAVATED ASSAULT    38259\n",
       "INTIMATE PARTNER - SIMPLE ASSAULT                 32792\n",
       "ROBBERY                                           22846\n",
       "CRIMINAL THREATS - NO WEAPON DISPLAYED            13694\n",
       "                                                  ...  \n",
       "COUNTERFEIT                                           1\n",
       "THEFT, COIN MACHINE - PETTY ($950 & UNDER)            1\n",
       "DRUNK ROLL                                            1\n",
       "INCITING A RIOT                                       1\n",
       "DISHONEST EMPLOYEE - PETTY THEFT                      1\n",
       "Name: count, Length: 116, dtype: int64"
      ]
     },
     "execution_count": 27,
     "metadata": {},
     "output_type": "execute_result"
    }
   ],
   "source": [
    "crime['Crime Description'].value_counts()"
   ]
  },
  {
   "cell_type": "markdown",
   "metadata": {},
   "source": [
    "# Predições"
   ]
  },
  {
   "cell_type": "code",
   "execution_count": 28,
   "metadata": {},
   "outputs": [],
   "source": [
    "from sklearn.model_selection import train_test_split\n",
    "from sklearn.preprocessing import StandardScaler\n",
    "from sklearn.linear_model import LinearRegression\n",
    "from sklearn.metrics import mean_squared_error, r2_score"
   ]
  }
 ],
 "metadata": {
  "kernelspec": {
   "display_name": ".venv",
   "language": "python",
   "name": "python3"
  },
  "language_info": {
   "codemirror_mode": {
    "name": "ipython",
    "version": 3
   },
   "file_extension": ".py",
   "mimetype": "text/x-python",
   "name": "python",
   "nbconvert_exporter": "python",
   "pygments_lexer": "ipython3",
   "version": "3.12.4"
  }
 },
 "nbformat": 4,
 "nbformat_minor": 2
}
